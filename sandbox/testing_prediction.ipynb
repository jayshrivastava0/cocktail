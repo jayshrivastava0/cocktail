{
  "nbformat": 4,
  "nbformat_minor": 0,
  "metadata": {
    "colab": {
      "provenance": [],
      "authorship_tag": "ABX9TyN8Hgare58dk34HydCnQBZZ",
      "include_colab_link": true
    },
    "kernelspec": {
      "name": "python3",
      "display_name": "Python 3"
    },
    "language_info": {
      "name": "python"
    }
  },
  "cells": [
    {
      "cell_type": "markdown",
      "metadata": {
        "id": "view-in-github",
        "colab_type": "text"
      },
      "source": [
        "<a href=\"https://colab.research.google.com/github/realtechsupport/cocktail/blob/main/sandbox/testing_prediction.ipynb\" target=\"_parent\"><img src=\"https://colab.research.google.com/assets/colab-badge.svg\" alt=\"Open In Colab\"/></a>"
      ]
    },
    {
      "cell_type": "code",
      "source": [
        "from google.colab import drive\n",
        "drive.mount(\"/content/gdrive\")"
      ],
      "metadata": {
        "colab": {
          "base_uri": "https://localhost:8080/"
        },
        "id": "L8x6SWWPIQux",
        "outputId": "103c7fbe-302f-4816-c7a2-62ddc76c5015"
      },
      "execution_count": 4,
      "outputs": [
        {
          "output_type": "stream",
          "name": "stdout",
          "text": [
            "Mounted at /content/gdrive\n"
          ]
        }
      ]
    },
    {
      "cell_type": "code",
      "execution_count": 1,
      "metadata": {
        "colab": {
          "base_uri": "https://localhost:8080/"
        },
        "id": "RiyF9MmFDB1H",
        "outputId": "b8eceda7-a970-47ca-d8b5-8b0f99e7ac71"
      },
      "outputs": [
        {
          "output_type": "stream",
          "name": "stdout",
          "text": [
            "Collecting rasterio\n",
            "  Downloading rasterio-1.3.8-cp310-cp310-manylinux_2_17_x86_64.manylinux2014_x86_64.whl (21.3 MB)\n",
            "\u001b[2K     \u001b[90m━━━━━━━━━━━━━━━━━━━━━━━━━━━━━━━━━━━━━━━━\u001b[0m \u001b[32m21.3/21.3 MB\u001b[0m \u001b[31m39.2 MB/s\u001b[0m eta \u001b[36m0:00:00\u001b[0m\n",
            "\u001b[?25hCollecting affine (from rasterio)\n",
            "  Downloading affine-2.4.0-py3-none-any.whl (15 kB)\n",
            "Requirement already satisfied: attrs in /usr/local/lib/python3.10/dist-packages (from rasterio) (23.1.0)\n",
            "Requirement already satisfied: certifi in /usr/local/lib/python3.10/dist-packages (from rasterio) (2023.7.22)\n",
            "Requirement already satisfied: click>=4.0 in /usr/local/lib/python3.10/dist-packages (from rasterio) (8.1.7)\n",
            "Requirement already satisfied: cligj>=0.5 in /usr/local/lib/python3.10/dist-packages (from rasterio) (0.7.2)\n",
            "Requirement already satisfied: numpy>=1.18 in /usr/local/lib/python3.10/dist-packages (from rasterio) (1.23.5)\n",
            "Collecting snuggs>=1.4.1 (from rasterio)\n",
            "  Downloading snuggs-1.4.7-py3-none-any.whl (5.4 kB)\n",
            "Requirement already satisfied: click-plugins in /usr/local/lib/python3.10/dist-packages (from rasterio) (1.1.1)\n",
            "Requirement already satisfied: setuptools in /usr/local/lib/python3.10/dist-packages (from rasterio) (67.7.2)\n",
            "Requirement already satisfied: pyparsing>=2.1.6 in /usr/local/lib/python3.10/dist-packages (from snuggs>=1.4.1->rasterio) (3.1.1)\n",
            "Installing collected packages: snuggs, affine, rasterio\n",
            "Successfully installed affine-2.4.0 rasterio-1.3.8 snuggs-1.4.7\n"
          ]
        }
      ],
      "source": [
        "!pip install rasterio"
      ]
    },
    {
      "cell_type": "code",
      "source": [
        "import numpy as np\n",
        "import rasterio\n",
        "import keras\n",
        "import tensorflow as tf"
      ],
      "metadata": {
        "id": "eq5nltmcDK6h"
      },
      "execution_count": 2,
      "outputs": []
    },
    {
      "cell_type": "markdown",
      "source": [
        "preprocessing the images\n",
        "\n",
        "1.   normalize\n",
        "2.   resize\n",
        "3. patches\n",
        "4. create numpyarray out of patches list\n",
        "\n"
      ],
      "metadata": {
        "id": "floU8PA1DVyI"
      }
    },
    {
      "cell_type": "code",
      "source": [
        "\n",
        "# Load the GeoTIFF file\n",
        "with rasterio.open('/content/gdrive/MyDrive/exp/output.tif') as src:\n",
        "    # Read the TIFF data\n",
        "    tiff_data = src.read()\n",
        "\n",
        "    # Get the shape of the TIFF data\n",
        "    num_bands, height, width = tiff_data.shape\n",
        "\n",
        "    print(\"Original image dimensions:\", num_bands, height, width)\n",
        "\n",
        "    print(np.min(tiff_data), np.max(tiff_data))\n",
        "\n",
        "\n",
        "    normalized_image = np.zeros_like(tiff_data, dtype='float32')\n",
        "    for band in range(tiff_data.shape[1]):\n",
        "        band_min = np.min(tiff_data[:, band])\n",
        "        band_max = np.max(tiff_data[:, band])\n",
        "        normalized_image[:, band] = (tiff_data[:, band] - band_min) / (band_max - band_min)\n",
        "\n",
        "    # Calculate the new width and height that are multiples of the patch size\n",
        "    patch_size = 256  # Replace with your desired patch size\n",
        "    new_width = int(np.floor(width / patch_size)) * patch_size\n",
        "    new_height = int(np.floor(height / patch_size)) * patch_size\n",
        "\n",
        "    print(\"cropped dimensions:\", new_height, new_width)\n",
        "\n",
        "    input_image = np.moveaxis(normalized_image, 0, -1)\n",
        "\n",
        "    # Crop the input_image to the new dimensions\n",
        "    cropped_array = input_image[:new_height, :new_width, :]\n",
        "\n",
        "print(\"Cropped array shape:\", cropped_array.shape)\n",
        "print(np.min(cropped_array), np.max(cropped_array))"
      ],
      "metadata": {
        "colab": {
          "base_uri": "https://localhost:8080/"
        },
        "id": "k1KIyngBDTC2",
        "outputId": "a14760f6-bea8-407a-9568-0e108f12b4c1"
      },
      "execution_count": 5,
      "outputs": [
        {
          "output_type": "stream",
          "name": "stdout",
          "text": [
            "Original image dimensions: 8 4096 4864\n",
            "1.0 10610.0\n",
            "cropped dimensions: 4096 4864\n",
            "Cropped array shape: (4096, 4864, 8)\n",
            "0.0 1.0\n"
          ]
        }
      ]
    },
    {
      "cell_type": "code",
      "source": [
        "patches = []\n",
        "for i in range(0, cropped_array.shape[0], patch_size):\n",
        "    for j in range(0, cropped_array.shape[1], patch_size):\n",
        "        patch = cropped_array[i:i+patch_size, j:j+patch_size]\n",
        "        patches.append(patch)"
      ],
      "metadata": {
        "id": "SA8FXcMyDsrf"
      },
      "execution_count": 6,
      "outputs": []
    },
    {
      "cell_type": "code",
      "source": [
        "training_images = np.array(patches)"
      ],
      "metadata": {
        "id": "BdIcU3gEEMuQ"
      },
      "execution_count": 7,
      "outputs": []
    },
    {
      "cell_type": "markdown",
      "source": [
        "preprocessing the masks:\n",
        "\n",
        "1. resize, squeeze out extra dimension\n",
        "2. create patches\n",
        "3. one-hot encoding\n"
      ],
      "metadata": {
        "id": "hjyQZVqQETVs"
      }
    },
    {
      "cell_type": "code",
      "source": [
        "\n",
        "\n",
        "with rasterio.open('/content/gdrive/MyDrive/exp/crop_mask.tif') as src:\n",
        "    # Read the TIFF data\n",
        "    output_mask = src.read()\n",
        "\n",
        "    # Calculate the new width and height that are multiples of the patch size\n",
        "    patch_size = 256  # Replace with your desired patch size\n",
        "    new_width = int(np.floor(width / patch_size)) * patch_size\n",
        "    new_height = int(np.floor(height / patch_size)) * patch_size\n",
        "\n",
        "    print(\"cropped dimensions:\", new_height, new_width)\n",
        "\n",
        "    output_mask = np.moveaxis(output_mask, 0, -1)\n",
        "\n",
        "    # Crop the input_image to the new dimensions\n",
        "    cropped_mask = output_mask[:new_height, :new_width, :]\n",
        "\n",
        "print(\"Cropped array shape:\", cropped_mask.shape)"
      ],
      "metadata": {
        "colab": {
          "base_uri": "https://localhost:8080/"
        },
        "id": "LWjwBJsoEyay",
        "outputId": "bf7428a6-0712-46cb-f62e-f5e4e565ea62"
      },
      "execution_count": 8,
      "outputs": [
        {
          "output_type": "stream",
          "name": "stdout",
          "text": [
            "cropped dimensions: 4096 4864\n",
            "Cropped array shape: (4096, 4864, 1)\n"
          ]
        }
      ]
    },
    {
      "cell_type": "code",
      "source": [
        "new_mask = np.squeeze(cropped_mask)"
      ],
      "metadata": {
        "id": "Qy26R7KZE4dR"
      },
      "execution_count": 9,
      "outputs": []
    },
    {
      "cell_type": "code",
      "source": [
        "masks = []\n",
        "for i in range(0, new_mask.shape[0], patch_size):\n",
        "    for j in range(0, new_mask.shape[1], patch_size):\n",
        "        patch = new_mask[i:i+patch_size, j:j+patch_size]\n",
        "        masks.append(patch)"
      ],
      "metadata": {
        "id": "TCd3tsLTFHWI"
      },
      "execution_count": 10,
      "outputs": []
    },
    {
      "cell_type": "code",
      "source": [
        "from tensorflow.keras.utils import to_categorical\n",
        "def onehotencoding(labels, num_classes=23):\n",
        "    return to_categorical(labels, num_classes)"
      ],
      "metadata": {
        "id": "nG8ViYs8FEi9"
      },
      "execution_count": 11,
      "outputs": []
    },
    {
      "cell_type": "code",
      "source": [
        "mask_array = np.array(masks)"
      ],
      "metadata": {
        "id": "fUxb_e_YFU_E"
      },
      "execution_count": 12,
      "outputs": []
    },
    {
      "cell_type": "markdown",
      "source": [
        "Sampling:"
      ],
      "metadata": {
        "id": "ghyHYcocFbnC"
      }
    },
    {
      "cell_type": "code",
      "source": [
        "useful_images = []\n",
        "useful_masks = []\n",
        "useless = 0\n",
        "indexes = []\n",
        "for img in range(len(training_images)):\n",
        "    img_name=training_images[img]\n",
        "    mask_name = mask_array[img]\n",
        "\n",
        "    val, counts = np.unique(mask_name, return_counts=True)\n",
        "\n",
        "    if (1 - (counts[0]/counts.sum())) > 0.05:\n",
        "      useful_images.append(img_name)\n",
        "      useful_masks.append(mask_name)\n",
        "      indexes.append(img)\n",
        "      print(\"I am useful\")\n",
        "\n",
        "    else:\n",
        "      print(\"I am useless\")\n",
        "      useless +=1\n",
        "\n",
        "print(\"Total useful images are: \", len(training_images)-useless)\n",
        "print(\"Total useless images are: \", useless)\n",
        "\n",
        "\n"
      ],
      "metadata": {
        "id": "8-idhJ_RFhWM"
      },
      "execution_count": null,
      "outputs": []
    },
    {
      "cell_type": "code",
      "source": [
        "useful_training_images = np.array(useful_images)\n",
        "useful_training_masks_array = np.array(useful_masks)"
      ],
      "metadata": {
        "id": "5ldvurrpFvYo"
      },
      "execution_count": 14,
      "outputs": []
    },
    {
      "cell_type": "code",
      "source": [
        "useful_training_masks = onehotencoding(useful_training_masks_array)"
      ],
      "metadata": {
        "id": "0RgK8R1FKQmq"
      },
      "execution_count": 15,
      "outputs": []
    },
    {
      "cell_type": "markdown",
      "source": [
        "Training:\n",
        "\n",
        "1. model\n",
        "2. training"
      ],
      "metadata": {
        "id": "Q8PQZJURGF6C"
      }
    },
    {
      "cell_type": "code",
      "source": [
        "from keras.models import Model\n",
        "from keras.layers import Input, Conv2D, MaxPooling2D, UpSampling2D, concatenate, Conv2DTranspose, BatchNormalization, Dropout, Lambda\n",
        "from keras import backend as K\n",
        "\n",
        "# 5g\n",
        "# def jacard_coef(y_true, y_pred):\n",
        "#     y_true_f = K.flatten(y_true)\n",
        "#     y_pred_f = K.flatten(y_pred)\n",
        "#     intersection = K.sum(y_true_f * y_pred_f)\n",
        "#     return (intersection + 1.0) / (K.sum(y_true_f) + K.sum(y_pred_f) - intersection + 1.0)\n",
        "\n",
        "# 5g\n",
        "def multi_unet_model(n_classes=23, IMG_HEIGHT=256, IMG_WIDTH=256, IMG_CHANNELS=8): #Build the model\n",
        "    inputs = Input((IMG_HEIGHT, IMG_WIDTH, IMG_CHANNELS))\n",
        "    #s = Lambda(lambda x: x / 255)(inputs)   #No need for this if we normalize our inputs beforehand\n",
        "    s = inputs\n",
        "\n",
        "    #Contraction path\n",
        "    c1 = Conv2D(16, (3, 3), activation='relu', kernel_initializer='he_normal', padding='same')(s)\n",
        "    c1 = Dropout(0.2)(c1)  # Original 0.1\n",
        "    c1 = Conv2D(16, (3, 3), activation='relu', kernel_initializer='he_normal', padding='same')(c1)\n",
        "    p1 = MaxPooling2D((2, 2))(c1)\n",
        "\n",
        "    c2 = Conv2D(32, (3, 3), activation='relu', kernel_initializer='he_normal', padding='same')(p1)\n",
        "    c2 = Dropout(0.2)(c2)  # Original 0.1\n",
        "    c2 = Conv2D(32, (3, 3), activation='relu', kernel_initializer='he_normal', padding='same')(c2)\n",
        "    p2 = MaxPooling2D((2, 2))(c2)\n",
        "\n",
        "    c3 = Conv2D(64, (3, 3), activation='relu', kernel_initializer='he_normal', padding='same')(p2)\n",
        "    c3 = Dropout(0.2)(c3)\n",
        "    c3 = Conv2D(64, (3, 3), activation='relu', kernel_initializer='he_normal', padding='same')(c3)\n",
        "    p3 = MaxPooling2D((2, 2))(c3)\n",
        "\n",
        "    c4 = Conv2D(128, (3, 3), activation='relu', kernel_initializer='he_normal', padding='same')(p3)\n",
        "    c4 = Dropout(0.2)(c4)\n",
        "    c4 = Conv2D(128, (3, 3), activation='relu', kernel_initializer='he_normal', padding='same')(c4)\n",
        "    p4 = MaxPooling2D(pool_size=(2, 2))(c4)\n",
        "\n",
        "    c5 = Conv2D(256, (3, 3), activation='relu', kernel_initializer='he_normal', padding='same')(p4)\n",
        "    c5 = Dropout(0.3)(c5)\n",
        "    c5 = Conv2D(256, (3, 3), activation='relu', kernel_initializer='he_normal', padding='same')(c5)\n",
        "\n",
        "    #Expansive path\n",
        "    u6 = Conv2DTranspose(128, (2, 2), strides=(2, 2), padding='same')(c5)\n",
        "    u6 = concatenate([u6, c4])\n",
        "    c6 = Conv2D(128, (3, 3), activation='relu', kernel_initializer='he_normal', padding='same')(u6)\n",
        "    c6 = Dropout(0.2)(c6)\n",
        "    c6 = Conv2D(128, (3, 3), activation='relu', kernel_initializer='he_normal', padding='same')(c6)\n",
        "\n",
        "    u7 = Conv2DTranspose(64, (2, 2), strides=(2, 2), padding='same')(c6)\n",
        "    u7 = concatenate([u7, c3])\n",
        "    c7 = Conv2D(64, (3, 3), activation='relu', kernel_initializer='he_normal', padding='same')(u7)\n",
        "    c7 = Dropout(0.2)(c7)\n",
        "    c7 = Conv2D(64, (3, 3), activation='relu', kernel_initializer='he_normal', padding='same')(c7)\n",
        "\n",
        "    u8 = Conv2DTranspose(32, (2, 2), strides=(2, 2), padding='same')(c7)\n",
        "    u8 = concatenate([u8, c2])\n",
        "    c8 = Conv2D(32, (3, 3), activation='relu', kernel_initializer='he_normal', padding='same')(u8)\n",
        "    c8 = Dropout(0.2)(c8)  # Original 0.1\n",
        "    c8 = Conv2D(32, (3, 3), activation='relu', kernel_initializer='he_normal', padding='same')(c8)\n",
        "\n",
        "    u9 = Conv2DTranspose(16, (2, 2), strides=(2, 2), padding='same')(c8)\n",
        "    u9 = concatenate([u9, c1], axis=3)\n",
        "    c9 = Conv2D(16, (3, 3), activation='relu', kernel_initializer='he_normal', padding='same')(u9)\n",
        "    c9 = Dropout(0.2)(c9)  # Original 0.1\n",
        "    c9 = Conv2D(16, (3, 3), activation='relu', kernel_initializer='he_normal', padding='same')(c9)\n",
        "\n",
        "    outputs = Conv2D(n_classes, (1, 1), activation='softmax')(c9)\n",
        "\n",
        "    model = Model(inputs=[inputs], outputs=[outputs])\n",
        "\n",
        "    #NOTE: Compile the model in the main program to make it easy to test with various loss functions\n",
        "    #model.compile(optimizer='adam', loss='binary_crossentropy', metrics=['accuracy'])\n",
        "\n",
        "    #model.summary()\n",
        "\n",
        "    return model\n",
        "\n",
        "\n"
      ],
      "metadata": {
        "id": "qCSqpK4yGKcL"
      },
      "execution_count": 16,
      "outputs": []
    },
    {
      "cell_type": "code",
      "source": [
        "from sklearn.model_selection import train_test_split\n",
        "\n",
        "X_train, X_test, y_train, y_test = train_test_split(useful_training_images,\n",
        "                                                    useful_training_masks, test_size = 0.20, random_state = 42)\n",
        "\n",
        "\n",
        "IMG_HEIGHT = X_train.shape[1]\n",
        "IMG_WIDTH  = X_train.shape[2]\n",
        "IMG_CHANNELS = X_train.shape[3]\n",
        "\n",
        "\n",
        "metrics=['accuracy']\n",
        "\n",
        "\n",
        "model = multi_unet_model(n_classes=23, IMG_HEIGHT=IMG_HEIGHT, IMG_WIDTH=IMG_WIDTH, IMG_CHANNELS=IMG_CHANNELS)\n",
        "\n",
        "\n",
        "model.compile(optimizer= tf.keras.optimizers.Adam(), loss=tf.keras.losses.CategoricalCrossentropy(), metrics=metrics)\n",
        "model.summary()\n",
        "\n",
        "\n",
        "history1 = model.fit(X_train, y_train,\n",
        "                    batch_size = 16,\n",
        "                    verbose=1,\n",
        "                    epochs=10,\n",
        "                    validation_data=(X_test, y_test),\n",
        "                    shuffle=False)\n",
        "\n",
        "model.save('/content/gdrive/MyDrive/exp/model_1.hdf5')"
      ],
      "metadata": {
        "colab": {
          "base_uri": "https://localhost:8080/"
        },
        "id": "L4xRz7hSGNVT",
        "outputId": "dbb4ddd4-5d03-4043-b061-6c15a8bdb306"
      },
      "execution_count": 17,
      "outputs": [
        {
          "output_type": "stream",
          "name": "stdout",
          "text": [
            "Model: \"model\"\n",
            "__________________________________________________________________________________________________\n",
            " Layer (type)                   Output Shape         Param #     Connected to                     \n",
            "==================================================================================================\n",
            " input_1 (InputLayer)           [(None, 256, 256, 8  0           []                               \n",
            "                                )]                                                                \n",
            "                                                                                                  \n",
            " conv2d (Conv2D)                (None, 256, 256, 16  1168        ['input_1[0][0]']                \n",
            "                                )                                                                 \n",
            "                                                                                                  \n",
            " dropout (Dropout)              (None, 256, 256, 16  0           ['conv2d[0][0]']                 \n",
            "                                )                                                                 \n",
            "                                                                                                  \n",
            " conv2d_1 (Conv2D)              (None, 256, 256, 16  2320        ['dropout[0][0]']                \n",
            "                                )                                                                 \n",
            "                                                                                                  \n",
            " max_pooling2d (MaxPooling2D)   (None, 128, 128, 16  0           ['conv2d_1[0][0]']               \n",
            "                                )                                                                 \n",
            "                                                                                                  \n",
            " conv2d_2 (Conv2D)              (None, 128, 128, 32  4640        ['max_pooling2d[0][0]']          \n",
            "                                )                                                                 \n",
            "                                                                                                  \n",
            " dropout_1 (Dropout)            (None, 128, 128, 32  0           ['conv2d_2[0][0]']               \n",
            "                                )                                                                 \n",
            "                                                                                                  \n",
            " conv2d_3 (Conv2D)              (None, 128, 128, 32  9248        ['dropout_1[0][0]']              \n",
            "                                )                                                                 \n",
            "                                                                                                  \n",
            " max_pooling2d_1 (MaxPooling2D)  (None, 64, 64, 32)  0           ['conv2d_3[0][0]']               \n",
            "                                                                                                  \n",
            " conv2d_4 (Conv2D)              (None, 64, 64, 64)   18496       ['max_pooling2d_1[0][0]']        \n",
            "                                                                                                  \n",
            " dropout_2 (Dropout)            (None, 64, 64, 64)   0           ['conv2d_4[0][0]']               \n",
            "                                                                                                  \n",
            " conv2d_5 (Conv2D)              (None, 64, 64, 64)   36928       ['dropout_2[0][0]']              \n",
            "                                                                                                  \n",
            " max_pooling2d_2 (MaxPooling2D)  (None, 32, 32, 64)  0           ['conv2d_5[0][0]']               \n",
            "                                                                                                  \n",
            " conv2d_6 (Conv2D)              (None, 32, 32, 128)  73856       ['max_pooling2d_2[0][0]']        \n",
            "                                                                                                  \n",
            " dropout_3 (Dropout)            (None, 32, 32, 128)  0           ['conv2d_6[0][0]']               \n",
            "                                                                                                  \n",
            " conv2d_7 (Conv2D)              (None, 32, 32, 128)  147584      ['dropout_3[0][0]']              \n",
            "                                                                                                  \n",
            " max_pooling2d_3 (MaxPooling2D)  (None, 16, 16, 128)  0          ['conv2d_7[0][0]']               \n",
            "                                                                                                  \n",
            " conv2d_8 (Conv2D)              (None, 16, 16, 256)  295168      ['max_pooling2d_3[0][0]']        \n",
            "                                                                                                  \n",
            " dropout_4 (Dropout)            (None, 16, 16, 256)  0           ['conv2d_8[0][0]']               \n",
            "                                                                                                  \n",
            " conv2d_9 (Conv2D)              (None, 16, 16, 256)  590080      ['dropout_4[0][0]']              \n",
            "                                                                                                  \n",
            " conv2d_transpose (Conv2DTransp  (None, 32, 32, 128)  131200     ['conv2d_9[0][0]']               \n",
            " ose)                                                                                             \n",
            "                                                                                                  \n",
            " concatenate (Concatenate)      (None, 32, 32, 256)  0           ['conv2d_transpose[0][0]',       \n",
            "                                                                  'conv2d_7[0][0]']               \n",
            "                                                                                                  \n",
            " conv2d_10 (Conv2D)             (None, 32, 32, 128)  295040      ['concatenate[0][0]']            \n",
            "                                                                                                  \n",
            " dropout_5 (Dropout)            (None, 32, 32, 128)  0           ['conv2d_10[0][0]']              \n",
            "                                                                                                  \n",
            " conv2d_11 (Conv2D)             (None, 32, 32, 128)  147584      ['dropout_5[0][0]']              \n",
            "                                                                                                  \n",
            " conv2d_transpose_1 (Conv2DTran  (None, 64, 64, 64)  32832       ['conv2d_11[0][0]']              \n",
            " spose)                                                                                           \n",
            "                                                                                                  \n",
            " concatenate_1 (Concatenate)    (None, 64, 64, 128)  0           ['conv2d_transpose_1[0][0]',     \n",
            "                                                                  'conv2d_5[0][0]']               \n",
            "                                                                                                  \n",
            " conv2d_12 (Conv2D)             (None, 64, 64, 64)   73792       ['concatenate_1[0][0]']          \n",
            "                                                                                                  \n",
            " dropout_6 (Dropout)            (None, 64, 64, 64)   0           ['conv2d_12[0][0]']              \n",
            "                                                                                                  \n",
            " conv2d_13 (Conv2D)             (None, 64, 64, 64)   36928       ['dropout_6[0][0]']              \n",
            "                                                                                                  \n",
            " conv2d_transpose_2 (Conv2DTran  (None, 128, 128, 32  8224       ['conv2d_13[0][0]']              \n",
            " spose)                         )                                                                 \n",
            "                                                                                                  \n",
            " concatenate_2 (Concatenate)    (None, 128, 128, 64  0           ['conv2d_transpose_2[0][0]',     \n",
            "                                )                                 'conv2d_3[0][0]']               \n",
            "                                                                                                  \n",
            " conv2d_14 (Conv2D)             (None, 128, 128, 32  18464       ['concatenate_2[0][0]']          \n",
            "                                )                                                                 \n",
            "                                                                                                  \n",
            " dropout_7 (Dropout)            (None, 128, 128, 32  0           ['conv2d_14[0][0]']              \n",
            "                                )                                                                 \n",
            "                                                                                                  \n",
            " conv2d_15 (Conv2D)             (None, 128, 128, 32  9248        ['dropout_7[0][0]']              \n",
            "                                )                                                                 \n",
            "                                                                                                  \n",
            " conv2d_transpose_3 (Conv2DTran  (None, 256, 256, 16  2064       ['conv2d_15[0][0]']              \n",
            " spose)                         )                                                                 \n",
            "                                                                                                  \n",
            " concatenate_3 (Concatenate)    (None, 256, 256, 32  0           ['conv2d_transpose_3[0][0]',     \n",
            "                                )                                 'conv2d_1[0][0]']               \n",
            "                                                                                                  \n",
            " conv2d_16 (Conv2D)             (None, 256, 256, 16  4624        ['concatenate_3[0][0]']          \n",
            "                                )                                                                 \n",
            "                                                                                                  \n",
            " dropout_8 (Dropout)            (None, 256, 256, 16  0           ['conv2d_16[0][0]']              \n",
            "                                )                                                                 \n",
            "                                                                                                  \n",
            " conv2d_17 (Conv2D)             (None, 256, 256, 16  2320        ['dropout_8[0][0]']              \n",
            "                                )                                                                 \n",
            "                                                                                                  \n",
            " conv2d_18 (Conv2D)             (None, 256, 256, 23  391         ['conv2d_17[0][0]']              \n",
            "                                )                                                                 \n",
            "                                                                                                  \n",
            "==================================================================================================\n",
            "Total params: 1,942,199\n",
            "Trainable params: 1,942,199\n",
            "Non-trainable params: 0\n",
            "__________________________________________________________________________________________________\n",
            "Epoch 1/10\n",
            "2/2 [==============================] - 35s 13s/step - loss: 3.1324 - accuracy: 0.0291 - val_loss: 3.0996 - val_accuracy: 0.0821\n",
            "Epoch 2/10\n",
            "2/2 [==============================] - 28s 12s/step - loss: 3.0335 - accuracy: 0.1004 - val_loss: 2.8557 - val_accuracy: 0.2324\n",
            "Epoch 3/10\n",
            "2/2 [==============================] - 26s 13s/step - loss: 2.7407 - accuracy: 0.1718 - val_loss: 2.7964 - val_accuracy: 0.4851\n",
            "Epoch 4/10\n",
            "2/2 [==============================] - 26s 12s/step - loss: 2.2984 - accuracy: 0.3155 - val_loss: 1.9386 - val_accuracy: 0.7903\n",
            "Epoch 5/10\n",
            "2/2 [==============================] - 27s 13s/step - loss: 2.0996 - accuracy: 0.5393 - val_loss: 2.3440 - val_accuracy: 0.8735\n",
            "Epoch 6/10\n",
            "2/2 [==============================] - 26s 12s/step - loss: 1.7317 - accuracy: 0.7239 - val_loss: 1.8023 - val_accuracy: 0.8758\n",
            "Epoch 7/10\n",
            "2/2 [==============================] - 26s 11s/step - loss: 1.4559 - accuracy: 0.7954 - val_loss: 1.3126 - val_accuracy: 0.8758\n",
            "Epoch 8/10\n",
            "2/2 [==============================] - 27s 13s/step - loss: 1.4715 - accuracy: 0.8164 - val_loss: 1.6818 - val_accuracy: 0.8759\n",
            "Epoch 9/10\n",
            "2/2 [==============================] - 28s 14s/step - loss: 1.3290 - accuracy: 0.8225 - val_loss: 1.6814 - val_accuracy: 0.8759\n",
            "Epoch 10/10\n",
            "2/2 [==============================] - 27s 14s/step - loss: 1.2668 - accuracy: 0.8251 - val_loss: 1.3190 - val_accuracy: 0.8759\n"
          ]
        }
      ]
    },
    {
      "cell_type": "markdown",
      "source": [
        "Model prediction\n",
        "\n",
        "1. load the model\n",
        "2. preprocess the image - normalization, resizing, patching\n",
        "3. predict using the model\n",
        "4. post process the patches - weighted argmax\n",
        "5. stictch\n",
        "6. display"
      ],
      "metadata": {
        "id": "CLmpYSnPGbQv"
      }
    },
    {
      "cell_type": "code",
      "source": [
        "model = keras.models.load_model('/content/gdrive/MyDrive/exp/model_1.hdf5', compile=False)"
      ],
      "metadata": {
        "id": "6f9z9HmzGc-4"
      },
      "execution_count": null,
      "outputs": []
    },
    {
      "cell_type": "code",
      "source": [
        "# Load the GeoTIFF file\n",
        "with rasterio.open('/content/gdrive/MyDrive/exp/output.tif') as src:\n",
        "    # Read the TIFF data\n",
        "    tiff_data = src.read()\n",
        "\n",
        "    # Get the shape of the TIFF data\n",
        "    num_bands, height, width = tiff_data.shape\n",
        "\n",
        "    print(\"Original image dimensions:\", num_bands, height, width)\n",
        "\n",
        "    print(np.min(tiff_data), np.max(tiff_data))\n",
        "\n",
        "\n",
        "    normalized_image = np.zeros_like(tiff_data, dtype='float32')\n",
        "    for band in range(tiff_data.shape[1]):\n",
        "        band_min = np.min(tiff_data[:, band])\n",
        "        band_max = np.max(tiff_data[:, band])\n",
        "        normalized_image[:, band] = (tiff_data[:, band] - band_min) / (band_max - band_min)\n",
        "\n",
        "    # Calculate the new width and height that are multiples of the patch size\n",
        "    patch_size = 256  # Replace with your desired patch size\n",
        "    new_width = int(np.floor(width / patch_size)) * patch_size\n",
        "    new_height = int(np.floor(height / patch_size)) * patch_size\n",
        "\n",
        "    print(\"cropped dimensions:\", new_height, new_width)\n",
        "\n",
        "    input_image = np.moveaxis(normalized_image, 0, -1)\n",
        "\n",
        "    # Crop the input_image to the new dimensions\n",
        "    cropped_array = input_image[:new_height, :new_width, :]\n",
        "\n",
        "print(\"Cropped array shape:\", cropped_array.shape)\n",
        "print(np.min(cropped_array), np.max(cropped_array))"
      ],
      "metadata": {
        "colab": {
          "base_uri": "https://localhost:8080/"
        },
        "id": "P0pq8tPCG9fG",
        "outputId": "d58e424f-0f08-459d-cc60-1a6b51cfbf5a"
      },
      "execution_count": 18,
      "outputs": [
        {
          "output_type": "stream",
          "name": "stdout",
          "text": [
            "Original image dimensions: 8 4096 4864\n",
            "1.0 10610.0\n",
            "cropped dimensions: 4096 4864\n",
            "Cropped array shape: (4096, 4864, 8)\n",
            "0.0 1.0\n"
          ]
        }
      ]
    },
    {
      "cell_type": "code",
      "source": [
        "patch_size = 256"
      ],
      "metadata": {
        "id": "0qo-YOTtHF8z"
      },
      "execution_count": 19,
      "outputs": []
    },
    {
      "cell_type": "code",
      "source": [
        "patches = []\n",
        "for i in range(0, cropped_array.shape[0], patch_size):\n",
        "    for j in range(0, cropped_array.shape[1], patch_size):\n",
        "        patch = cropped_array[i:i+patch_size, j:j+patch_size]\n",
        "        patches.append(patch)"
      ],
      "metadata": {
        "id": "1oOS2wCSHJrU"
      },
      "execution_count": 20,
      "outputs": []
    },
    {
      "cell_type": "code",
      "source": [
        "num_classes = 23  # Total number of classes including class 0\n",
        "\n",
        "# Define the class weights (0 for class 0, equal weight for other classes)\n",
        "class_weights = np.ones(num_classes)\n",
        "class_weights[0] = 0  # Set weight 0 for class 0\n",
        "class_weights /= np.sum(class_weights)  # Normalize to ensure sum equals 1\n",
        "\n"
      ],
      "metadata": {
        "id": "_1A7wpXqHUpI"
      },
      "execution_count": 21,
      "outputs": []
    },
    {
      "cell_type": "code",
      "source": [
        "class_weights"
      ],
      "metadata": {
        "colab": {
          "base_uri": "https://localhost:8080/"
        },
        "id": "AuIK7vnUNUDG",
        "outputId": "44942eff-c2a2-4638-cdd1-fbb71aba9581"
      },
      "execution_count": 27,
      "outputs": [
        {
          "output_type": "execute_result",
          "data": {
            "text/plain": [
              "array([0.        , 0.04545455, 0.04545455, 0.04545455, 0.04545455,\n",
              "       0.04545455, 0.04545455, 0.04545455, 0.04545455, 0.04545455,\n",
              "       0.04545455, 0.04545455, 0.04545455, 0.04545455, 0.04545455,\n",
              "       0.04545455, 0.04545455, 0.04545455, 0.04545455, 0.04545455,\n",
              "       0.04545455, 0.04545455, 0.04545455])"
            ]
          },
          "metadata": {},
          "execution_count": 27
        }
      ]
    },
    {
      "cell_type": "code",
      "source": [
        "def predict_segmentation(patches):\n",
        "    # Make predictions using the loaded model\n",
        "\n",
        "    seg_patches = []\n",
        "    for patch in patches:\n",
        "        image = tf.expand_dims(patch, axis=0)\n",
        "        prediction = model.predict(image)\n",
        "        weighted_prediction = np.argmax(prediction * class_weights, axis=-1)\n",
        "        seg_patches.append(weighted_prediction)\n",
        "\n",
        "    return seg_patches"
      ],
      "metadata": {
        "id": "Omi_c4d2HNeS"
      },
      "execution_count": 28,
      "outputs": []
    },
    {
      "cell_type": "code",
      "source": [
        "predicted_patches = predict_segmentation(patches)"
      ],
      "metadata": {
        "colab": {
          "base_uri": "https://localhost:8080/"
        },
        "id": "9GOGziITHtiZ",
        "outputId": "b7d11837-d7f3-42bd-88e3-bbe2119be37b"
      },
      "execution_count": 29,
      "outputs": [
        {
          "output_type": "stream",
          "name": "stdout",
          "text": [
            "1/1 [==============================] - 0s 183ms/step\n",
            "1/1 [==============================] - 0s 182ms/step\n",
            "1/1 [==============================] - 0s 179ms/step\n",
            "1/1 [==============================] - 0s 168ms/step\n",
            "1/1 [==============================] - 0s 168ms/step\n",
            "1/1 [==============================] - 0s 166ms/step\n",
            "1/1 [==============================] - 0s 184ms/step\n",
            "1/1 [==============================] - 0s 263ms/step\n",
            "1/1 [==============================] - 0s 328ms/step\n",
            "1/1 [==============================] - 0s 321ms/step\n",
            "1/1 [==============================] - 0s 318ms/step\n",
            "1/1 [==============================] - 0s 324ms/step\n",
            "1/1 [==============================] - 0s 303ms/step\n",
            "1/1 [==============================] - 0s 323ms/step\n",
            "1/1 [==============================] - 0s 314ms/step\n",
            "1/1 [==============================] - 0s 318ms/step\n",
            "1/1 [==============================] - 0s 299ms/step\n",
            "1/1 [==============================] - 0s 174ms/step\n",
            "1/1 [==============================] - 0s 178ms/step\n",
            "1/1 [==============================] - 0s 183ms/step\n",
            "1/1 [==============================] - 0s 163ms/step\n",
            "1/1 [==============================] - 0s 179ms/step\n",
            "1/1 [==============================] - 0s 173ms/step\n",
            "1/1 [==============================] - 0s 182ms/step\n",
            "1/1 [==============================] - 0s 180ms/step\n",
            "1/1 [==============================] - 0s 184ms/step\n",
            "1/1 [==============================] - 0s 169ms/step\n",
            "1/1 [==============================] - 0s 182ms/step\n",
            "1/1 [==============================] - 0s 179ms/step\n",
            "1/1 [==============================] - 0s 173ms/step\n",
            "1/1 [==============================] - 0s 180ms/step\n",
            "1/1 [==============================] - 0s 169ms/step\n",
            "1/1 [==============================] - 0s 170ms/step\n",
            "1/1 [==============================] - 0s 182ms/step\n",
            "1/1 [==============================] - 0s 183ms/step\n",
            "1/1 [==============================] - 0s 172ms/step\n",
            "1/1 [==============================] - 0s 179ms/step\n",
            "1/1 [==============================] - 0s 184ms/step\n",
            "1/1 [==============================] - 0s 189ms/step\n",
            "1/1 [==============================] - 0s 177ms/step\n",
            "1/1 [==============================] - 0s 175ms/step\n",
            "1/1 [==============================] - 0s 178ms/step\n",
            "1/1 [==============================] - 0s 183ms/step\n",
            "1/1 [==============================] - 0s 172ms/step\n",
            "1/1 [==============================] - 0s 175ms/step\n",
            "1/1 [==============================] - 0s 196ms/step\n",
            "1/1 [==============================] - 0s 177ms/step\n",
            "1/1 [==============================] - 0s 184ms/step\n",
            "1/1 [==============================] - 0s 258ms/step\n",
            "1/1 [==============================] - 0s 334ms/step\n",
            "1/1 [==============================] - 1s 1s/step\n",
            "1/1 [==============================] - 0s 310ms/step\n",
            "1/1 [==============================] - 0s 344ms/step\n",
            "1/1 [==============================] - 0s 298ms/step\n",
            "1/1 [==============================] - 0s 374ms/step\n",
            "1/1 [==============================] - 0s 398ms/step\n",
            "1/1 [==============================] - 0s 186ms/step\n",
            "1/1 [==============================] - 0s 203ms/step\n",
            "1/1 [==============================] - 0s 179ms/step\n",
            "1/1 [==============================] - 0s 181ms/step\n",
            "1/1 [==============================] - 0s 197ms/step\n",
            "1/1 [==============================] - 0s 190ms/step\n",
            "1/1 [==============================] - 0s 175ms/step\n",
            "1/1 [==============================] - 0s 173ms/step\n",
            "1/1 [==============================] - 0s 178ms/step\n",
            "1/1 [==============================] - 0s 171ms/step\n",
            "1/1 [==============================] - 0s 177ms/step\n",
            "1/1 [==============================] - 0s 200ms/step\n",
            "1/1 [==============================] - 0s 175ms/step\n",
            "1/1 [==============================] - 0s 187ms/step\n",
            "1/1 [==============================] - 0s 177ms/step\n",
            "1/1 [==============================] - 0s 175ms/step\n",
            "1/1 [==============================] - 0s 174ms/step\n",
            "1/1 [==============================] - 0s 183ms/step\n",
            "1/1 [==============================] - 0s 185ms/step\n",
            "1/1 [==============================] - 0s 175ms/step\n",
            "1/1 [==============================] - 0s 177ms/step\n",
            "1/1 [==============================] - 0s 190ms/step\n",
            "1/1 [==============================] - 0s 188ms/step\n",
            "1/1 [==============================] - 0s 198ms/step\n",
            "1/1 [==============================] - 0s 176ms/step\n",
            "1/1 [==============================] - 0s 179ms/step\n",
            "1/1 [==============================] - 0s 265ms/step\n",
            "1/1 [==============================] - 0s 329ms/step\n",
            "1/1 [==============================] - 0s 333ms/step\n",
            "1/1 [==============================] - 0s 316ms/step\n",
            "1/1 [==============================] - 0s 312ms/step\n",
            "1/1 [==============================] - 0s 337ms/step\n",
            "1/1 [==============================] - 0s 329ms/step\n",
            "1/1 [==============================] - 0s 331ms/step\n",
            "1/1 [==============================] - 0s 279ms/step\n",
            "1/1 [==============================] - 0s 173ms/step\n",
            "1/1 [==============================] - 0s 172ms/step\n",
            "1/1 [==============================] - 0s 175ms/step\n",
            "1/1 [==============================] - 0s 186ms/step\n",
            "1/1 [==============================] - 0s 180ms/step\n",
            "1/1 [==============================] - 0s 175ms/step\n",
            "1/1 [==============================] - 0s 177ms/step\n",
            "1/1 [==============================] - 0s 176ms/step\n",
            "1/1 [==============================] - 0s 167ms/step\n",
            "1/1 [==============================] - 0s 179ms/step\n",
            "1/1 [==============================] - 0s 184ms/step\n",
            "1/1 [==============================] - 0s 189ms/step\n",
            "1/1 [==============================] - 0s 177ms/step\n",
            "1/1 [==============================] - 0s 178ms/step\n",
            "1/1 [==============================] - 0s 176ms/step\n",
            "1/1 [==============================] - 0s 181ms/step\n",
            "1/1 [==============================] - 0s 179ms/step\n",
            "1/1 [==============================] - 0s 190ms/step\n",
            "1/1 [==============================] - 0s 177ms/step\n",
            "1/1 [==============================] - 0s 179ms/step\n",
            "1/1 [==============================] - 0s 189ms/step\n",
            "1/1 [==============================] - 0s 177ms/step\n",
            "1/1 [==============================] - 0s 179ms/step\n",
            "1/1 [==============================] - 0s 188ms/step\n",
            "1/1 [==============================] - 0s 182ms/step\n",
            "1/1 [==============================] - 0s 171ms/step\n",
            "1/1 [==============================] - 0s 194ms/step\n",
            "1/1 [==============================] - 0s 191ms/step\n",
            "1/1 [==============================] - 0s 197ms/step\n",
            "1/1 [==============================] - 0s 187ms/step\n",
            "1/1 [==============================] - 0s 168ms/step\n",
            "1/1 [==============================] - 0s 180ms/step\n",
            "1/1 [==============================] - 0s 170ms/step\n",
            "1/1 [==============================] - 0s 195ms/step\n",
            "1/1 [==============================] - 0s 304ms/step\n",
            "1/1 [==============================] - 0s 315ms/step\n",
            "1/1 [==============================] - 0s 347ms/step\n",
            "1/1 [==============================] - 0s 330ms/step\n",
            "1/1 [==============================] - 0s 302ms/step\n",
            "1/1 [==============================] - 0s 306ms/step\n",
            "1/1 [==============================] - 0s 305ms/step\n",
            "1/1 [==============================] - 0s 357ms/step\n",
            "1/1 [==============================] - 0s 240ms/step\n",
            "1/1 [==============================] - 0s 176ms/step\n",
            "1/1 [==============================] - 0s 176ms/step\n",
            "1/1 [==============================] - 0s 177ms/step\n",
            "1/1 [==============================] - 0s 180ms/step\n",
            "1/1 [==============================] - 0s 182ms/step\n",
            "1/1 [==============================] - 0s 185ms/step\n",
            "1/1 [==============================] - 0s 193ms/step\n",
            "1/1 [==============================] - 0s 192ms/step\n",
            "1/1 [==============================] - 0s 439ms/step\n",
            "1/1 [==============================] - 1s 533ms/step\n",
            "1/1 [==============================] - 0s 271ms/step\n",
            "1/1 [==============================] - 1s 528ms/step\n",
            "1/1 [==============================] - 0s 182ms/step\n",
            "1/1 [==============================] - 0s 179ms/step\n",
            "1/1 [==============================] - 0s 178ms/step\n",
            "1/1 [==============================] - 0s 186ms/step\n",
            "1/1 [==============================] - 0s 187ms/step\n",
            "1/1 [==============================] - 0s 179ms/step\n",
            "1/1 [==============================] - 0s 183ms/step\n",
            "1/1 [==============================] - 0s 189ms/step\n",
            "1/1 [==============================] - 0s 176ms/step\n",
            "1/1 [==============================] - 0s 170ms/step\n",
            "1/1 [==============================] - 0s 190ms/step\n",
            "1/1 [==============================] - 0s 177ms/step\n",
            "1/1 [==============================] - 0s 173ms/step\n",
            "1/1 [==============================] - 0s 191ms/step\n",
            "1/1 [==============================] - 0s 261ms/step\n",
            "1/1 [==============================] - 0s 324ms/step\n",
            "1/1 [==============================] - 0s 314ms/step\n",
            "1/1 [==============================] - 0s 321ms/step\n",
            "1/1 [==============================] - 0s 328ms/step\n",
            "1/1 [==============================] - 0s 330ms/step\n",
            "1/1 [==============================] - 0s 324ms/step\n",
            "1/1 [==============================] - 0s 320ms/step\n",
            "1/1 [==============================] - 0s 322ms/step\n",
            "1/1 [==============================] - 0s 339ms/step\n",
            "1/1 [==============================] - 0s 169ms/step\n",
            "1/1 [==============================] - 0s 209ms/step\n",
            "1/1 [==============================] - 0s 181ms/step\n",
            "1/1 [==============================] - 0s 174ms/step\n",
            "1/1 [==============================] - 0s 177ms/step\n",
            "1/1 [==============================] - 0s 185ms/step\n",
            "1/1 [==============================] - 0s 178ms/step\n",
            "1/1 [==============================] - 0s 176ms/step\n",
            "1/1 [==============================] - 0s 179ms/step\n",
            "1/1 [==============================] - 0s 181ms/step\n",
            "1/1 [==============================] - 0s 169ms/step\n",
            "1/1 [==============================] - 0s 177ms/step\n",
            "1/1 [==============================] - 0s 177ms/step\n",
            "1/1 [==============================] - 0s 175ms/step\n",
            "1/1 [==============================] - 0s 187ms/step\n",
            "1/1 [==============================] - 0s 175ms/step\n",
            "1/1 [==============================] - 0s 181ms/step\n",
            "1/1 [==============================] - 0s 192ms/step\n",
            "1/1 [==============================] - 0s 176ms/step\n",
            "1/1 [==============================] - 0s 177ms/step\n",
            "1/1 [==============================] - 0s 188ms/step\n",
            "1/1 [==============================] - 0s 190ms/step\n",
            "1/1 [==============================] - 0s 163ms/step\n",
            "1/1 [==============================] - 0s 181ms/step\n",
            "1/1 [==============================] - 0s 188ms/step\n",
            "1/1 [==============================] - 0s 174ms/step\n",
            "1/1 [==============================] - 0s 174ms/step\n",
            "1/1 [==============================] - 0s 181ms/step\n",
            "1/1 [==============================] - 0s 181ms/step\n",
            "1/1 [==============================] - 0s 170ms/step\n",
            "1/1 [==============================] - 0s 184ms/step\n",
            "1/1 [==============================] - 0s 194ms/step\n",
            "1/1 [==============================] - 0s 321ms/step\n",
            "1/1 [==============================] - 0s 357ms/step\n",
            "1/1 [==============================] - 0s 325ms/step\n",
            "1/1 [==============================] - 0s 329ms/step\n",
            "1/1 [==============================] - 0s 331ms/step\n",
            "1/1 [==============================] - 0s 328ms/step\n",
            "1/1 [==============================] - 0s 329ms/step\n",
            "1/1 [==============================] - 0s 308ms/step\n",
            "1/1 [==============================] - 0s 311ms/step\n",
            "1/1 [==============================] - 0s 307ms/step\n",
            "1/1 [==============================] - 0s 240ms/step\n",
            "1/1 [==============================] - 0s 170ms/step\n",
            "1/1 [==============================] - 0s 179ms/step\n",
            "1/1 [==============================] - 0s 191ms/step\n",
            "1/1 [==============================] - 0s 179ms/step\n",
            "1/1 [==============================] - 0s 175ms/step\n",
            "1/1 [==============================] - 0s 172ms/step\n",
            "1/1 [==============================] - 0s 170ms/step\n",
            "1/1 [==============================] - 0s 177ms/step\n",
            "1/1 [==============================] - 0s 180ms/step\n",
            "1/1 [==============================] - 0s 175ms/step\n",
            "1/1 [==============================] - 0s 170ms/step\n",
            "1/1 [==============================] - 0s 173ms/step\n",
            "1/1 [==============================] - 0s 195ms/step\n",
            "1/1 [==============================] - 0s 176ms/step\n",
            "1/1 [==============================] - 0s 173ms/step\n",
            "1/1 [==============================] - 0s 209ms/step\n",
            "1/1 [==============================] - 0s 244ms/step\n",
            "1/1 [==============================] - 0s 195ms/step\n",
            "1/1 [==============================] - 0s 180ms/step\n",
            "1/1 [==============================] - 0s 179ms/step\n",
            "1/1 [==============================] - 0s 179ms/step\n",
            "1/1 [==============================] - 0s 176ms/step\n",
            "1/1 [==============================] - 0s 164ms/step\n",
            "1/1 [==============================] - 0s 168ms/step\n",
            "1/1 [==============================] - 0s 184ms/step\n",
            "1/1 [==============================] - 0s 185ms/step\n",
            "1/1 [==============================] - 0s 184ms/step\n",
            "1/1 [==============================] - 0s 179ms/step\n",
            "1/1 [==============================] - 0s 207ms/step\n",
            "1/1 [==============================] - 0s 176ms/step\n",
            "1/1 [==============================] - 0s 171ms/step\n",
            "1/1 [==============================] - 0s 179ms/step\n",
            "1/1 [==============================] - 0s 312ms/step\n",
            "1/1 [==============================] - 0s 313ms/step\n",
            "1/1 [==============================] - 0s 325ms/step\n",
            "1/1 [==============================] - 0s 319ms/step\n",
            "1/1 [==============================] - 0s 332ms/step\n",
            "1/1 [==============================] - 0s 326ms/step\n",
            "1/1 [==============================] - 0s 322ms/step\n",
            "1/1 [==============================] - 0s 317ms/step\n",
            "1/1 [==============================] - 0s 317ms/step\n",
            "1/1 [==============================] - 0s 317ms/step\n",
            "1/1 [==============================] - 0s 296ms/step\n",
            "1/1 [==============================] - 0s 181ms/step\n",
            "1/1 [==============================] - 0s 178ms/step\n",
            "1/1 [==============================] - 0s 174ms/step\n",
            "1/1 [==============================] - 0s 171ms/step\n",
            "1/1 [==============================] - 0s 189ms/step\n",
            "1/1 [==============================] - 0s 170ms/step\n",
            "1/1 [==============================] - 0s 164ms/step\n",
            "1/1 [==============================] - 0s 197ms/step\n",
            "1/1 [==============================] - 0s 179ms/step\n",
            "1/1 [==============================] - 0s 173ms/step\n",
            "1/1 [==============================] - 0s 178ms/step\n",
            "1/1 [==============================] - 0s 174ms/step\n",
            "1/1 [==============================] - 0s 168ms/step\n",
            "1/1 [==============================] - 0s 170ms/step\n",
            "1/1 [==============================] - 0s 172ms/step\n",
            "1/1 [==============================] - 0s 165ms/step\n",
            "1/1 [==============================] - 0s 179ms/step\n",
            "1/1 [==============================] - 0s 174ms/step\n",
            "1/1 [==============================] - 0s 177ms/step\n",
            "1/1 [==============================] - 0s 178ms/step\n",
            "1/1 [==============================] - 0s 190ms/step\n",
            "1/1 [==============================] - 0s 175ms/step\n",
            "1/1 [==============================] - 0s 164ms/step\n",
            "1/1 [==============================] - 0s 166ms/step\n",
            "1/1 [==============================] - 0s 189ms/step\n",
            "1/1 [==============================] - 0s 177ms/step\n",
            "1/1 [==============================] - 0s 171ms/step\n",
            "1/1 [==============================] - 0s 177ms/step\n",
            "1/1 [==============================] - 0s 191ms/step\n",
            "1/1 [==============================] - 0s 169ms/step\n",
            "1/1 [==============================] - 0s 169ms/step\n",
            "1/1 [==============================] - 0s 181ms/step\n",
            "1/1 [==============================] - 0s 167ms/step\n",
            "1/1 [==============================] - 0s 267ms/step\n",
            "1/1 [==============================] - 0s 340ms/step\n",
            "1/1 [==============================] - 1s 1s/step\n",
            "1/1 [==============================] - 1s 626ms/step\n",
            "1/1 [==============================] - 0s 219ms/step\n",
            "1/1 [==============================] - 0s 178ms/step\n",
            "1/1 [==============================] - 0s 176ms/step\n",
            "1/1 [==============================] - 0s 313ms/step\n",
            "1/1 [==============================] - 0s 172ms/step\n",
            "1/1 [==============================] - 0s 167ms/step\n",
            "1/1 [==============================] - 0s 178ms/step\n",
            "1/1 [==============================] - 0s 182ms/step\n",
            "1/1 [==============================] - 0s 178ms/step\n",
            "1/1 [==============================] - 0s 174ms/step\n",
            "1/1 [==============================] - 0s 184ms/step\n"
          ]
        }
      ]
    },
    {
      "cell_type": "code",
      "source": [
        "np.unique(np.array(predicted_patches),return_counts = True)"
      ],
      "metadata": {
        "colab": {
          "base_uri": "https://localhost:8080/"
        },
        "id": "S8GKckGROKsw",
        "outputId": "7e306492-2387-4430-f873-be3f3d050757"
      },
      "execution_count": 34,
      "outputs": [
        {
          "output_type": "execute_result",
          "data": {
            "text/plain": [
              "(array([ 2,  6,  7, 11, 21]),\n",
              " array([  649857,   230845,      871, 15197268,  3844103]))"
            ]
          },
          "metadata": {},
          "execution_count": 34
        }
      ]
    },
    {
      "cell_type": "code",
      "source": [
        "\n",
        "\n",
        "stitched_array = np.zeros((3840,4608), dtype=cropped_array.dtype)"
      ],
      "metadata": {
        "id": "h9DegNY7H0PS"
      },
      "execution_count": 36,
      "outputs": []
    },
    {
      "cell_type": "code",
      "source": [
        "stitched_array.shape"
      ],
      "metadata": {
        "colab": {
          "base_uri": "https://localhost:8080/"
        },
        "id": "-QvRlp2tOp3j",
        "outputId": "da89f03a-8c06-410b-d829-b2ebd8ba1506"
      },
      "execution_count": 37,
      "outputs": [
        {
          "output_type": "execute_result",
          "data": {
            "text/plain": [
              "(3840, 4608)"
            ]
          },
          "metadata": {},
          "execution_count": 37
        }
      ]
    },
    {
      "cell_type": "code",
      "source": [
        "patch_idx = 0\n",
        "for i in range(0, 3840, 256):\n",
        "    for j in range(0, 4608, 256):\n",
        "        patch = predicted_patches[patch_idx]\n",
        "        stitched_array[i:i+256, j:j+256] = patch\n",
        "        patch_idx += 1"
      ],
      "metadata": {
        "id": "KvdvGVbeH3wT"
      },
      "execution_count": 38,
      "outputs": []
    },
    {
      "cell_type": "code",
      "source": [
        "np.unique(stitched_array, return_counts= True)"
      ],
      "metadata": {
        "colab": {
          "base_uri": "https://localhost:8080/"
        },
        "id": "wbXM2BxnNEO2",
        "outputId": "e5c85a01-acd1-4031-d3a8-83b5810ba875"
      },
      "execution_count": 39,
      "outputs": [
        {
          "output_type": "execute_result",
          "data": {
            "text/plain": [
              "(array([ 2.,  6.,  7., 11., 21.], dtype=float32),\n",
              " array([  586333,   207647,      772, 13468701,  3431267]))"
            ]
          },
          "metadata": {},
          "execution_count": 39
        }
      ]
    },
    {
      "cell_type": "markdown",
      "source": [
        "1 5 5 230\n",
        "2 190 60 15\n",
        "3 65 240 125\n",
        "4 105 200 95\n",
        "5 30 115 10\n",
        "6 255 196 34\n",
        "7 110 85 5\n",
        "8 235 235 220\n",
        "9 120 216 47\n",
        "10 84 142 128\n",
        "11 84 142 128\n",
        "12 84 142 128\n",
        "13 50 255 215\n",
        "14 50 255 215\n",
        "15 50 255 215\n",
        "16 193 255 0\n",
        "17 105 200 95\n",
        "18 105 200 95\n",
        "19 105 200 95\n",
        "20 193 255 0\n",
        "21 255 50 185\n",
        "22 255 255 255\n",
        "23 0 0 0"
      ],
      "metadata": {
        "id": "W3SuaeHBPCrF"
      }
    },
    {
      "cell_type": "code",
      "source": [
        "\n",
        "import matplotlib.pyplot as plt\n",
        "from matplotlib.colors import ListedColormap\n",
        "\n",
        "# Create an array with the given classes (replace this with your actual segmentation mask)\n",
        "segmentation_mask = stitched_array\n",
        "\n",
        "# Define the colormap with unique colors for each class\n",
        "colors = [ (5, 5, 230),\n",
        "          (190, 60, 15),\n",
        "\n",
        "          (65, 240 ,125),     # Class 3 - shrub land\n",
        "           (105, 200,95),\n",
        "          (30, 115, 10),    # Class 5\n",
        "           (255, 196, 34),\n",
        "           (110, 85, 5),\n",
        "          (235, 235, 220),    # Class 8\n",
        "           (120, 216, 47),\n",
        "           (84, 142, 128)\n",
        "          (84, 142, 128),    # Class 11\n",
        "           (84, 142, 128)\n",
        "          (50 ,255 ,215),    # Class 13\n",
        "          (50, 255, 215),    # Class 14\n",
        "          (193, 255, 0)\n",
        "          (255 50 185)]\n",
        "\n",
        "cmap = ListedColormap(colors)\n",
        "\n",
        "# Create a figure and axis for the plot\n",
        "fig, ax = plt.subplots(figsize=(10, 8))\n",
        "\n",
        "# Plot the segmentation mask using the custom colormap\n",
        "image = ax.imshow(segmentation_mask, cmap=cmap, vmin=3., vmax=16.)\n",
        "\n",
        "# Add a colorbar to show the class-color mapping\n",
        "cbar = plt.colorbar(image, ax=ax, ticks=[3., 5., 8., 11., 13., 14., 16.])\n",
        "cbar.set_label('Classes')\n",
        "\n",
        "# Show the plot\n",
        "plt.title('Segmentation Mask')\n",
        "plt.show()\n"
      ],
      "metadata": {
        "id": "Cg6MaiRBH9IW"
      },
      "execution_count": null,
      "outputs": []
    },
    {
      "cell_type": "code",
      "source": [
        "import numpy as np\n",
        "import matplotlib.pyplot as plt\n",
        "from matplotlib.colors import ListedColormap\n",
        "\n",
        "# Create an array with class labels (example segmentation mask)\n",
        "segmentation_mask = stitched_array  # Example labels\n",
        "\n",
        "# Define the class-color mapping\n",
        "class_colors = {\n",
        "    1: ( 5, 5, 230),\n",
        "    2: (190, 60, 15),\n",
        "    3: (65, 240, 125),\n",
        "    4: (105, 200, 95),\n",
        "    5: ( 30, 115, 10),\n",
        "    6: ( 255, 196, 34),\n",
        "    7: (110, 85, 5),\n",
        "    8: ( 235, 235, 220),\n",
        "    9: (120, 216, 47),\n",
        "    10: ( 84, 142, 128),\n",
        "    11: ( 84, 142, 128),\n",
        "    12: ( 84, 142, 128),\n",
        "    13: ( 50, 255, 215),\n",
        "    14: ( 50, 255, 215),\n",
        "    15: ( 50, 255, 215),\n",
        "    16: ( 193, 255, 0),\n",
        "    17: ( 105, 200, 95),\n",
        "    18: (105, 200, 95),\n",
        "    19: ( 105, 200, 95),\n",
        "    20: (193, 255, 0),\n",
        "    21: ( 255, 50, 185),\n",
        "    22: (255, 255, 255),\n",
        "}\n",
        "\n",
        "# Create a colormap using the class-color mapping\n",
        "colors = [class_colors[i] for i in range(1, 23)]\n",
        "cmap = ListedColormap(colors)\n",
        "\n",
        "# Create a figure and axis for the plot\n",
        "fig, ax = plt.subplots(figsize=(10, 8))\n",
        "\n",
        "# Plot the segmentation mask using the custom colormap\n",
        "image = ax.imshow(segmentation_mask, cmap=cmap, vmin=1, vmax=22)\n",
        "\n",
        "# Add a colorbar to show the class-color mapping\n",
        "cbar = plt.colorbar(image, ax=ax, ticks=list(class_colors.keys()))\n",
        "cbar.set_label('Classes')\n",
        "\n",
        "# Show the plot\n",
        "plt.title('Segmentation Mask')\n",
        "plt.show()\n"
      ],
      "metadata": {
        "colab": {
          "base_uri": "https://localhost:8080/",
          "height": 666
        },
        "id": "aSfZDT9hQXvo",
        "outputId": "b47c5f9b-5e88-4a99-fc31-36f924a37aa2"
      },
      "execution_count": 42,
      "outputs": [
        {
          "output_type": "display_data",
          "data": {
            "text/plain": [
              "<Figure size 1000x800 with 2 Axes>"
            ],
            "image/png": "[encoded data removed]"
          },
          "metadata": {}
        }
      ]
    }
  ]
}