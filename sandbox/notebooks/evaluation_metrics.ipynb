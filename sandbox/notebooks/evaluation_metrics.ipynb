{
  "nbformat": 4,
  "nbformat_minor": 0,
  "metadata": {
    "colab": {
      "provenance": [],
      "authorship_tag": "ABX9TyN/w9aJ8jivBXLTsNxIUBgc",
      "include_colab_link": true
    },
    "kernelspec": {
      "name": "python3",
      "display_name": "Python 3"
    },
    "language_info": {
      "name": "python"
    }
  },
  "cells": [
    {
      "cell_type": "markdown",
      "metadata": {
        "id": "view-in-github",
        "colab_type": "text"
      },
      "source": [
        "<a href=\"https://colab.research.google.com/github/realtechsupport/cocktail/blob/main/sandbox/notebooks/evaluation_metrics.ipynb\" target=\"_parent\"><img src=\"https://colab.research.google.com/assets/colab-badge.svg\" alt=\"Open In Colab\"/></a>"
      ]
    },
    {
      "cell_type": "code",
      "source": [
        "class_names = [\n",
        "    \"lake\",\n",
        "    \"settlement\",\n",
        "    \"shrub land\",\n",
        "    \"grass land\",\n",
        "    \"homogenous forest\",\n",
        "    \"agriculture1 (with vegetation)\",\n",
        "    \"agriculture2 (without vegetation)\",\n",
        "    \"open area\",\n",
        "    \"clove plantation\",\n",
        "    \"mixed forest1\",\n",
        "    \"mixed forest2\",\n",
        "    \"rice field1\",\n",
        "    \"rice field2\",\n",
        "    \"rice field3\",\n",
        "    \"mixed garden\",\n",
        "    \"grass land2\",\n",
        "    \"grass land3\",\n",
        "    \"mixed garden2\",\n",
        "    \"agroforestry\",\n",
        "    \"clouds\",\n",
        "]\n"
      ],
      "metadata": {
        "id": "d0wf1b8A0wrp"
      },
      "execution_count": 167,
      "outputs": []
    },
    {
      "cell_type": "markdown",
      "source": [
        "1. reshape the input image to the size of label\n",
        "2. create boolean mask\n",
        "boolean_mask = label_array != 0\n",
        "3. apply boolean mask to resized prediction\n",
        "new_predict = np.where(boolean_mask,resized_prediction_array,0)\n",
        "4. send the label_array and new_predict into the compute_metrics"
      ],
      "metadata": {
        "id": "pDup1b86XhSb"
      }
    },
    {
      "cell_type": "code",
      "source": [
        "from google.colab import drive\n",
        "drive.mount(\"/content/gdrive\")"
      ],
      "metadata": {
        "colab": {
          "base_uri": "https://localhost:8080/"
        },
        "id": "CwC541wDZqv1",
        "outputId": "8876e97c-ab45-4c5c-9118-8e7e9430d5e0"
      },
      "execution_count": 97,
      "outputs": [
        {
          "output_type": "stream",
          "name": "stdout",
          "text": [
            "Mounted at /content/gdrive\n"
          ]
        }
      ]
    },
    {
      "cell_type": "code",
      "source": [
        "!pip install rasterio"
      ],
      "metadata": {
        "id": "S2PU-MP6Z74H"
      },
      "execution_count": null,
      "outputs": []
    },
    {
      "cell_type": "code",
      "source": [
        "import rasterio\n",
        "from rasterio.mask import mask\n",
        "import geopandas as gpd\n",
        "from shapely.geometry import mapping\n",
        "import tensorflow as tf\n",
        "import time\n",
        "from tensorflow import keras"
      ],
      "metadata": {
        "id": "QztDY7ODaZEG"
      },
      "execution_count": 105,
      "outputs": []
    },
    {
      "cell_type": "code",
      "source": [
        "geojson_datapath = '/content/gdrive/MyDrive/exp/label/newextent_1123.geojson'"
      ],
      "metadata": {
        "id": "_HdLOo4iaP3T"
      },
      "execution_count": 99,
      "outputs": []
    },
    {
      "cell_type": "code",
      "source": [
        "def clip_tiff(tiff, geojson = geojson_datapath):\n",
        "\n",
        "    with open(geojson) as clip_geojson:\n",
        "        clip_geojson = gpd.read_file(clip_geojson)\n",
        "        clip_geometry = clip_geojson.geometry.values[0]\n",
        "        clip_geojson = mapping(clip_geometry)\n",
        "\n",
        "    with rasterio.open(tiff) as src:\n",
        "        # Perform the clip\n",
        "        clip_image, clip_transform = mask(src, [clip_geojson], crop=True)\n",
        "\n",
        "    return clip_image\n",
        "\n",
        "def tensorify_image(image):\n",
        "    ## resizing and process input funciton condensed into one.\n",
        "    tensor_image = tf.convert_to_tensor(image)\n",
        "    tensor_image = tf.transpose(tensor_image, perm=[1, 2, 0])\n",
        "    return tensor_image\n",
        "\n",
        "\n",
        "def bandwise_normalize(input_tensor, epsilon=1e-8):\n",
        "    # Convert the input_tensor to a float32 type\n",
        "    input_tensor = tf.cast(input_tensor, tf.float32)\n",
        "\n",
        "    # Calculate the minimum and maximum values along the channel axis\n",
        "    min_val = tf.reduce_min(input_tensor, axis=2, keepdims=True)\n",
        "    max_val = tf.reduce_max(input_tensor, axis=2, keepdims=True)\n",
        "\n",
        "    # Check for potential numerical instability\n",
        "    denom = max_val - min_val\n",
        "    denom = tf.where(tf.abs(denom) < epsilon, epsilon, denom)\n",
        "\n",
        "    # Normalize the tensor band-wise to the range [0, 1]\n",
        "    normalized_tensor = (input_tensor - min_val) / denom\n",
        "\n",
        "    return normalized_tensor\n",
        "\n",
        "\n",
        "def pad_to_multiple(image, TILE_HT, TILE_WD):\n",
        "    # Get the current dimensions\n",
        "    height, width, channels = image.shape\n",
        "\n",
        "    # Calculate the target dimensions\n",
        "    target_height = tf.cast(tf.math.ceil(height / TILE_HT) * TILE_HT, tf.int32)\n",
        "    target_width = tf.cast(tf.math.ceil(width / TILE_WD) * TILE_WD, tf.int32)\n",
        "\n",
        "    # Calculate the amount of padding\n",
        "    pad_height = target_height - height\n",
        "    pad_width = target_width - width\n",
        "\n",
        "    # Pad the image\n",
        "    padded_image = tf.image.resize_with_crop_or_pad(image, target_height, target_width)\n",
        "\n",
        "    return padded_image\n",
        "\n",
        "\n",
        "def tile_image(fullimg, CHANNELS=1, TILE_HT=128, TILE_WD=128):\n",
        "    fullimg = pad_to_multiple(fullimg, TILE_HT, TILE_WD)\n",
        "    images = tf.expand_dims(fullimg, axis=0)\n",
        "    tiles = tf.image.extract_patches(\n",
        "        images=images,\n",
        "        sizes=[1, TILE_HT, TILE_WD, 1],\n",
        "        strides=[1, TILE_HT, TILE_WD, 1],\n",
        "        rates=[1, 1, 1, 1],\n",
        "        padding=\"VALID\",\n",
        "    )\n",
        "\n",
        "    tiles = tf.squeeze(tiles, axis=0)\n",
        "    nrows = tiles.shape[0]\n",
        "    ncols = tiles.shape[1]\n",
        "    all_tiles = tf.reshape(tiles, [nrows * ncols, TILE_HT, TILE_WD, CHANNELS])\n",
        "    ordered_tiles = tf.reshape(tiles, [nrows, ncols, TILE_HT, TILE_WD, CHANNELS])\n",
        "    return ordered_tiles, all_tiles, fullimg.shape\n",
        "\n",
        "\n",
        "\n",
        "def stitch_segmentation_patches(segmentation_patches, dims, PATCH_HEIGHT, PATCH_WIDTH):\n",
        "    height, width = dims[0], dims[1]\n",
        "    num_rows, num_cols = segmentation_patches.shape[:2]\n",
        "\n",
        "    # Convert TensorFlow tensor to NumPy array\n",
        "    segmentation_patches_np = segmentation_patches.numpy()\n",
        "\n",
        "    stitched_array = np.zeros((height, width), dtype=int)\n",
        "\n",
        "    # Reshape the segmentation_patches array\n",
        "    segmentation_patches_reshaped = segmentation_patches_np.reshape(\n",
        "        (num_rows, num_cols, PATCH_HEIGHT, PATCH_WIDTH)\n",
        "    )\n",
        "    print(\"segmentation_patches_reshaped.shape\", segmentation_patches_reshaped.shape)\n",
        "\n",
        "    # Calculate the indices for stitching\n",
        "    row_indices_patch = np.arange(0, height, PATCH_HEIGHT)\n",
        "    col_indices_patch = np.arange(0, width, PATCH_WIDTH)\n",
        "    print(\"row_indices_patch\", row_indices_patch.shape)\n",
        "    print(\"col_indices_patch\", col_indices_patch.shape)\n",
        "\n",
        "    # Use nested loops to stitch patches into the final array\n",
        "    for i in range(num_rows):\n",
        "        for j in range(num_cols):\n",
        "            row_start = row_indices_patch[i]\n",
        "            col_start = col_indices_patch[j]\n",
        "            row_end = row_start + PATCH_HEIGHT\n",
        "            col_end = col_start + PATCH_WIDTH\n",
        "\n",
        "            stitched_array[\n",
        "                row_start:row_end, col_start:col_end\n",
        "            ] = segmentation_patches_reshaped[i, j]\n",
        "\n",
        "    print(\"stitched_array\", stitched_array.shape)\n",
        "    return stitched_array\n",
        "\n",
        "\n",
        "def prediction_function_img(test_image_path):\n",
        "    image = clip_tiff(test_image_path)\n",
        "    new_image = tensorify_image(image)\n",
        "    normalized_image = bandwise_normalize(new_image)\n",
        "    display_patches, inference_patches, dims = tile_image(\n",
        "        normalized_image, IMAGE_CHANNELS, PATCH_HEIGHT, PATCH_WIDTH\n",
        "    )\n",
        "    print(\"dims\", dims)\n",
        "    start_time = time.time()\n",
        "    predictions = model.predict(inference_patches, batch_size=2048)\n",
        "    end_time_pred = time.time()\n",
        "\n",
        "    # Calculate the elapsed time\n",
        "    elapsed_time = end_time_pred - start_time\n",
        "\n",
        "    # Print the elapsed time\n",
        "    print(f\"Time taken for predictions: {elapsed_time} seconds\")\n",
        "\n",
        "    logits = predictions\n",
        "\n",
        "    # Set values of class 0 to a very large negative number\n",
        "    mask = tf.one_hot(\n",
        "        0, depth=23, on_value=float(\"-inf\"), off_value=0, dtype=tf.float32\n",
        "    )\n",
        "    logits_with_mask = logits + mask\n",
        "\n",
        "    # Perform argmax along the last axis (axis=-1)\n",
        "    argmax_result = tf.argmax(logits_with_mask, axis=-1)\n",
        "\n",
        "    tiles = display_patches\n",
        "    nrows = tiles.shape[0]\n",
        "    ncols = tiles.shape[1]\n",
        "    segmentation_patches = tf.reshape(\n",
        "        argmax_result, [nrows, ncols, PATCH_HEIGHT, PATCH_WIDTH]\n",
        "    )\n",
        "\n",
        "    stitched_array = stitch_segmentation_patches(\n",
        "        segmentation_patches, dims, PATCH_HEIGHT, PATCH_WIDTH\n",
        "    )\n",
        "\n",
        "    end_time = time.time()\n",
        "\n",
        "    # Calculate the elapsed time\n",
        "    elapsed_time_stitch = end_time - start_time\n",
        "\n",
        "    # Print the elapsed time\n",
        "    print(f\"Time taken including stitching: {elapsed_time_stitch} seconds\")\n",
        "\n",
        "    return stitched_array\n"
      ],
      "metadata": {
        "id": "sIDHdWt4bW-5"
      },
      "execution_count": 108,
      "outputs": []
    },
    {
      "cell_type": "code",
      "source": [
        "model_path = '/content/model_patch_h8_w8_batch_32.hdf5'\n",
        "\n",
        "IMAGE_CHANNELS = 8  # 8 bands images as input\n",
        "\n",
        "model = keras.models.load_model(model_path)\n",
        "input_shape = model.layers[0].input_shape\n",
        "\n",
        "PATCH_HEIGHT = input_shape[0][-3]\n",
        "PATCH_WIDTH = input_shape[0][-2]\n",
        "\n",
        "test_image_path = '/content/gdrive/MyDrive/exp/other images/test_folder/area2_0803_2022_8bands.tif'\n",
        "\n",
        "predicted_array = prediction_function_img(test_image_path)"
      ],
      "metadata": {
        "colab": {
          "base_uri": "https://localhost:8080/"
        },
        "id": "zN69fkxKb-CI",
        "outputId": "19e41227-41ea-42a5-b576-b668e547e9ff"
      },
      "execution_count": null,
      "outputs": [
        {
          "output_type": "stream",
          "name": "stdout",
          "text": [
            "dims (3696, 4584, 8)\n",
            "130/130 [==============================] - 38s 286ms/step\n",
            "Time taken for predictions: 41.402395725250244 seconds\n"
          ]
        }
      ]
    },
    {
      "cell_type": "code",
      "source": [
        "label_path = '/content/gdrive/MyDrive/exp/label/image_extent_mask_1123.tif'\n",
        "ground_truth = clip_tiff(label_path)"
      ],
      "metadata": {
        "id": "8uf0hHc-dE5E"
      },
      "execution_count": 176,
      "outputs": []
    },
    {
      "cell_type": "code",
      "source": [
        "def resize_img(image,label):\n",
        "  image = tf.image.resize_with_crop_or_pad(image, label.shape[0], label.shape[1])\n",
        "  return image, label\n",
        "\n",
        "\n",
        "def process_input(image, label):\n",
        "\n",
        "    tensor_image = tf.convert_to_tensor(image)\n",
        "    tensor_image = tf.expand_dims(tensor_image,-1)\n",
        "    #tensor_image = tf.transpose(tensor_image, perm=[1, 2, 0])\n",
        "    tensor_label = tf.convert_to_tensor(label)\n",
        "    tensor_label = tf.transpose(tensor_label, perm=[1, 2, 0])\n",
        "    #tensor_label = tf.expand_dims(tensor_label,-1)\n",
        "\n",
        "\n",
        "    if tensor_label.shape != tensor_image.shape:\n",
        "      tensor_image, tensor_label = resize_img(tensor_image, tensor_label)\n",
        "\n",
        "    tensor_image = tf.squeeze(tensor_image)\n",
        "    tensor_label = tf.squeeze(tensor_label)\n",
        "\n",
        "    return tensor_image.numpy().astype(int), tensor_label.numpy().astype(int)"
      ],
      "metadata": {
        "id": "pSw7yk2FZOcF"
      },
      "execution_count": 141,
      "outputs": []
    },
    {
      "cell_type": "code",
      "source": [
        "resized_predicted_array, new_ground_truth = process_input(predicted_array, ground_truth)"
      ],
      "metadata": {
        "id": "5tD4C4neahsA"
      },
      "execution_count": 142,
      "outputs": []
    },
    {
      "cell_type": "code",
      "source": [
        "new_boolean_mask = new_ground_truth != 0"
      ],
      "metadata": {
        "id": "BRaauaT9eRKr"
      },
      "execution_count": 143,
      "outputs": []
    },
    {
      "cell_type": "code",
      "source": [
        "flattened_array = np.ravel(new_predict_mask).astype(int)\n",
        "result = np.bincount(flattened_array)"
      ],
      "metadata": {
        "id": "aHEmCKvpfabM"
      },
      "execution_count": 144,
      "outputs": []
    },
    {
      "cell_type": "code",
      "source": [
        "# Generate x-axis values (unique integers in the input array)\n",
        "x_values = np.arange(len(result))\n",
        "\n",
        "# Create a bar plot\n",
        "plt.bar(x_values, result, align='center')\n",
        "\n",
        "# Label the axes\n",
        "plt.xlabel('Unique Values')\n",
        "plt.ylabel('Count')\n",
        "\n",
        "# Show the plot\n",
        "plt.show()"
      ],
      "metadata": {
        "colab": {
          "base_uri": "https://localhost:8080/",
          "height": 465
        },
        "id": "DDq1K6AJe13G",
        "outputId": "e3053a3d-e30f-4631-e15c-1c1abcf11b06"
      },
      "execution_count": 145,
      "outputs": [
        {
          "output_type": "display_data",
          "data": {
            "text/plain": [
              "<Figure size 640x480 with 1 Axes>"
            ],
            "image/png": "[encoded data removed]"
          },
          "metadata": {}
        }
      ]
    },
    {
      "cell_type": "code",
      "source": [
        "unique_values = np.unique(new_predict_mask)"
      ],
      "metadata": {
        "id": "NYkaQZn4quQ0"
      },
      "execution_count": 147,
      "outputs": []
    },
    {
      "cell_type": "code",
      "source": [
        "unique_values"
      ],
      "metadata": {
        "colab": {
          "base_uri": "https://localhost:8080/"
        },
        "id": "Eqci7oGoqxLy",
        "outputId": "df2d04df-cb1b-43b3-fa2b-0e104ab049e1"
      },
      "execution_count": 148,
      "outputs": [
        {
          "output_type": "execute_result",
          "data": {
            "text/plain": [
              "array([ 0,  1,  2,  3,  4,  5,  6,  7,  9, 10, 11, 13, 14, 15, 16, 17, 18,\n",
              "       20, 22])"
            ]
          },
          "metadata": {},
          "execution_count": 148
        }
      ]
    },
    {
      "cell_type": "code",
      "source": [
        "unique_values_ground_truth = np.unique(new_ground_truth)"
      ],
      "metadata": {
        "id": "ffsCeZr0q1mm"
      },
      "execution_count": 149,
      "outputs": []
    },
    {
      "cell_type": "code",
      "source": [
        "unique_values_ground_truth"
      ],
      "metadata": {
        "colab": {
          "base_uri": "https://localhost:8080/"
        },
        "id": "mrsLrmYLrcHd",
        "outputId": "f3f37e9c-3491-4b02-ccbe-3f524f6d70df"
      },
      "execution_count": 150,
      "outputs": [
        {
          "output_type": "execute_result",
          "data": {
            "text/plain": [
              "array([ 0,  1,  2,  3,  4,  5,  6,  7,  8,  9, 10, 11, 13, 14, 15, 16, 17,\n",
              "       18, 20, 21, 22])"
            ]
          },
          "metadata": {},
          "execution_count": 150
        }
      ]
    },
    {
      "cell_type": "code",
      "source": [
        "def compute_metrics(y_true, y_pred):\n",
        "  '''\n",
        "  Computes IOU and Dice Score.\n",
        "\n",
        "  Args:\n",
        "    y_true (tensor) - ground truth label map\n",
        "    y_pred (tensor) - predicted label map\n",
        "  '''\n",
        "\n",
        "  class_wise_iou = []\n",
        "  class_wise_dice_score = []\n",
        "  class_wise_accuracy = []\n",
        "  class_wise_precision = []\n",
        "  class_wise_recall = []\n",
        "\n",
        "  smoothening_factor = 0.00001\n",
        "\n",
        "  for i in np.unique(y_true)[1:]:\n",
        "    intersection = np.sum((y_pred == i) * (y_true == i))\n",
        "    y_true_area = np.sum((y_true == i))\n",
        "    y_pred_area = np.sum((y_pred == i))\n",
        "    combined_area = y_true_area + y_pred_area\n",
        "\n",
        "    iou = (intersection + smoothening_factor) / (combined_area - intersection + smoothening_factor)\n",
        "    class_wise_iou.append(iou)\n",
        "\n",
        "    dice_score =  2 * ((intersection + smoothening_factor) / (combined_area + smoothening_factor))\n",
        "    class_wise_dice_score.append(dice_score)\n",
        "\n",
        "    # Accuracy\n",
        "    accuracy = np.sum((y_pred == i) & (y_true == i)) / np.sum(y_true == i)\n",
        "    class_wise_accuracy.append(accuracy)\n",
        "\n",
        "    # Precision\n",
        "    precision = intersection / (y_pred_area + smoothening_factor)\n",
        "    class_wise_precision.append(precision)\n",
        "\n",
        "    # Recall\n",
        "    recall = intersection / (y_true_area + smoothening_factor)\n",
        "    class_wise_recall.append(recall)\n",
        "\n",
        "  # Mean IOU\n",
        "  mean_iou = np.mean(class_wise_iou)\n",
        "\n",
        "  return class_wise_iou, class_wise_dice_score,class_wise_accuracy, class_wise_precision, class_wise_recall, mean_iou"
      ],
      "metadata": {
        "id": "iXHy9yCUf8oP"
      },
      "execution_count": 172,
      "outputs": []
    },
    {
      "cell_type": "code",
      "source": [
        "class_names = [\n",
        "    \"lake\",\n",
        "    \"settlement\",\n",
        "    \"shrub land\",\n",
        "    \"grass land\",\n",
        "    \"homogenous forest\",\n",
        "    \"agriculture1 (with vegetation)\",\n",
        "    \"agriculture2 (without vegetation)\",\n",
        "    \"open area\",\n",
        "    \"clove plantation\",\n",
        "    \"mixed forest1\",\n",
        "    \"mixed forest2\",\n",
        "    \"rice field1\",\n",
        "    \"rice field2\",\n",
        "    \"rice field3\",\n",
        "    \"mixed garden\",\n",
        "    \"grass land2\",\n",
        "    \"grass land3\",\n",
        "    \"mixed garden2\",\n",
        "    \"agroforestry\",\n",
        "    \"clouds\",\n",
        "]\n"
      ],
      "metadata": {
        "id": "Y93GY4IbgHOX"
      },
      "execution_count": 161,
      "outputs": []
    },
    {
      "cell_type": "code",
      "source": [
        "# compute class-wise metrics\n",
        "class_wise_iou, class_wise_dice_score, class_wise_accuracy, class_wise_precision, class_wise_recall, mean_iou = compute_metrics(y_true, y_pred)\n"
      ],
      "metadata": {
        "id": "EYX3OVo6gRFC"
      },
      "execution_count": 173,
      "outputs": []
    },
    {
      "cell_type": "code",
      "source": [
        "mean_iou"
      ],
      "metadata": {
        "id": "IaQeSApn4RTz"
      },
      "execution_count": null,
      "outputs": []
    },
    {
      "cell_type": "code",
      "source": [
        "class_wise_iou"
      ],
      "metadata": {
        "id": "SufejsOnxHmW"
      },
      "execution_count": null,
      "outputs": []
    },
    {
      "cell_type": "code",
      "source": [
        "# print IOU for each class\n",
        "for idx, iou in enumerate(class_wise_iou):\n",
        "  spaces = ' ' * (13-len(class_names[idx]) + 2)\n",
        "  print(\"{}{}{} \".format(class_names[idx], spaces, iou))"
      ],
      "metadata": {
        "colab": {
          "base_uri": "https://localhost:8080/"
        },
        "id": "esum3HQZgdT1",
        "outputId": "1fde58cc-df2d-408a-c1d8-2607869c0e80"
      },
      "execution_count": 158,
      "outputs": [
        {
          "output_type": "stream",
          "name": "stdout",
          "text": [
            "lake           0.9797916792437278 \n",
            "settlement     0.5958236660808243 \n",
            "shrub land     0.0476620006322478 \n",
            "grass land     0.06061093398615605 \n",
            "homogenous forest0.21305182386075883 \n",
            "agriculture1 (with vegetation)0.10794832689304067 \n",
            "agriculture2 (without vegetation)0.18143313073314005 \n",
            "open area      1.0482180183624946e-08 \n",
            "clove plantation0.00020128925100514368 \n",
            "mixed forest1  0.32165169654938397 \n",
            "mixed forest2  0.3056850539259614 \n",
            "rice field1    1.6393442354205864e-08 \n",
            "rice field2    0.0008952573838512592 \n",
            "rice field3    0.022535213770716482 \n",
            "mixed garden   3.4387895342545063e-09 \n",
            "grass land2    5.61167224684808e-09 \n",
            "grass land3    2.3474177852718834e-08 \n",
            "mixed garden2  0.14878777956029926 \n",
            "agroforestry   5.0251253756218405e-08 \n",
            "clouds         0.1666223170199968 \n"
          ]
        }
      ]
    },
    {
      "cell_type": "code",
      "source": [
        "# print the dice score for each class\n",
        "for idx, dice_score in enumerate(class_wise_dice_score):\n",
        "  spaces = ' ' * (13-len(class_names[idx]) + 2)\n",
        "  print(\"{}{}{} \".format(class_names[idx], spaces, dice_score))"
      ],
      "metadata": {
        "colab": {
          "base_uri": "https://localhost:8080/"
        },
        "id": "pf5GQaamgne4",
        "outputId": "e8c66520-3208-4ea7-fca5-9e78d2c02e23"
      },
      "execution_count": 159,
      "outputs": [
        {
          "output_type": "stream",
          "name": "stdout",
          "text": [
            "lake           0.9897927034941342 \n",
            "settlement     0.7467287005679765 \n",
            "shrub land     0.09098736161070793 \n",
            "grass land     0.11429437909004944 \n",
            "homogenous forest0.3512658235520915 \n",
            "agriculture1 (with vegetation)0.19486166364651844 \n",
            "agriculture2 (without vegetation)0.30714075321326945 \n",
            "open area      2.0964360367249892e-08 \n",
            "clove plantation0.00040249748399829194 \n",
            "mixed forest1  0.48674200230851816 \n",
            "mixed forest2  0.4682370423451814 \n",
            "rice field1    3.278688470841173e-08 \n",
            "rice field2    0.0017889132339246126 \n",
            "rice field3    0.04407713988460521 \n",
            "mixed garden   6.877579068509013e-09 \n",
            "grass land2    1.122334449369616e-08 \n",
            "grass land3    4.694835570543767e-08 \n",
            "mixed garden2  0.2590344055232229 \n",
            "agroforestry   1.0050250751243681e-07 \n",
            "clouds         0.2856491164634767 \n"
          ]
        }
      ]
    },
    {
      "cell_type": "code",
      "source": [
        "import seaborn as sns\n",
        "import matplotlib.pyplot as plt\n",
        "import numpy as np\n",
        "\n",
        "# Provided normalized colors array\n",
        "normalized_colors_array = np.array([\n",
        "    [0.01960784, 0.01960784, 0.90196078],\n",
        "    [0.74509804, 0.23529412, 0.05882353],\n",
        "    [0.25490196, 0.94117647, 0.49019608],\n",
        "    [0.41176471, 0.78431373, 0.37254902],\n",
        "    [0.11764706, 0.45098039, 0.03921569],\n",
        "    [1.        , 0.76862745, 0.13333333],\n",
        "    [0.43137255, 0.33333333, 0.01960784],\n",
        "    [0.92156863, 0.92156863, 0.8627451 ],\n",
        "    [0.47058824, 0.84705882, 0.18431373],\n",
        "    [0.32941176, 0.55686275, 0.50196078],\n",
        "    [0.32941176, 0.55686275, 0.50196078],\n",
        "    [0.19607843, 1.        , 0.84313725],\n",
        "    [0.19607843, 1.        , 0.84313725],\n",
        "    [0.19607843, 1.        , 0.84313725],\n",
        "    [0.75686275, 1.        , 0.        ],\n",
        "    [0.41176471, 0.78431373, 0.37254902],\n",
        "    [0.41176471, 0.78431373, 0.37254902],\n",
        "    [0.75686275, 1.        , 0.        ],\n",
        "    [1.        , 0.19607843, 0.7254902 ],\n",
        "    [1.        , 1.        , 1.        ]\n",
        "])\n",
        "\n",
        "# Create a Seaborn color palette\n",
        "colors = sns.color_palette(normalized_colors_array)\n",
        "\n",
        "\n"
      ],
      "metadata": {
        "id": "LJage3MtUoww"
      },
      "execution_count": null,
      "outputs": []
    },
    {
      "cell_type": "code",
      "source": [
        "colors"
      ],
      "metadata": {
        "colab": {
          "base_uri": "https://localhost:8080/",
          "height": 76
        },
        "id": "J5mIaS0bU8QF",
        "outputId": "6c9040fb-5cf8-4662-b060-4ab1e73bfef1"
      },
      "execution_count": 164,
      "outputs": [
        {
          "output_type": "execute_result",
          "data": {
            "text/plain": [
              "[(0.01960784, 0.01960784, 0.90196078),\n",
              " (0.74509804, 0.23529412, 0.05882353),\n",
              " (0.25490196, 0.94117647, 0.49019608),\n",
              " (0.41176471, 0.78431373, 0.37254902),\n",
              " (0.11764706, 0.45098039, 0.03921569),\n",
              " (1.0, 0.76862745, 0.13333333),\n",
              " (0.43137255, 0.33333333, 0.01960784),\n",
              " (0.92156863, 0.92156863, 0.8627451),\n",
              " (0.47058824, 0.84705882, 0.18431373),\n",
              " (0.32941176, 0.55686275, 0.50196078),\n",
              " (0.32941176, 0.55686275, 0.50196078),\n",
              " (0.19607843, 1.0, 0.84313725),\n",
              " (0.19607843, 1.0, 0.84313725),\n",
              " (0.19607843, 1.0, 0.84313725),\n",
              " (0.75686275, 1.0, 0.0),\n",
              " (0.41176471, 0.78431373, 0.37254902),\n",
              " (0.41176471, 0.78431373, 0.37254902),\n",
              " (0.75686275, 1.0, 0.0),\n",
              " (1.0, 0.19607843, 0.7254902),\n",
              " (1.0, 1.0, 1.0)]"
            ],
            "text/html": [
              "<svg  width=\"1100\" height=\"55\"><rect x=\"0\" y=\"0\" width=\"55\" height=\"55\" style=\"fill:#0505e6;stroke-width:2;stroke:rgb(255,255,255)\"/><rect x=\"55\" y=\"0\" width=\"55\" height=\"55\" style=\"fill:#be3c0f;stroke-width:2;stroke:rgb(255,255,255)\"/><rect x=\"110\" y=\"0\" width=\"55\" height=\"55\" style=\"fill:#41f07d;stroke-width:2;stroke:rgb(255,255,255)\"/><rect x=\"165\" y=\"0\" width=\"55\" height=\"55\" style=\"fill:#69c85f;stroke-width:2;stroke:rgb(255,255,255)\"/><rect x=\"220\" y=\"0\" width=\"55\" height=\"55\" style=\"fill:#1e730a;stroke-width:2;stroke:rgb(255,255,255)\"/><rect x=\"275\" y=\"0\" width=\"55\" height=\"55\" style=\"fill:#ffc422;stroke-width:2;stroke:rgb(255,255,255)\"/><rect x=\"330\" y=\"0\" width=\"55\" height=\"55\" style=\"fill:#6e5505;stroke-width:2;stroke:rgb(255,255,255)\"/><rect x=\"385\" y=\"0\" width=\"55\" height=\"55\" style=\"fill:#ebebdc;stroke-width:2;stroke:rgb(255,255,255)\"/><rect x=\"440\" y=\"0\" width=\"55\" height=\"55\" style=\"fill:#78d82f;stroke-width:2;stroke:rgb(255,255,255)\"/><rect x=\"495\" y=\"0\" width=\"55\" height=\"55\" style=\"fill:#548e80;stroke-width:2;stroke:rgb(255,255,255)\"/><rect x=\"550\" y=\"0\" width=\"55\" height=\"55\" style=\"fill:#548e80;stroke-width:2;stroke:rgb(255,255,255)\"/><rect x=\"605\" y=\"0\" width=\"55\" height=\"55\" style=\"fill:#32ffd7;stroke-width:2;stroke:rgb(255,255,255)\"/><rect x=\"660\" y=\"0\" width=\"55\" height=\"55\" style=\"fill:#32ffd7;stroke-width:2;stroke:rgb(255,255,255)\"/><rect x=\"715\" y=\"0\" width=\"55\" height=\"55\" style=\"fill:#32ffd7;stroke-width:2;stroke:rgb(255,255,255)\"/><rect x=\"770\" y=\"0\" width=\"55\" height=\"55\" style=\"fill:#c1ff00;stroke-width:2;stroke:rgb(255,255,255)\"/><rect x=\"825\" y=\"0\" width=\"55\" height=\"55\" style=\"fill:#69c85f;stroke-width:2;stroke:rgb(255,255,255)\"/><rect x=\"880\" y=\"0\" width=\"55\" height=\"55\" style=\"fill:#69c85f;stroke-width:2;stroke:rgb(255,255,255)\"/><rect x=\"935\" y=\"0\" width=\"55\" height=\"55\" style=\"fill:#c1ff00;stroke-width:2;stroke:rgb(255,255,255)\"/><rect x=\"990\" y=\"0\" width=\"55\" height=\"55\" style=\"fill:#ff32b9;stroke-width:2;stroke:rgb(255,255,255)\"/><rect x=\"1045\" y=\"0\" width=\"55\" height=\"55\" style=\"fill:#ffffff;stroke-width:2;stroke:rgb(255,255,255)\"/></svg>"
            ]
          },
          "metadata": {},
          "execution_count": 164
        }
      ]
    },
    {
      "cell_type": "code",
      "source": [
        "for class_name, color in zip(class_names, colors):\n",
        "  print(f'{class_name} -- {color}')"
      ],
      "metadata": {
        "colab": {
          "base_uri": "https://localhost:8080/"
        },
        "id": "dN5NA4AE16vL",
        "outputId": "1fcd4830-f59c-4c1b-91af-7e448e0a19f2"
      },
      "execution_count": 169,
      "outputs": [
        {
          "output_type": "stream",
          "name": "stdout",
          "text": [
            "lake -- (0.01960784, 0.01960784, 0.90196078)\n",
            "settlement -- (0.74509804, 0.23529412, 0.05882353)\n",
            "shrub land -- (0.25490196, 0.94117647, 0.49019608)\n",
            "grass land -- (0.41176471, 0.78431373, 0.37254902)\n",
            "homogenous forest -- (0.11764706, 0.45098039, 0.03921569)\n",
            "agriculture1 (with vegetation) -- (1.0, 0.76862745, 0.13333333)\n",
            "agriculture2 (without vegetation) -- (0.43137255, 0.33333333, 0.01960784)\n",
            "open area -- (0.92156863, 0.92156863, 0.8627451)\n",
            "clove plantation -- (0.47058824, 0.84705882, 0.18431373)\n",
            "mixed forest1 -- (0.32941176, 0.55686275, 0.50196078)\n",
            "mixed forest2 -- (0.32941176, 0.55686275, 0.50196078)\n",
            "rice field1 -- (0.19607843, 1.0, 0.84313725)\n",
            "rice field2 -- (0.19607843, 1.0, 0.84313725)\n",
            "rice field3 -- (0.19607843, 1.0, 0.84313725)\n",
            "mixed garden -- (0.75686275, 1.0, 0.0)\n",
            "grass land2 -- (0.41176471, 0.78431373, 0.37254902)\n",
            "grass land3 -- (0.41176471, 0.78431373, 0.37254902)\n",
            "mixed garden2 -- (0.75686275, 1.0, 0.0)\n",
            "agroforestry -- (1.0, 0.19607843, 0.7254902)\n",
            "clouds -- (1.0, 1.0, 1.0)\n"
          ]
        }
      ]
    }
  ]
}