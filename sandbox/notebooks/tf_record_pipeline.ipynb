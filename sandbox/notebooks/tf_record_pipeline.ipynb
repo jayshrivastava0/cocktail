{
  "nbformat": 4,
  "nbformat_minor": 0,
  "metadata": {
    "colab": {
      "provenance": [],
      "authorship_tag": "ABX9TyOsLMJOqzCRQWBPOh+jkHs2",
      "include_colab_link": true
    },
    "kernelspec": {
      "name": "python3",
      "display_name": "Python 3"
    },
    "language_info": {
      "name": "python"
    }
  },
  "cells": [
    {
      "cell_type": "markdown",
      "metadata": {
        "id": "view-in-github",
        "colab_type": "text"
      },
      "source": [
        "<a href=\"https://colab.research.google.com/github/realtechsupport/cocktail/blob/main/sandbox/notebooks/tf_record_pipeline.ipynb\" target=\"_parent\"><img src=\"https://colab.research.google.com/assets/colab-badge.svg\" alt=\"Open In Colab\"/></a>"
      ]
    },
    {
      "cell_type": "code",
      "execution_count": 1,
      "metadata": {
        "id": "rQaKnGXht-xL",
        "colab": {
          "base_uri": "https://localhost:8080/"
        },
        "outputId": "bdf66568-b1bf-46bd-b305-ca2376bb050e"
      },
      "outputs": [
        {
          "output_type": "stream",
          "name": "stdout",
          "text": [
            "Drive already mounted at /content/gdrive; to attempt to forcibly remount, call drive.mount(\"/content/gdrive\", force_remount=True).\n"
          ]
        }
      ],
      "source": [
        "from google.colab import drive\n",
        "drive.mount(\"/content/gdrive\")"
      ]
    },
    {
      "cell_type": "code",
      "source": [
        "image_datapath = '/content/gdrive/MyDrive/exp/other images/test_folder/'"
      ],
      "metadata": {
        "id": "kvzNEhj4ueeg"
      },
      "execution_count": 2,
      "outputs": []
    },
    {
      "cell_type": "code",
      "source": [
        "label_datapath = '/content/gdrive/MyDrive/exp/label/image_extent_mask_1123.tif'"
      ],
      "metadata": {
        "id": "1QSn1iQ6u7DN"
      },
      "execution_count": 3,
      "outputs": []
    },
    {
      "cell_type": "code",
      "source": [
        "geojson_datapath = '/content/gdrive/MyDrive/exp/label/newextent_1123.geojson'"
      ],
      "metadata": {
        "id": "UrrVShWIwW8d"
      },
      "execution_count": 4,
      "outputs": []
    },
    {
      "cell_type": "markdown",
      "source": [
        "Our image_datapath contains two images in GeoTIFF format containing 8 band data.\n",
        "\n",
        "Our label_datapath is a label image(embedded in its pixel values) in GeoTIFF format containing class information corresponding to the images in image_datapath\n",
        "\n",
        "Converting to tf_record:\n",
        "\n",
        "1. open tiff files using rasterio\n",
        "2. clip the tiff files to the desired extent prescribed by our geojson file\n",
        "3. Store the numpy array along with metadata of both image and label in tf.example datastructure\n"
      ],
      "metadata": {
        "id": "SnIaOIKLvApv"
      }
    },
    {
      "cell_type": "code",
      "source": [
        "!pip install rasterio"
      ],
      "metadata": {
        "colab": {
          "base_uri": "https://localhost:8080/"
        },
        "id": "qLg571J3u_HF",
        "outputId": "5051aee4-cf55-4d91-b382-2a8a49b5a8a2"
      },
      "execution_count": 6,
      "outputs": [
        {
          "output_type": "stream",
          "name": "stdout",
          "text": [
            "Requirement already satisfied: rasterio in /usr/local/lib/python3.10/dist-packages (1.3.9)\n",
            "Requirement already satisfied: affine in /usr/local/lib/python3.10/dist-packages (from rasterio) (2.4.0)\n",
            "Requirement already satisfied: attrs in /usr/local/lib/python3.10/dist-packages (from rasterio) (23.1.0)\n",
            "Requirement already satisfied: certifi in /usr/local/lib/python3.10/dist-packages (from rasterio) (2023.7.22)\n",
            "Requirement already satisfied: click>=4.0 in /usr/local/lib/python3.10/dist-packages (from rasterio) (8.1.7)\n",
            "Requirement already satisfied: cligj>=0.5 in /usr/local/lib/python3.10/dist-packages (from rasterio) (0.7.2)\n",
            "Requirement already satisfied: numpy in /usr/local/lib/python3.10/dist-packages (from rasterio) (1.23.5)\n",
            "Requirement already satisfied: snuggs>=1.4.1 in /usr/local/lib/python3.10/dist-packages (from rasterio) (1.4.7)\n",
            "Requirement already satisfied: click-plugins in /usr/local/lib/python3.10/dist-packages (from rasterio) (1.1.1)\n",
            "Requirement already satisfied: setuptools in /usr/local/lib/python3.10/dist-packages (from rasterio) (67.7.2)\n",
            "Requirement already satisfied: pyparsing>=2.1.6 in /usr/local/lib/python3.10/dist-packages (from snuggs>=1.4.1->rasterio) (3.1.1)\n"
          ]
        }
      ]
    },
    {
      "cell_type": "code",
      "source": [
        "import os\n",
        "import rasterio\n",
        "from rasterio.mask import mask\n",
        "import geopandas as gpd\n",
        "from shapely.geometry import mapping"
      ],
      "metadata": {
        "id": "mnL6gvvIxdeR"
      },
      "execution_count": 5,
      "outputs": []
    },
    {
      "cell_type": "code",
      "source": [
        "import tensorflow as tf"
      ],
      "metadata": {
        "id": "stGNEyte6FaL"
      },
      "execution_count": 6,
      "outputs": []
    },
    {
      "cell_type": "code",
      "source": [
        "\n",
        "def clip_tiff(tiff, geojson = geojson_datapath):\n",
        "\n",
        "    with open(geojson) as clip_geojson:\n",
        "        clip_geojson = gpd.read_file(clip_geojson)\n",
        "        clip_geometry = clip_geojson.geometry.values[0]\n",
        "        clip_geojson = mapping(clip_geometry)\n",
        "        print(clip_geojson)\n",
        "\n",
        "    with rasterio.open(tiff) as src:\n",
        "        print(\"input image data before processing\", src.meta)\n",
        "\n",
        "            # Perform the clip\n",
        "        clip_image, clip_transform = mask(src, [clip_geojson], crop=True)\n",
        "        print(\"shape of clipped_image:\", clip_image.shape)\n",
        "        print(\"extent of clipped image:\", clip_transform)\n",
        "        clip_meta = src.meta.copy()\n",
        "\n",
        "    clip_meta.update({\"driver\": \"GTiff\",\n",
        "                      \"height\": clip_image.shape[1],\n",
        "                      \"width\": clip_image.shape[2],\n",
        "                      \"transform\": clip_transform})\n",
        "    return clip_image, clip_meta"
      ],
      "metadata": {
        "id": "zSuQrWDGz6Ep"
      },
      "execution_count": 7,
      "outputs": []
    },
    {
      "cell_type": "code",
      "source": [
        "test_image = '/content/gdrive/MyDrive/exp/other images/test_folder/area2_0803_2022_8bands.tif'"
      ],
      "metadata": {
        "id": "0sUlXh2W2qMV"
      },
      "execution_count": 25,
      "outputs": []
    },
    {
      "cell_type": "code",
      "source": [
        "second_test_image = '/content/gdrive/MyDrive/exp/other images/test_folder/area2_0619_2023_8bands_composite.tif'"
      ],
      "metadata": {
        "id": "H36qMxtpGXx7"
      },
      "execution_count": 8,
      "outputs": []
    },
    {
      "cell_type": "code",
      "source": [
        "test_image_out =  clip_tiff(test_image, geojson_datapath)"
      ],
      "metadata": {
        "colab": {
          "base_uri": "https://localhost:8080/"
        },
        "id": "ZdmEsGMa2ZPl",
        "outputId": "8b3693cc-7970-4ef1-b7ec-62cc5c6a4998"
      },
      "execution_count": 26,
      "outputs": [
        {
          "output_type": "stream",
          "name": "stdout",
          "text": [
            "{'type': 'Polygon', 'coordinates': (((281195.46875, 9080046.0), (294939.9375, 9080046.0), (294939.9375, 9091126.0), (281195.46875, 9091126.0), (281195.46875, 9080046.0)),)}\n",
            "input image data before processing {'driver': 'GTiff', 'dtype': 'float32', 'nodata': 0.0, 'width': 4686, 'height': 4085, 'count': 8, 'crs': CRS.from_epsg(32750), 'transform': Affine(3.0, 0.0, 280884.0,\n",
            "       0.0, -3.0, 9091677.0)}\n",
            "shape of clipped_image: (8, 3694, 4583)\n",
            "extent of clipped image: | 3.00, 0.00, 281193.00|\n",
            "| 0.00,-3.00, 9091128.00|\n",
            "| 0.00, 0.00, 1.00|\n"
          ]
        }
      ]
    },
    {
      "cell_type": "code",
      "source": [
        "second_test_image_out =  clip_tiff(second_test_image, geojson_datapath)"
      ],
      "metadata": {
        "colab": {
          "base_uri": "https://localhost:8080/"
        },
        "id": "nGANWBeaGgn3",
        "outputId": "4dfb659d-acf6-4236-af8a-18485af8a9c8"
      },
      "execution_count": 9,
      "outputs": [
        {
          "output_type": "stream",
          "name": "stdout",
          "text": [
            "{'type': 'Polygon', 'coordinates': (((281195.46875, 9080046.0), (294939.9375, 9080046.0), (294939.9375, 9091126.0), (281195.46875, 9091126.0), (281195.46875, 9080046.0)),)}\n",
            "input image data before processing {'driver': 'GTiff', 'dtype': 'uint16', 'nodata': 0.0, 'width': 4591, 'height': 4013, 'count': 8, 'crs': CRS.from_epsg(32750), 'transform': Affine(3.0, 0.0, 281025.0,\n",
            "       0.0, -3.0, 9091659.0)}\n",
            "shape of clipped_image: (8, 3694, 4535)\n",
            "extent of clipped image: | 3.00, 0.00, 281193.00|\n",
            "| 0.00,-3.00, 9091128.00|\n",
            "| 0.00, 0.00, 1.00|\n"
          ]
        }
      ]
    },
    {
      "cell_type": "code",
      "source": [
        "print(test_image_out[1])"
      ],
      "metadata": {
        "colab": {
          "base_uri": "https://localhost:8080/"
        },
        "id": "SRTcBtbhMIRN",
        "outputId": "3029c8f6-779b-48ae-fb0e-87b2237ab83a"
      },
      "execution_count": 28,
      "outputs": [
        {
          "output_type": "stream",
          "name": "stdout",
          "text": [
            "{'driver': 'GTiff', 'dtype': 'float32', 'nodata': 0.0, 'width': 4583, 'height': 3694, 'count': 8, 'crs': CRS.from_epsg(32750), 'transform': Affine(3.0, 0.0, 281193.0,\n",
            "       0.0, -3.0, 9091128.0)}\n"
          ]
        }
      ]
    },
    {
      "cell_type": "code",
      "source": [
        "type(test_image_out[0])"
      ],
      "metadata": {
        "colab": {
          "base_uri": "https://localhost:8080/"
        },
        "id": "65tW38Nr2GP5",
        "outputId": "edd65fff-077c-4085-c824-084165888ab3"
      },
      "execution_count": 31,
      "outputs": [
        {
          "output_type": "execute_result",
          "data": {
            "text/plain": [
              "numpy.ndarray"
            ]
          },
          "metadata": {},
          "execution_count": 31
        }
      ]
    },
    {
      "cell_type": "code",
      "source": [
        "label_image_out = clip_tiff(label_datapath, geojson_datapath)"
      ],
      "metadata": {
        "colab": {
          "base_uri": "https://localhost:8080/"
        },
        "id": "cj9wecMa1pUW",
        "outputId": "c30ffdf7-8778-463c-ec07-589c2418729e"
      },
      "execution_count": 13,
      "outputs": [
        {
          "output_type": "stream",
          "name": "stdout",
          "text": [
            "{'type': 'Polygon', 'coordinates': (((281195.46875, 9080046.0), (294939.9375, 9080046.0), (294939.9375, 9091126.0), (281195.46875, 9091126.0), (281195.46875, 9080046.0)),)}\n",
            "input image data before processing {'driver': 'GTiff', 'dtype': 'float32', 'nodata': 0.0, 'width': 4686, 'height': 4085, 'count': 1, 'crs': CRS.from_epsg(32750), 'transform': Affine(3.0, 0.0, 280884.0,\n",
            "       0.0, -3.0, 9091677.0)}\n",
            "shape of clipped_image: (1, 3694, 4583)\n",
            "extent of clipped image: | 3.00, 0.00, 281193.00|\n",
            "| 0.00,-3.00, 9091128.00|\n",
            "| 0.00, 0.00, 1.00|\n"
          ]
        }
      ]
    },
    {
      "cell_type": "code",
      "source": [
        "label_image_out[1]"
      ],
      "metadata": {
        "colab": {
          "base_uri": "https://localhost:8080/"
        },
        "id": "Pc7x9-RSH3A5",
        "outputId": "9cb55075-3865-4b63-b7c3-83819c89e226"
      },
      "execution_count": 13,
      "outputs": [
        {
          "output_type": "execute_result",
          "data": {
            "text/plain": [
              "{'driver': 'GTiff',\n",
              " 'dtype': 'float32',\n",
              " 'nodata': 0.0,\n",
              " 'width': 4642,\n",
              " 'height': 4020,\n",
              " 'count': 1,\n",
              " 'crs': CRS.from_epsg(32750),\n",
              " 'transform': Affine(2.9611431673448845, 0.0, 281195.479710034,\n",
              "        0.0, -2.7566563654218252, 9091125.01553164)}"
            ]
          },
          "metadata": {},
          "execution_count": 13
        }
      ]
    },
    {
      "cell_type": "code",
      "source": [
        "label_image_out[0].shape"
      ],
      "metadata": {
        "colab": {
          "base_uri": "https://localhost:8080/"
        },
        "id": "kCjnZc5X14UN",
        "outputId": "8e6e9166-4986-4798-f984-c47b3389cfa1"
      },
      "execution_count": 14,
      "outputs": [
        {
          "output_type": "execute_result",
          "data": {
            "text/plain": [
              "(1, 4020, 4642)"
            ]
          },
          "metadata": {},
          "execution_count": 14
        }
      ]
    },
    {
      "cell_type": "code",
      "source": [
        "tensor_label = tf.convert_to_tensor(label_image_out[0])"
      ],
      "metadata": {
        "id": "OanrZWsXEaAg"
      },
      "execution_count": 14,
      "outputs": []
    },
    {
      "cell_type": "code",
      "source": [
        "tensor_label.shape[1:]"
      ],
      "metadata": {
        "colab": {
          "base_uri": "https://localhost:8080/"
        },
        "id": "Q2DZujFBEhKk",
        "outputId": "95bb9cbf-4b15-44c3-c94b-8a280a6a9092"
      },
      "execution_count": 35,
      "outputs": [
        {
          "output_type": "execute_result",
          "data": {
            "text/plain": [
              "TensorShape([3694, 4583])"
            ]
          },
          "metadata": {},
          "execution_count": 35
        }
      ]
    },
    {
      "cell_type": "code",
      "source": [
        "tensor_test_image = tf.convert_to_tensor(test_image_out[0])"
      ],
      "metadata": {
        "id": "GIDcarOVEoCI"
      },
      "execution_count": 36,
      "outputs": []
    },
    {
      "cell_type": "code",
      "source": [
        "tensor_second_test_image = tf.convert_to_tensor(second_test_image_out[0])"
      ],
      "metadata": {
        "id": "GyymEHwHKEWq"
      },
      "execution_count": 10,
      "outputs": []
    },
    {
      "cell_type": "code",
      "source": [
        "reshaped_second_test_image = tf.transpose(tensor_second_test_image, perm=[1, 2, 0])"
      ],
      "metadata": {
        "id": "CvfHM43CLsIn"
      },
      "execution_count": 11,
      "outputs": []
    },
    {
      "cell_type": "code",
      "source": [
        "reshaped_second_test_image.shape[:2]"
      ],
      "metadata": {
        "colab": {
          "base_uri": "https://localhost:8080/"
        },
        "id": "cOoPfaCcLzWn",
        "outputId": "3d7216c8-6931-4f2b-c1f4-293a7ab5c09c"
      },
      "execution_count": 20,
      "outputs": [
        {
          "output_type": "execute_result",
          "data": {
            "text/plain": [
              "TensorShape([3694, 4535])"
            ]
          },
          "metadata": {},
          "execution_count": 20
        }
      ]
    },
    {
      "cell_type": "code",
      "source": [],
      "metadata": {
        "id": "YTLcZnkuNLlR"
      },
      "execution_count": null,
      "outputs": []
    },
    {
      "cell_type": "code",
      "source": [
        "tensor_second_test_image.shape"
      ],
      "metadata": {
        "colab": {
          "base_uri": "https://localhost:8080/"
        },
        "id": "kWILpUiYKNtJ",
        "outputId": "f29abc27-4159-43be-8564-aeff846aea78"
      },
      "execution_count": 46,
      "outputs": [
        {
          "output_type": "execute_result",
          "data": {
            "text/plain": [
              "TensorShape([8, 3694, 4535])"
            ]
          },
          "metadata": {},
          "execution_count": 46
        }
      ]
    },
    {
      "cell_type": "code",
      "source": [
        "tensor_test_image.shape[1:]"
      ],
      "metadata": {
        "colab": {
          "base_uri": "https://localhost:8080/"
        },
        "id": "lcTJRw9EE2Kx",
        "outputId": "4e2e1767-aaa5-4e88-f73c-84ed32c5eacf"
      },
      "execution_count": 37,
      "outputs": [
        {
          "output_type": "execute_result",
          "data": {
            "text/plain": [
              "TensorShape([3694, 4583])"
            ]
          },
          "metadata": {},
          "execution_count": 37
        }
      ]
    },
    {
      "cell_type": "code",
      "source": [
        "tensor_label.shape[1:] == tensor_test_image.shape[1:]"
      ],
      "metadata": {
        "colab": {
          "base_uri": "https://localhost:8080/"
        },
        "id": "BqrjjrxaE7T8",
        "outputId": "a6e78df9-fc4f-40db-a62f-7c79baef2335"
      },
      "execution_count": 38,
      "outputs": [
        {
          "output_type": "execute_result",
          "data": {
            "text/plain": [
              "True"
            ]
          },
          "metadata": {},
          "execution_count": 38
        }
      ]
    },
    {
      "cell_type": "code",
      "source": [
        "tensor_label.shape[1]"
      ],
      "metadata": {
        "colab": {
          "base_uri": "https://localhost:8080/"
        },
        "id": "MwiaWVy1Jb4E",
        "outputId": "2ec2acc6-07de-4dbd-a52f-5de3bdd8ad18"
      },
      "execution_count": 42,
      "outputs": [
        {
          "output_type": "execute_result",
          "data": {
            "text/plain": [
              "3694"
            ]
          },
          "metadata": {},
          "execution_count": 42
        }
      ]
    },
    {
      "cell_type": "code",
      "source": [
        "tensor_test_image.shape"
      ],
      "metadata": {
        "colab": {
          "base_uri": "https://localhost:8080/"
        },
        "id": "ST5aPghqJqla",
        "outputId": "541aefe7-abee-4e07-aeb0-417c5cfbcc5b"
      },
      "execution_count": 44,
      "outputs": [
        {
          "output_type": "execute_result",
          "data": {
            "text/plain": [
              "TensorShape([8, 3694, 4583])"
            ]
          },
          "metadata": {},
          "execution_count": 44
        }
      ]
    },
    {
      "cell_type": "code",
      "source": [
        "tensor_label.shape[2]"
      ],
      "metadata": {
        "colab": {
          "base_uri": "https://localhost:8080/"
        },
        "id": "pVU7g96OJkbM",
        "outputId": "4511bec8-b676-4cdc-bc48-aeef4459bf1f"
      },
      "execution_count": 43,
      "outputs": [
        {
          "output_type": "execute_result",
          "data": {
            "text/plain": [
              "4583"
            ]
          },
          "metadata": {},
          "execution_count": 43
        }
      ]
    },
    {
      "cell_type": "code",
      "source": [
        "resized_8_channel_image = tf.image.resize_with_crop_or_pad(reshaped_second_test_image, tensor_label.shape[1], tensor_label.shape[2])"
      ],
      "metadata": {
        "id": "5yBF7COXJS1X"
      },
      "execution_count": 17,
      "outputs": []
    },
    {
      "cell_type": "code",
      "source": [
        "resized_8_channel_image.shape"
      ],
      "metadata": {
        "colab": {
          "base_uri": "https://localhost:8080/"
        },
        "id": "lXAaKeXZMCVt",
        "outputId": "0711494b-8c32-4f77-c121-2fc9976c0780"
      },
      "execution_count": 18,
      "outputs": [
        {
          "output_type": "execute_result",
          "data": {
            "text/plain": [
              "TensorShape([3694, 4583, 8])"
            ]
          },
          "metadata": {},
          "execution_count": 18
        }
      ]
    },
    {
      "cell_type": "code",
      "source": [
        "reshaped_second_test_image.shape"
      ],
      "metadata": {
        "colab": {
          "base_uri": "https://localhost:8080/"
        },
        "id": "fCZlfxFdMNnV",
        "outputId": "0cb68138-7244-4e06-eedd-0dfbc4cacf2e"
      },
      "execution_count": 19,
      "outputs": [
        {
          "output_type": "execute_result",
          "data": {
            "text/plain": [
              "TensorShape([3694, 4535, 8])"
            ]
          },
          "metadata": {},
          "execution_count": 19
        }
      ]
    },
    {
      "cell_type": "code",
      "source": [
        "image = tf.image.resize(image, (resize, resize))"
      ],
      "metadata": {
        "id": "aEN4PUsXF8eC"
      },
      "execution_count": null,
      "outputs": []
    },
    {
      "cell_type": "code",
      "source": [
        "\n",
        "from rasterio.plot import show\n",
        "import matplotlib.pyplot as plt\n",
        "\n",
        "# Path to the GeoTIFF file you want to visualize\n",
        "tiff_path = test_image\n",
        "\n",
        "# Path to the GeoJSON file for visualization\n",
        "geojson_path = geojson_datapath\n",
        "\n",
        "# Read the GeoJSON file\n",
        "gdf = gpd.read_file(geojson_path)\n",
        "\n",
        "# Open the GeoTIFF file\n",
        "with rasterio.open(tiff_path) as src:\n",
        "    # Check if GeoJSON geometries overlap with the raster extent\n",
        "    raster_extent = src.bounds\n",
        "    geojson_extent = gdf.total_bounds\n",
        "\n",
        "    if (raster_extent[0] > geojson_extent[2] or raster_extent[2] < geojson_extent[0] or\n",
        "            raster_extent[1] > geojson_extent[3] or raster_extent[3] < geojson_extent[1]):\n",
        "        print(\"GeoJSON geometries do not overlap with the raster extent.\")\n",
        "    else:\n",
        "        print(\"GeoJSON geometries overlap with the raster extent.\")\n",
        "\n",
        "    # Visualize both GeoTIFF and GeoJSON geometries\n",
        "    fig, ax = plt.subplots(figsize=(10, 10))\n",
        "\n",
        "    # Plot the GeoTIFF\n",
        "    show(src, ax=ax, title=\"GeoTIFF with GeoJSON Overlay\")\n",
        "\n",
        "    # Plot the GeoJSON\n",
        "    gdf.plot(ax=ax, facecolor='none', edgecolor='red')\n",
        "\n",
        "    plt.show()\n"
      ],
      "metadata": {
        "colab": {
          "base_uri": "https://localhost:8080/",
          "height": 775
        },
        "id": "GLMDnazj6yz4",
        "outputId": "c4b4592d-ef24-4ec2-dd28-a99992aed3a2"
      },
      "execution_count": 29,
      "outputs": [
        {
          "output_type": "stream",
          "name": "stdout",
          "text": [
            "GeoJSON geometries overlap with the raster extent.\n"
          ]
        },
        {
          "output_type": "display_data",
          "data": {
            "text/plain": [
              "<Figure size 1000x1000 with 1 Axes>"
            ],
            "image/png": "[encoded data removed]"
          },
          "metadata": {}
        }
      ]
    },
    {
      "cell_type": "code",
      "source": [
        "#resizing\n",
        "\n",
        "def resize_img(\n",
        "    image: tf.Tensor, label: tf.Tensor, resize: int\n",
        ") -> Tuple[tf.Tensor, tf.Tensor]:\n",
        "    image = tf.image.resize(image, (resize, resize))\n",
        "    label = tf.image.resize(label[..., None], (resize, resize))\n",
        "    label = tf.squeeze(label, -1)\n",
        "    return image, label"
      ],
      "metadata": {
        "id": "d35T7gioglSx"
      },
      "execution_count": null,
      "outputs": []
    },
    {
      "cell_type": "code",
      "source": [],
      "metadata": {
        "id": "1jJG6q9Sglm1"
      },
      "execution_count": null,
      "outputs": []
    },
    {
      "cell_type": "markdown",
      "source": [
        "How to create a tf record:\n",
        "\n",
        "1. extract the given image and label's numpy data and metadata\n",
        "2. create a tf.example datastructure that stores the above extracted information\n",
        "3. write a tf.record\n",
        "4. parse the tf.record to extract the given image and label and display it"
      ],
      "metadata": {
        "id": "H0elzLT6ZA7Q"
      }
    },
    {
      "cell_type": "markdown",
      "source": [
        "# Task1: extract the information in given image\n",
        "\n",
        "1. clip the image to the given vector data\n",
        "2. extract the numpy\n",
        "3. extract the metadata\n",
        "\n",
        "# Task2 : extract the information in given label\n",
        "\n",
        "1. clip the image to the given vector data\n",
        "2. extract the numpy array\n",
        "3. extract the metadata\n",
        "\n",
        "# Task3 : make sure the resize the image to the size of label\n",
        "\n",
        "# Task 4 : create the tf.example datastructure\n",
        "\n",
        "1. contains image array, image shape, other meta data\n",
        "2. contains label array, label shape, other meta data\n",
        "\n",
        "# Task 5: write the data in tf.example data structure on to a tf.record\n",
        "\n",
        "# Task 6: deserialize the data and display the label and image"
      ],
      "metadata": {
        "id": "YWwVBcdyaV1E"
      }
    },
    {
      "cell_type": "code",
      "source": [
        "\n",
        "\n",
        "#take an image, apply clipping function, return numpy array, and meta data\n",
        "#take the mask, apply clipping function, return numpy array, and meta data\n",
        "#serialize it"
      ],
      "metadata": {
        "id": "dVZTMb6sblQZ"
      },
      "execution_count": null,
      "outputs": []
    },
    {
      "cell_type": "code",
      "source": [
        "def resize_img(image,label):\n",
        "\n",
        "  image = tf.image.resize_with_crop_or_pad(image, label.shape[0], label.shape[1])\n",
        "\n",
        "  return image, label\n"
      ],
      "metadata": {
        "id": "c093LEUWFenY"
      },
      "execution_count": 67,
      "outputs": []
    },
    {
      "cell_type": "code",
      "source": [
        "def process_input(image, label):\n",
        "\n",
        "    tensor_image = tf.convert_to_tensor(image)\n",
        "    tensor_image = tf.transpose(tensor_image, perm=[1, 2, 0])\n",
        "    tensor_label = tf.convert_to_tensor(label)\n",
        "    tensor_label = tf.transpose(tensor_label, perm=[1, 2, 0])\n",
        "\n",
        "    if tensor_label.shape[:2] != tensor_image.shape[:2]:\n",
        "      tensor_image, tensor_label = resize_img(tensor_image, tensor_label)\n",
        "\n",
        "    return tensor_image, tensor_label"
      ],
      "metadata": {
        "id": "uHHKTaW9DtxN"
      },
      "execution_count": 65,
      "outputs": []
    },
    {
      "cell_type": "code",
      "source": [],
      "metadata": {
        "id": "NjpWlirfcd5U"
      },
      "execution_count": null,
      "outputs": []
    },
    {
      "cell_type": "code",
      "source": [
        "\n",
        "def _int64_feature(value):\n",
        "    return tf.train.Feature(int64_list=tf.train.Int64List(value=value))\n",
        "\n",
        "\n",
        "def _float_feature(value):\n",
        "    return tf.train.Feature(float_list=tf.train.FloatList(value=value))\n"
      ],
      "metadata": {
        "id": "Pq7sAMzfOLXT"
      },
      "execution_count": 24,
      "outputs": []
    },
    {
      "cell_type": "code",
      "source": [
        "def create_tfrecord(image, label):\n",
        "    image, label = process_input(image, label)\n",
        "    image_dims = image.shape\n",
        "    label_dims = label.shape\n",
        "\n",
        "    image = tf.reshape(image, [-1])  # flatten to 1D array\n",
        "    label = tf.reshape(label, [-1])  # flatten to 1D array\n",
        "\n",
        "    return tf.train.Example(\n",
        "        features=tf.train.Features(\n",
        "            feature={\n",
        "                \"image\": _float_feature(image.numpy()),\n",
        "                \"image_shape\": _int64_feature(\n",
        "                    [image_dims[0], image_dims[1], image_dims[2]]\n",
        "                ),\n",
        "                \"label\": _float_feature(label.numpy()),\n",
        "                \"label_shape\": _int64_feature([label_dims[0], label_dims[1], label_dims[2]]),\n",
        "            }\n",
        "        )\n",
        "    ).SerializeToString()"
      ],
      "metadata": {
        "id": "5dddDWJvDZ1Y"
      },
      "execution_count": 25,
      "outputs": []
    },
    {
      "cell_type": "code",
      "source": [
        "tensor_image = tf.convert_to_tensor(images[0])\n",
        "tensor_image = tf.transpose(tensor_image, perm=[1, 2, 0])\n",
        "tensor_image.shape"
      ],
      "metadata": {
        "colab": {
          "base_uri": "https://localhost:8080/"
        },
        "id": "VxViKNukcJj8",
        "outputId": "84391096-4482-4368-ae59-7dd597f57c77"
      },
      "execution_count": 59,
      "outputs": [
        {
          "output_type": "execute_result",
          "data": {
            "text/plain": [
              "TensorShape([3694, 4535, 8])"
            ]
          },
          "metadata": {},
          "execution_count": 59
        }
      ]
    },
    {
      "cell_type": "code",
      "source": [
        "tensor_label = tf.convert_to_tensor(labels[0])\n",
        "tensor_label = tf.transpose(tensor_label, perm=[1, 2, 0])\n"
      ],
      "metadata": {
        "id": "jiA5LuLTcgqX"
      },
      "execution_count": 60,
      "outputs": []
    },
    {
      "cell_type": "code",
      "source": [
        "tensor_label.shape"
      ],
      "metadata": {
        "colab": {
          "base_uri": "https://localhost:8080/"
        },
        "id": "GMrjC5hUcmf3",
        "outputId": "12611284-e63b-4204-ef1a-66f10b1dc386"
      },
      "execution_count": 62,
      "outputs": [
        {
          "output_type": "execute_result",
          "data": {
            "text/plain": [
              "TensorShape([3694, 4583, 1])"
            ]
          },
          "metadata": {},
          "execution_count": 62
        }
      ]
    },
    {
      "cell_type": "code",
      "source": [
        "tensor_label.shape[:2] == tensor_image.shape[:2]\n"
      ],
      "metadata": {
        "colab": {
          "base_uri": "https://localhost:8080/"
        },
        "id": "IiKavNOHcq3i",
        "outputId": "47aa0c9c-91c1-49f5-dcbf-d77b525c1016"
      },
      "execution_count": 63,
      "outputs": [
        {
          "output_type": "execute_result",
          "data": {
            "text/plain": [
              "False"
            ]
          },
          "metadata": {},
          "execution_count": 63
        }
      ]
    },
    {
      "cell_type": "code",
      "source": [
        "image = tf.image.resize_with_crop_or_pad(tensor_image, tensor_label.shape[1], tensor_label.shape[2])"
      ],
      "metadata": {
        "id": "zmrO5DWPdHJB"
      },
      "execution_count": null,
      "outputs": []
    },
    {
      "cell_type": "code",
      "source": [
        "image, label = process_input(images[0],labels[0])\n",
        "image_dims = image.shape\n",
        "label_dims = label.shape\n",
        "\n",
        "image = tf.reshape(image, [-1])  # flatten to 1D array\n",
        "label = tf.reshape(label, [-1])  # flatten to 1D array"
      ],
      "metadata": {
        "id": "sABG_WFQbmfL"
      },
      "execution_count": 55,
      "outputs": []
    },
    {
      "cell_type": "code",
      "source": [
        "label_dims"
      ],
      "metadata": {
        "colab": {
          "base_uri": "https://localhost:8080/"
        },
        "id": "HCN0yhUQb-Kk",
        "outputId": "ecf2823c-82c6-4087-f6f8-32ac8f3d04d0"
      },
      "execution_count": 57,
      "outputs": [
        {
          "output_type": "execute_result",
          "data": {
            "text/plain": [
              "TensorShape([3694, 4583, 1])"
            ]
          },
          "metadata": {},
          "execution_count": 57
        }
      ]
    },
    {
      "cell_type": "code",
      "source": [
        "image_dims"
      ],
      "metadata": {
        "colab": {
          "base_uri": "https://localhost:8080/"
        },
        "id": "YjWQBmf6b67x",
        "outputId": "dbc2584c-e4a7-4c10-8dbd-a7a2798d9a09"
      },
      "execution_count": 56,
      "outputs": [
        {
          "output_type": "execute_result",
          "data": {
            "text/plain": [
              "TensorShape([4583, 1, 8])"
            ]
          },
          "metadata": {},
          "execution_count": 56
        }
      ]
    },
    {
      "cell_type": "code",
      "source": [
        "output_file = 'output.tfrecord'\n",
        "images = [second_test_image_out[0]]\n",
        "labels = [label_image_out[0]]"
      ],
      "metadata": {
        "id": "L_Q-hZ_tSf1E"
      },
      "execution_count": 54,
      "outputs": []
    },
    {
      "cell_type": "code",
      "source": [
        "images[0].shape"
      ],
      "metadata": {
        "colab": {
          "base_uri": "https://localhost:8080/"
        },
        "id": "euYJtGQ6TZwn",
        "outputId": "e53ad553-5e5f-451c-e51d-8a26ca6eb297"
      },
      "execution_count": 27,
      "outputs": [
        {
          "output_type": "execute_result",
          "data": {
            "text/plain": [
              "(8, 3694, 4535)"
            ]
          },
          "metadata": {},
          "execution_count": 27
        }
      ]
    },
    {
      "cell_type": "code",
      "source": [
        "labels[0].shape"
      ],
      "metadata": {
        "colab": {
          "base_uri": "https://localhost:8080/"
        },
        "id": "EUv8RWNCTcOc",
        "outputId": "a8dea9b6-447a-4a39-befc-201f79edb8c4"
      },
      "execution_count": 30,
      "outputs": [
        {
          "output_type": "execute_result",
          "data": {
            "text/plain": [
              "(1, 3694, 4583)"
            ]
          },
          "metadata": {},
          "execution_count": 30
        }
      ]
    },
    {
      "cell_type": "code",
      "source": [
        "# Example usage to create TFRecord files\n",
        "def write_tfrecords(images, labels, output_file):\n",
        "    with tf.io.TFRecordWriter(output_file) as writer:\n",
        "        for image, label in zip(images, labels):\n",
        "            tf_example = create_tfrecord(image, label)\n",
        "            writer.write(tf_example)"
      ],
      "metadata": {
        "id": "E-VhGR2dSSKl"
      },
      "execution_count": 66,
      "outputs": []
    },
    {
      "cell_type": "code",
      "source": [
        "write_tfrecords(images, labels, output_file)"
      ],
      "metadata": {
        "id": "z2pCcneKTpE1"
      },
      "execution_count": 68,
      "outputs": []
    },
    {
      "cell_type": "code",
      "source": [
        "import tensorflow as tf\n",
        "import numpy as np\n",
        "import matplotlib.pyplot as plt\n",
        "\n",
        "# Assuming you have the functions _float_feature and _int64_feature defined\n",
        "\n",
        "# Define functions to parse the TFRecord\n",
        "def parse_tfr(proto):\n",
        "    feature_description = {\n",
        "        \"image\": tf.io.VarLenFeature(tf.float32),\n",
        "        \"image_shape\": tf.io.VarLenFeature(tf.int64),\n",
        "        \"label\": tf.io.VarLenFeature(tf.float32),\n",
        "        \"label_shape\": tf.io.VarLenFeature(tf.int64),\n",
        "    }\n",
        "    rec = tf.io.parse_single_example(proto, feature_description)\n",
        "    image_shape = tf.sparse.to_dense(rec[\"image_shape\"])\n",
        "    image = tf.reshape(tf.sparse.to_dense(rec[\"image\"]), image_shape)\n",
        "    label_shape = tf.sparse.to_dense(rec[\"label_shape\"])\n",
        "    label = tf.reshape(tf.sparse.to_dense(rec[\"label\"]), label_shape)\n",
        "    return {\"pixel_values\": image, \"label\": label}\n",
        "\n",
        "# Function to display the 8-band image and label\n",
        "def display_image_and_label(image, label):\n",
        "    # Your display logic goes here\n",
        "    # You can use matplotlib or any other library to visualize the images\n",
        "    plt.subplot(1, 2, 1)\n",
        "    plt.imshow(np.asarray(image), cmap='gray')\n",
        "    plt.title('8-Band Image')\n",
        "\n",
        "    plt.subplot(1, 2, 2)\n",
        "    plt.imshow(np.asarray(label), cmap='gray')\n",
        "    plt.title('Label')\n",
        "\n",
        "    plt.show()\n",
        "\n",
        "# Example usage to read and display the TFRecord file\n",
        "def read_and_display_tfrecord(tfrecord_file):\n",
        "    # Create a TFRecordDataset\n",
        "    dataset = tf.data.TFRecordDataset(tfrecord_file)\n",
        "\n",
        "    # Map the parsing function to the dataset\n",
        "    parsed_dataset = dataset.map(parse_tfr)\n",
        "\n",
        "    # Iterate through the dataset and display images and labels\n",
        "    for image, label in parsed_dataset:\n",
        "        display_image_and_label(image, label)\n",
        "\n",
        "# Example usage:\n",
        "# Specify the path to your TFRecord file\n",
        "tfrecord_file = '/content/output.tfrecord'\n",
        "\n",
        "# Read and display the TFRecord file\n",
        "read_and_display_tfrecord(tfrecord_file)\n"
      ],
      "metadata": {
        "colab": {
          "base_uri": "https://localhost:8080/",
          "height": 631
        },
        "id": "3S6CKzJhUBmJ",
        "outputId": "f1e923ff-30d2-4484-ff90-8a59ba3c5093"
      },
      "execution_count": 43,
      "outputs": [
        {
          "output_type": "error",
          "ename": "TypeError",
          "evalue": "ignored",
          "traceback": [
            "\u001b[0;31m---------------------------------------------------------------------------\u001b[0m",
            "\u001b[0;31mTypeError\u001b[0m                                 Traceback (most recent call last)",
            "\u001b[0;32m<ipython-input-43-42196cbb538e>\u001b[0m in \u001b[0;36m<cell line: 53>\u001b[0;34m()\u001b[0m\n\u001b[1;32m     51\u001b[0m \u001b[0;34m\u001b[0m\u001b[0m\n\u001b[1;32m     52\u001b[0m \u001b[0;31m# Read and display the TFRecord file\u001b[0m\u001b[0;34m\u001b[0m\u001b[0;34m\u001b[0m\u001b[0m\n\u001b[0;32m---> 53\u001b[0;31m \u001b[0mread_and_display_tfrecord\u001b[0m\u001b[0;34m(\u001b[0m\u001b[0mtfrecord_file\u001b[0m\u001b[0;34m)\u001b[0m\u001b[0;34m\u001b[0m\u001b[0;34m\u001b[0m\u001b[0m\n\u001b[0m",
            "\u001b[0;32m<ipython-input-43-42196cbb538e>\u001b[0m in \u001b[0;36mread_and_display_tfrecord\u001b[0;34m(tfrecord_file)\u001b[0m\n\u001b[1;32m     44\u001b[0m     \u001b[0;31m# Iterate through the dataset and display images and labels\u001b[0m\u001b[0;34m\u001b[0m\u001b[0;34m\u001b[0m\u001b[0m\n\u001b[1;32m     45\u001b[0m     \u001b[0;32mfor\u001b[0m \u001b[0mimage\u001b[0m\u001b[0;34m,\u001b[0m \u001b[0mlabel\u001b[0m \u001b[0;32min\u001b[0m \u001b[0mparsed_dataset\u001b[0m\u001b[0;34m:\u001b[0m\u001b[0;34m\u001b[0m\u001b[0;34m\u001b[0m\u001b[0m\n\u001b[0;32m---> 46\u001b[0;31m         \u001b[0mdisplay_image_and_label\u001b[0m\u001b[0;34m(\u001b[0m\u001b[0mimage\u001b[0m\u001b[0;34m,\u001b[0m \u001b[0mlabel\u001b[0m\u001b[0;34m)\u001b[0m\u001b[0;34m\u001b[0m\u001b[0;34m\u001b[0m\u001b[0m\n\u001b[0m\u001b[1;32m     47\u001b[0m \u001b[0;34m\u001b[0m\u001b[0m\n\u001b[1;32m     48\u001b[0m \u001b[0;31m# Example usage:\u001b[0m\u001b[0;34m\u001b[0m\u001b[0;34m\u001b[0m\u001b[0m\n",
            "\u001b[0;32m<ipython-input-43-42196cbb538e>\u001b[0m in \u001b[0;36mdisplay_image_and_label\u001b[0;34m(image, label)\u001b[0m\n\u001b[1;32m     25\u001b[0m     \u001b[0;31m# You can use matplotlib or any other library to visualize the images\u001b[0m\u001b[0;34m\u001b[0m\u001b[0;34m\u001b[0m\u001b[0m\n\u001b[1;32m     26\u001b[0m     \u001b[0mplt\u001b[0m\u001b[0;34m.\u001b[0m\u001b[0msubplot\u001b[0m\u001b[0;34m(\u001b[0m\u001b[0;36m1\u001b[0m\u001b[0;34m,\u001b[0m \u001b[0;36m2\u001b[0m\u001b[0;34m,\u001b[0m \u001b[0;36m1\u001b[0m\u001b[0;34m)\u001b[0m\u001b[0;34m\u001b[0m\u001b[0;34m\u001b[0m\u001b[0m\n\u001b[0;32m---> 27\u001b[0;31m     \u001b[0mplt\u001b[0m\u001b[0;34m.\u001b[0m\u001b[0mimshow\u001b[0m\u001b[0;34m(\u001b[0m\u001b[0mnp\u001b[0m\u001b[0;34m.\u001b[0m\u001b[0masarray\u001b[0m\u001b[0;34m(\u001b[0m\u001b[0mimage\u001b[0m\u001b[0;34m)\u001b[0m\u001b[0;34m,\u001b[0m \u001b[0mcmap\u001b[0m\u001b[0;34m=\u001b[0m\u001b[0;34m'gray'\u001b[0m\u001b[0;34m)\u001b[0m\u001b[0;34m\u001b[0m\u001b[0;34m\u001b[0m\u001b[0m\n\u001b[0m\u001b[1;32m     28\u001b[0m     \u001b[0mplt\u001b[0m\u001b[0;34m.\u001b[0m\u001b[0mtitle\u001b[0m\u001b[0;34m(\u001b[0m\u001b[0;34m'8-Band Image'\u001b[0m\u001b[0;34m)\u001b[0m\u001b[0;34m\u001b[0m\u001b[0;34m\u001b[0m\u001b[0m\n\u001b[1;32m     29\u001b[0m \u001b[0;34m\u001b[0m\u001b[0m\n",
            "\u001b[0;32m/usr/local/lib/python3.10/dist-packages/matplotlib/pyplot.py\u001b[0m in \u001b[0;36mimshow\u001b[0;34m(X, cmap, norm, aspect, interpolation, alpha, vmin, vmax, origin, extent, interpolation_stage, filternorm, filterrad, resample, url, data, **kwargs)\u001b[0m\n\u001b[1;32m   2693\u001b[0m         \u001b[0minterpolation_stage\u001b[0m\u001b[0;34m=\u001b[0m\u001b[0;32mNone\u001b[0m\u001b[0;34m,\u001b[0m \u001b[0mfilternorm\u001b[0m\u001b[0;34m=\u001b[0m\u001b[0;32mTrue\u001b[0m\u001b[0;34m,\u001b[0m \u001b[0mfilterrad\u001b[0m\u001b[0;34m=\u001b[0m\u001b[0;36m4.0\u001b[0m\u001b[0;34m,\u001b[0m\u001b[0;34m\u001b[0m\u001b[0;34m\u001b[0m\u001b[0m\n\u001b[1;32m   2694\u001b[0m         resample=None, url=None, data=None, **kwargs):\n\u001b[0;32m-> 2695\u001b[0;31m     __ret = gca().imshow(\n\u001b[0m\u001b[1;32m   2696\u001b[0m         \u001b[0mX\u001b[0m\u001b[0;34m,\u001b[0m \u001b[0mcmap\u001b[0m\u001b[0;34m=\u001b[0m\u001b[0mcmap\u001b[0m\u001b[0;34m,\u001b[0m \u001b[0mnorm\u001b[0m\u001b[0;34m=\u001b[0m\u001b[0mnorm\u001b[0m\u001b[0;34m,\u001b[0m \u001b[0maspect\u001b[0m\u001b[0;34m=\u001b[0m\u001b[0maspect\u001b[0m\u001b[0;34m,\u001b[0m\u001b[0;34m\u001b[0m\u001b[0;34m\u001b[0m\u001b[0m\n\u001b[1;32m   2697\u001b[0m         \u001b[0minterpolation\u001b[0m\u001b[0;34m=\u001b[0m\u001b[0minterpolation\u001b[0m\u001b[0;34m,\u001b[0m \u001b[0malpha\u001b[0m\u001b[0;34m=\u001b[0m\u001b[0malpha\u001b[0m\u001b[0;34m,\u001b[0m \u001b[0mvmin\u001b[0m\u001b[0;34m=\u001b[0m\u001b[0mvmin\u001b[0m\u001b[0;34m,\u001b[0m\u001b[0;34m\u001b[0m\u001b[0;34m\u001b[0m\u001b[0m\n",
            "\u001b[0;32m/usr/local/lib/python3.10/dist-packages/matplotlib/__init__.py\u001b[0m in \u001b[0;36minner\u001b[0;34m(ax, data, *args, **kwargs)\u001b[0m\n\u001b[1;32m   1440\u001b[0m     \u001b[0;32mdef\u001b[0m \u001b[0minner\u001b[0m\u001b[0;34m(\u001b[0m\u001b[0max\u001b[0m\u001b[0;34m,\u001b[0m \u001b[0;34m*\u001b[0m\u001b[0margs\u001b[0m\u001b[0;34m,\u001b[0m \u001b[0mdata\u001b[0m\u001b[0;34m=\u001b[0m\u001b[0;32mNone\u001b[0m\u001b[0;34m,\u001b[0m \u001b[0;34m**\u001b[0m\u001b[0mkwargs\u001b[0m\u001b[0;34m)\u001b[0m\u001b[0;34m:\u001b[0m\u001b[0;34m\u001b[0m\u001b[0;34m\u001b[0m\u001b[0m\n\u001b[1;32m   1441\u001b[0m         \u001b[0;32mif\u001b[0m \u001b[0mdata\u001b[0m \u001b[0;32mis\u001b[0m \u001b[0;32mNone\u001b[0m\u001b[0;34m:\u001b[0m\u001b[0;34m\u001b[0m\u001b[0;34m\u001b[0m\u001b[0m\n\u001b[0;32m-> 1442\u001b[0;31m             \u001b[0;32mreturn\u001b[0m \u001b[0mfunc\u001b[0m\u001b[0;34m(\u001b[0m\u001b[0max\u001b[0m\u001b[0;34m,\u001b[0m \u001b[0;34m*\u001b[0m\u001b[0mmap\u001b[0m\u001b[0;34m(\u001b[0m\u001b[0msanitize_sequence\u001b[0m\u001b[0;34m,\u001b[0m \u001b[0margs\u001b[0m\u001b[0;34m)\u001b[0m\u001b[0;34m,\u001b[0m \u001b[0;34m**\u001b[0m\u001b[0mkwargs\u001b[0m\u001b[0;34m)\u001b[0m\u001b[0;34m\u001b[0m\u001b[0;34m\u001b[0m\u001b[0m\n\u001b[0m\u001b[1;32m   1443\u001b[0m \u001b[0;34m\u001b[0m\u001b[0m\n\u001b[1;32m   1444\u001b[0m         \u001b[0mbound\u001b[0m \u001b[0;34m=\u001b[0m \u001b[0mnew_sig\u001b[0m\u001b[0;34m.\u001b[0m\u001b[0mbind\u001b[0m\u001b[0;34m(\u001b[0m\u001b[0max\u001b[0m\u001b[0;34m,\u001b[0m \u001b[0;34m*\u001b[0m\u001b[0margs\u001b[0m\u001b[0;34m,\u001b[0m \u001b[0;34m**\u001b[0m\u001b[0mkwargs\u001b[0m\u001b[0;34m)\u001b[0m\u001b[0;34m\u001b[0m\u001b[0;34m\u001b[0m\u001b[0m\n",
            "\u001b[0;32m/usr/local/lib/python3.10/dist-packages/matplotlib/axes/_axes.py\u001b[0m in \u001b[0;36mimshow\u001b[0;34m(self, X, cmap, norm, aspect, interpolation, alpha, vmin, vmax, origin, extent, interpolation_stage, filternorm, filterrad, resample, url, **kwargs)\u001b[0m\n\u001b[1;32m   5663\u001b[0m                               **kwargs)\n\u001b[1;32m   5664\u001b[0m \u001b[0;34m\u001b[0m\u001b[0m\n\u001b[0;32m-> 5665\u001b[0;31m         \u001b[0mim\u001b[0m\u001b[0;34m.\u001b[0m\u001b[0mset_data\u001b[0m\u001b[0;34m(\u001b[0m\u001b[0mX\u001b[0m\u001b[0;34m)\u001b[0m\u001b[0;34m\u001b[0m\u001b[0;34m\u001b[0m\u001b[0m\n\u001b[0m\u001b[1;32m   5666\u001b[0m         \u001b[0mim\u001b[0m\u001b[0;34m.\u001b[0m\u001b[0mset_alpha\u001b[0m\u001b[0;34m(\u001b[0m\u001b[0malpha\u001b[0m\u001b[0;34m)\u001b[0m\u001b[0;34m\u001b[0m\u001b[0;34m\u001b[0m\u001b[0m\n\u001b[1;32m   5667\u001b[0m         \u001b[0;32mif\u001b[0m \u001b[0mim\u001b[0m\u001b[0;34m.\u001b[0m\u001b[0mget_clip_path\u001b[0m\u001b[0;34m(\u001b[0m\u001b[0;34m)\u001b[0m \u001b[0;32mis\u001b[0m \u001b[0;32mNone\u001b[0m\u001b[0;34m:\u001b[0m\u001b[0;34m\u001b[0m\u001b[0;34m\u001b[0m\u001b[0m\n",
            "\u001b[0;32m/usr/local/lib/python3.10/dist-packages/matplotlib/image.py\u001b[0m in \u001b[0;36mset_data\u001b[0;34m(self, A)\u001b[0m\n\u001b[1;32m    699\u001b[0m         if (self._A.dtype != np.uint8 and\n\u001b[1;32m    700\u001b[0m                 not np.can_cast(self._A.dtype, float, \"same_kind\")):\n\u001b[0;32m--> 701\u001b[0;31m             raise TypeError(\"Image data of dtype {} cannot be converted to \"\n\u001b[0m\u001b[1;32m    702\u001b[0m                             \"float\".format(self._A.dtype))\n\u001b[1;32m    703\u001b[0m \u001b[0;34m\u001b[0m\u001b[0m\n",
            "\u001b[0;31mTypeError\u001b[0m: Image data of dtype <U12 cannot be converted to float"
          ]
        },
        {
          "output_type": "display_data",
          "data": {
            "text/plain": [
              "<Figure size 640x480 with 1 Axes>"
            ],
            "image/png": "[encoded data removed]"
          },
          "metadata": {}
        }
      ]
    },
    {
      "cell_type": "code",
      "source": [
        "dataset = tf.data.TFRecordDataset(tfrecord_file)"
      ],
      "metadata": {
        "id": "VBuSg8G7X7qT"
      },
      "execution_count": 44,
      "outputs": []
    },
    {
      "cell_type": "code",
      "source": [
        "dataset.shape"
      ],
      "metadata": {
        "colab": {
          "base_uri": "https://localhost:8080/"
        },
        "id": "vgApMDUyX8vl",
        "outputId": "3bd9884d-583d-428e-d276-9d432d6bcb1e"
      },
      "execution_count": 37,
      "outputs": [
        {
          "output_type": "execute_result",
          "data": {
            "text/plain": [
              "<TFRecordDatasetV2 element_spec=TensorSpec(shape=(), dtype=tf.string, name=None)>"
            ]
          },
          "metadata": {},
          "execution_count": 37
        }
      ]
    },
    {
      "cell_type": "code",
      "source": [
        "parsed_dataset = dataset.map(parse_tfr)\n"
      ],
      "metadata": {
        "id": "Ew3DGoWgXz1z"
      },
      "execution_count": 45,
      "outputs": []
    },
    {
      "cell_type": "code",
      "source": [
        "parsed_dataset\n"
      ],
      "metadata": {
        "colab": {
          "base_uri": "https://localhost:8080/"
        },
        "id": "SJdJxomjZOuz",
        "outputId": "09ef7e37-be27-4a48-9d0d-adeee7a15720"
      },
      "execution_count": 49,
      "outputs": [
        {
          "output_type": "execute_result",
          "data": {
            "text/plain": [
              "<_MapDataset element_spec={'pixel_values': TensorSpec(shape=<unknown>, dtype=tf.float32, name=None), 'label': TensorSpec(shape=<unknown>, dtype=tf.float32, name=None)}>"
            ]
          },
          "metadata": {},
          "execution_count": 49
        }
      ]
    },
    {
      "cell_type": "code",
      "source": [
        "feature_description = {\n",
        "        \"image\": tf.io.VarLenFeature(tf.float32),\n",
        "        \"image_shape\": tf.io.VarLenFeature(tf.int64),\n",
        "        \"label\": tf.io.VarLenFeature(tf.float32),\n",
        "        \"label_shape\": tf.io.VarLenFeature(tf.int64),\n",
        "    }\n",
        "\n",
        "for serialized_example in tf.data.TFRecordDataset(['/content/output.tfrecord']):\n",
        "    parsed_example = tf.io.parse_single_example(serialized_example,\n",
        "                                                feature_description)"
      ],
      "metadata": {
        "id": "IpMiwCJoaYUo"
      },
      "execution_count": 69,
      "outputs": []
    },
    {
      "cell_type": "code",
      "source": [
        "parsed_example"
      ],
      "metadata": {
        "colab": {
          "base_uri": "https://localhost:8080/"
        },
        "id": "bczsTTI6atw_",
        "outputId": "1ea565d2-bfc5-4da5-cce4-696a996209eb"
      },
      "execution_count": 51,
      "outputs": [
        {
          "output_type": "execute_result",
          "data": {
            "text/plain": [
              "{'image': SparseTensor(indices=tf.Tensor(\n",
              " [[    0]\n",
              "  [    1]\n",
              "  [    2]\n",
              "  ...\n",
              "  [36661]\n",
              "  [36662]\n",
              "  [36663]], shape=(36664, 1), dtype=int64), values=tf.Tensor([0. 0. 0. ... 0. 0. 0.], shape=(36664,), dtype=float32), dense_shape=tf.Tensor([36664], shape=(1,), dtype=int64)),\n",
              " 'image_shape': SparseTensor(indices=tf.Tensor(\n",
              " [[0]\n",
              "  [1]\n",
              "  [2]], shape=(3, 1), dtype=int64), values=tf.Tensor([4583    1    8], shape=(3,), dtype=int64), dense_shape=tf.Tensor([3], shape=(1,), dtype=int64)),\n",
              " 'label': SparseTensor(indices=tf.Tensor(\n",
              " [[       0]\n",
              "  [       1]\n",
              "  [       2]\n",
              "  ...\n",
              "  [16929599]\n",
              "  [16929600]\n",
              "  [16929601]], shape=(16929602, 1), dtype=int64), values=tf.Tensor([0. 0. 0. ... 0. 0. 0.], shape=(16929602,), dtype=float32), dense_shape=tf.Tensor([16929602], shape=(1,), dtype=int64)),\n",
              " 'label_shape': SparseTensor(indices=tf.Tensor(\n",
              " [[0]\n",
              "  [1]\n",
              "  [2]], shape=(3, 1), dtype=int64), values=tf.Tensor([3694 4583    1], shape=(3,), dtype=int64), dense_shape=tf.Tensor([3], shape=(1,), dtype=int64))}"
            ]
          },
          "metadata": {},
          "execution_count": 51
        }
      ]
    },
    {
      "cell_type": "code",
      "source": [
        "\n",
        "image_shape = tf.sparse.to_dense(parsed_example[\"image_shape\"])\n",
        "image = tf.reshape(tf.sparse.to_dense(parsed_example[\"image\"]), image_shape)"
      ],
      "metadata": {
        "id": "yT9b9odibL08"
      },
      "execution_count": 70,
      "outputs": []
    },
    {
      "cell_type": "code",
      "source": [
        "image_shape = tf.sparse.to_dense(parsed_example[\"image_shape\"])"
      ],
      "metadata": {
        "id": "XpcrS095bVya"
      },
      "execution_count": 52,
      "outputs": []
    },
    {
      "cell_type": "code",
      "source": [
        "image_shape"
      ],
      "metadata": {
        "colab": {
          "base_uri": "https://localhost:8080/"
        },
        "id": "pNY9dn_obWyg",
        "outputId": "cda57cdb-33d3-4b59-d512-82a4dfc57b85"
      },
      "execution_count": 71,
      "outputs": [
        {
          "output_type": "execute_result",
          "data": {
            "text/plain": [
              "<tf.Tensor: shape=(3,), dtype=int64, numpy=array([3694, 4583,    8])>"
            ]
          },
          "metadata": {},
          "execution_count": 71
        }
      ]
    },
    {
      "cell_type": "code",
      "source": [
        "label_shape = tf.sparse.to_dense(parsed_example[\"label_shape\"])\n",
        "label = tf.reshape(tf.sparse.to_dense(parsed_example[\"label\"]), label_shape)"
      ],
      "metadata": {
        "id": "sbB_v4ZaeM-z"
      },
      "execution_count": 75,
      "outputs": []
    },
    {
      "cell_type": "code",
      "source": [
        "label.shape"
      ],
      "metadata": {
        "colab": {
          "base_uri": "https://localhost:8080/"
        },
        "id": "H_hEnT-WeToH",
        "outputId": "a5b0ff72-3364-4b81-83dd-4286f7bcf612"
      },
      "execution_count": 76,
      "outputs": [
        {
          "output_type": "execute_result",
          "data": {
            "text/plain": [
              "TensorShape([3694, 4583, 1])"
            ]
          },
          "metadata": {},
          "execution_count": 76
        }
      ]
    },
    {
      "cell_type": "code",
      "source": [
        "label = tf.squeeze(label, -1)"
      ],
      "metadata": {
        "id": "WndKFuFPebOT"
      },
      "execution_count": 77,
      "outputs": []
    },
    {
      "cell_type": "code",
      "source": [
        "plt.imshow(np.asarray(label), cmap='gray')\n",
        "plt.title('Label')"
      ],
      "metadata": {
        "colab": {
          "base_uri": "https://localhost:8080/",
          "height": 469
        },
        "id": "rIWnBXt9eVFD",
        "outputId": "5963518c-aaf5-4be5-81f8-f00fa51c0b80"
      },
      "execution_count": 78,
      "outputs": [
        {
          "output_type": "execute_result",
          "data": {
            "text/plain": [
              "Text(0.5, 1.0, 'Label')"
            ]
          },
          "metadata": {},
          "execution_count": 78
        },
        {
          "output_type": "display_data",
          "data": {
            "text/plain": [
              "<Figure size 640x480 with 1 Axes>"
            ],
            "image/png": "[encoded data removed]"
          },
          "metadata": {}
        }
      ]
    },
    {
      "cell_type": "markdown",
      "source": [
        "# tf record pipeline: Successfully created tf records that contains image and mask of same size\n",
        "\n",
        "# this segment of the pipeline consists of these functions:\n",
        "\n",
        "1. clipping\n",
        "2. processing image and label to make them same size\n",
        "3. converting to tf record"
      ],
      "metadata": {
        "id": "ggSvrVhTen1G"
      }
    },
    {
      "cell_type": "code",
      "source": [
        "!pip install rasterio"
      ],
      "metadata": {
        "id": "wSJOtIGgfmaB"
      },
      "execution_count": null,
      "outputs": []
    },
    {
      "cell_type": "code",
      "source": [
        "#imports\n",
        "\n",
        "import os\n",
        "import rasterio\n",
        "from rasterio.mask import mask\n",
        "import geopandas as gpd\n",
        "from shapely.geometry import mapping\n",
        "import tensorflow as tf"
      ],
      "metadata": {
        "id": "4J2zxEPPe6wm"
      },
      "execution_count": 95,
      "outputs": []
    },
    {
      "cell_type": "code",
      "source": [
        "\n",
        "\n",
        "def clip_tiff(tiff, geojson = geojson_datapath):\n",
        "\n",
        "    with open(geojson) as clip_geojson:\n",
        "        clip_geojson = gpd.read_file(clip_geojson)\n",
        "        clip_geometry = clip_geojson.geometry.values[0]\n",
        "        clip_geojson = mapping(clip_geometry)\n",
        "        #print(clip_geojson)\n",
        "\n",
        "    with rasterio.open(tiff) as src:\n",
        "        #print(\"input image data before processing\", src.meta)\n",
        "\n",
        "        # Perform the clip\n",
        "        clip_image, clip_transform = mask(src, [clip_geojson], crop=True)\n",
        "        #print(\"shape of clipped_image:\", clip_image.shape)\n",
        "        #print(\"extent of clipped image:\", clip_transform)\n",
        "        #clip_meta = src.meta.copy()\n",
        "\n",
        "    # clip_meta.update({\"driver\": \"GTiff\",\n",
        "    #                   \"height\": clip_image.shape[1],\n",
        "    #                   \"width\": clip_image.shape[2],\n",
        "    #                   \"transform\": clip_transform})\n",
        "    return clip_image"
      ],
      "metadata": {
        "id": "5VB5-22lfodS"
      },
      "execution_count": 96,
      "outputs": []
    },
    {
      "cell_type": "code",
      "source": [
        "# preprocessing functions\n",
        "\n",
        "def resize_img(image,label):\n",
        "\n",
        "  image = tf.image.resize_with_crop_or_pad(image, label.shape[0], label.shape[1])\n",
        "\n",
        "  return image, label\n",
        "\n",
        "\n",
        "def process_input(image, label):\n",
        "\n",
        "    tensor_image = tf.convert_to_tensor(image)\n",
        "    tensor_image = tf.transpose(tensor_image, perm=[1, 2, 0])\n",
        "    tensor_label = tf.convert_to_tensor(label)\n",
        "    tensor_label = tf.transpose(tensor_label, perm=[1, 2, 0])\n",
        "\n",
        "    if tensor_label.shape[:2] != tensor_image.shape[:2]:\n",
        "      tensor_image, tensor_label = resize_img(tensor_image, tensor_label)\n",
        "\n",
        "    return tensor_image, tensor_label\n",
        "\n",
        "\n",
        "def _int64_feature(value):\n",
        "    return tf.train.Feature(int64_list=tf.train.Int64List(value=value))\n",
        "\n",
        "\n",
        "def _float_feature(value):\n",
        "    return tf.train.Feature(float_list=tf.train.FloatList(value=value))\n",
        "\n",
        "def create_tfrecord(image, label):\n",
        "    image = clip_tiff(image)\n",
        "    label = clip_tiff(label)\n",
        "    image, label = process_input(image, label)\n",
        "    image_dims = image.shape\n",
        "    label_dims = label.shape\n",
        "\n",
        "    image = tf.reshape(image, [-1])  # flatten to 1D array\n",
        "    label = tf.reshape(label, [-1])  # flatten to 1D array\n",
        "\n",
        "    return tf.train.Example(\n",
        "        features=tf.train.Features(\n",
        "            feature={\n",
        "                \"image\": _float_feature(image.numpy()),\n",
        "                \"image_shape\": _int64_feature(\n",
        "                    [image_dims[0], image_dims[1], image_dims[2]]\n",
        "                ),\n",
        "                \"label\": _float_feature(label.numpy()),\n",
        "                \"label_shape\": _int64_feature([label_dims[0], label_dims[1], label_dims[2]]),\n",
        "            }\n",
        "        )\n",
        "    ).SerializeToString()"
      ],
      "metadata": {
        "id": "ROXumb0xf2RX"
      },
      "execution_count": 97,
      "outputs": []
    },
    {
      "cell_type": "code",
      "source": [
        "import glob\n",
        "\n",
        "# Specify the folder path where your images are located\n",
        "folder_path = '/content/gdrive/MyDrive/exp/other images/test_folder/'\n",
        "\n",
        "# Use glob to get all paths of .tif files in the folder\n",
        "images = glob.glob(folder_path + '*.tif')\n",
        "\n",
        "number_of_images = len(images)"
      ],
      "metadata": {
        "id": "U6ffj7A3hQIs"
      },
      "execution_count": 98,
      "outputs": []
    },
    {
      "cell_type": "code",
      "source": [
        "\n",
        "# Specify the folder path where your images are located\n",
        "label_folder = '/content/gdrive/MyDrive/exp/label/'\n",
        "\n",
        "# Use glob to get all paths of .tif files in the folder\n",
        "labels = glob.glob(label_folder + '*.tif')\n",
        "\n",
        "labels = labels*number_of_images"
      ],
      "metadata": {
        "id": "7Rl7x0Cch2GH"
      },
      "execution_count": 99,
      "outputs": []
    },
    {
      "cell_type": "code",
      "source": [
        "geojson_datapath = '/content/gdrive/MyDrive/exp/label/newextent_1123.geojson'\n",
        "\n",
        "output_file = '/content/gdrive/MyDrive/exp/output.tfrecord'"
      ],
      "metadata": {
        "id": "54c58nSpiXL7"
      },
      "execution_count": 100,
      "outputs": []
    },
    {
      "cell_type": "code",
      "source": [
        "# create TFRecord files\n",
        "def write_tfrecords(images, labels, output_file):\n",
        "    with tf.io.TFRecordWriter(output_file) as writer:\n",
        "        for image, label in zip(images, labels):\n",
        "            tf_example = create_tfrecord(image, label)\n",
        "            writer.write(tf_example)\n"
      ],
      "metadata": {
        "id": "Z4Pz58UHi908"
      },
      "execution_count": 101,
      "outputs": []
    },
    {
      "cell_type": "code",
      "source": [
        "write_tfrecords(images, labels, output_file)"
      ],
      "metadata": {
        "id": "AfUD-HOUkDHt"
      },
      "execution_count": 103,
      "outputs": []
    },
    {
      "cell_type": "code",
      "source": [
        "\n",
        "# Define functions to parse the TFRecord\n",
        "def parse_tfr(proto):\n",
        "    feature_description = {\n",
        "        \"image\": tf.io.VarLenFeature(tf.float32),\n",
        "        \"image_shape\": tf.io.VarLenFeature(tf.int64),\n",
        "        \"label\": tf.io.VarLenFeature(tf.float32),\n",
        "        \"label_shape\": tf.io.VarLenFeature(tf.int64),\n",
        "    }\n",
        "    rec = tf.io.parse_single_example(proto, feature_description)\n",
        "    image_shape = tf.sparse.to_dense(rec[\"image_shape\"])\n",
        "    image = tf.reshape(tf.sparse.to_dense(rec[\"image\"]), image_shape)\n",
        "    label_shape = tf.sparse.to_dense(rec[\"label_shape\"])\n",
        "    label = tf.reshape(tf.sparse.to_dense(rec[\"label\"]), label_shape)\n",
        "    return {\"pixel_values\": image, \"label\": label}"
      ],
      "metadata": {
        "id": "51vrdq0akJwc"
      },
      "execution_count": null,
      "outputs": []
    },
    {
      "cell_type": "code",
      "source": [
        "# for serialized_example in tf.data.TFRecordDataset(['/content/gdrive/MyDrive/exp/output.tfrecord']):\n",
        "#     parsed_example = tf.io.parse_single_example(serialized_example,\n",
        "#                                                 feature_description)"
      ],
      "metadata": {
        "id": "pm7Q6lNRkYx8"
      },
      "execution_count": 104,
      "outputs": []
    }
  ]
}