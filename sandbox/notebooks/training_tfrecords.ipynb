{
  "nbformat": 4,
  "nbformat_minor": 0,
  "metadata": {
    "colab": {
      "provenance": [],
      "authorship_tag": "ABX9TyMsDV/LyIJgaj4J7G8OOp/G",
      "include_colab_link": true
    },
    "kernelspec": {
      "name": "python3",
      "display_name": "Python 3"
    },
    "language_info": {
      "name": "python"
    }
  },
  "cells": [
    {
      "cell_type": "markdown",
      "metadata": {
        "id": "view-in-github",
        "colab_type": "text"
      },
      "source": [
        "<a href=\"https://colab.research.google.com/github/realtechsupport/cocktail/blob/main/sandbox/notebooks/training_tfrecords.ipynb\" target=\"_parent\"><img src=\"https://colab.research.google.com/assets/colab-badge.svg\" alt=\"Open In Colab\"/></a>"
      ]
    },
    {
      "cell_type": "markdown",
      "source": [
        "Brief Recap:\n",
        "\n",
        "1. We have converted the tiff files into tf records and saved them as tf.records in drive\n",
        "2. We have extracted the saved tf.records and conducted pre-processing.\n"
      ],
      "metadata": {
        "id": "dvUjBb6jBbXz"
      }
    },
    {
      "cell_type": "code",
      "source": [
        "from google.colab import drive\n",
        "drive.mount(\"/content/gdrive\")"
      ],
      "metadata": {
        "colab": {
          "base_uri": "https://localhost:8080/"
        },
        "id": "jxMuANa5Fd5z",
        "outputId": "2c0d0fdf-f695-4505-90db-27b938026638"
      },
      "execution_count": 18,
      "outputs": [
        {
          "output_type": "stream",
          "name": "stdout",
          "text": [
            "Drive already mounted at /content/gdrive; to attempt to forcibly remount, call drive.mount(\"/content/gdrive\", force_remount=True).\n"
          ]
        }
      ]
    },
    {
      "cell_type": "markdown",
      "source": [
        "# Phase 1: Extract tf records from the tiff files"
      ],
      "metadata": {
        "id": "10Llfr4GCxxH"
      }
    },
    {
      "cell_type": "code",
      "source": [
        "!pip install rasterio\n",
        "\n",
        "#imports\n",
        "\n",
        "import os\n",
        "import rasterio\n",
        "from rasterio.mask import mask\n",
        "import geopandas as gpd\n",
        "from shapely.geometry import mapping\n",
        "import tensorflow as tf\n",
        "import glob"
      ],
      "metadata": {
        "id": "mbcwpn7HC4cf"
      },
      "execution_count": null,
      "outputs": []
    },
    {
      "cell_type": "code",
      "source": [
        "#file locations\n",
        "\n",
        "# Specify the folder path where your images are located\n",
        "folder_path = '/content/gdrive/MyDrive/exp/other images/test_folder/'\n",
        "\n",
        "# Specify the folder path where your labels are located\n",
        "label_folder = '/content/gdrive/MyDrive/exp/label/'\n",
        "\n",
        "#Specify the path where your clipping mask are located\n",
        "geojson_datapath = '/content/gdrive/MyDrive/exp/label/newextent_1123.geojson'\n",
        "\n",
        "\n",
        "#specify the tf.record path\n",
        "output_dir = '/content/gdrive/MyDrive/exp/tf_records/'"
      ],
      "metadata": {
        "id": "fJQmPIy9DV8s"
      },
      "execution_count": 8,
      "outputs": []
    },
    {
      "cell_type": "markdown",
      "source": [
        "Clipping, Resizing, Conversion to tf.record functions"
      ],
      "metadata": {
        "id": "_jmeh8_sDBna"
      }
    },
    {
      "cell_type": "code",
      "source": [
        "def clip_tiff(tiff, geojson = geojson_datapath):\n",
        "\n",
        "    with open(geojson) as clip_geojson:\n",
        "        clip_geojson = gpd.read_file(clip_geojson)\n",
        "        clip_geometry = clip_geojson.geometry.values[0]\n",
        "        clip_geojson = mapping(clip_geometry)\n",
        "        #print(clip_geojson)\n",
        "\n",
        "    with rasterio.open(tiff) as src:\n",
        "        #print(\"input image data before processing\", src.meta)\n",
        "\n",
        "        # Perform the clip\n",
        "        clip_image, clip_transform = mask(src, [clip_geojson], crop=True)\n",
        "        #print(\"shape of clipped_image:\", clip_image.shape)\n",
        "        #print(\"extent of clipped image:\", clip_transform)\n",
        "        #clip_meta = src.meta.copy()\n",
        "\n",
        "    # clip_meta.update({\"driver\": \"GTiff\",\n",
        "    #                   \"height\": clip_image.shape[1],\n",
        "    #                   \"width\": clip_image.shape[2],\n",
        "    #                   \"transform\": clip_transform})\n",
        "    return clip_image\n",
        "\n",
        "# preprocessing functions\n",
        "\n",
        "def resize_img(image,label):\n",
        "\n",
        "  image = tf.image.resize_with_crop_or_pad(image, label.shape[0], label.shape[1])\n",
        "\n",
        "  return image, label\n",
        "\n",
        "\n",
        "def process_input(image, label):\n",
        "\n",
        "    tensor_image = tf.convert_to_tensor(image)\n",
        "    tensor_image = tf.transpose(tensor_image, perm=[1, 2, 0])\n",
        "    tensor_label = tf.convert_to_tensor(label)\n",
        "    tensor_label = tf.transpose(tensor_label, perm=[1, 2, 0])\n",
        "\n",
        "    if tensor_label.shape[:2] != tensor_image.shape[:2]:\n",
        "      tensor_image, tensor_label = resize_img(tensor_image, tensor_label)\n",
        "\n",
        "    return tensor_image, tensor_label\n",
        "\n",
        "\n",
        "def _int64_feature(value):\n",
        "    return tf.train.Feature(int64_list=tf.train.Int64List(value=value))\n",
        "\n",
        "\n",
        "def _float_feature(value):\n",
        "    return tf.train.Feature(float_list=tf.train.FloatList(value=value))\n",
        "\n",
        "def create_tfrecord(image, label):\n",
        "    image = clip_tiff(image)\n",
        "    label = clip_tiff(label)\n",
        "    image, label = process_input(image, label)\n",
        "    image_dims = image.shape\n",
        "    label_dims = label.shape\n",
        "\n",
        "    image = tf.reshape(image, [-1])  # flatten to 1D array\n",
        "    label = tf.reshape(label, [-1])  # flatten to 1D array\n",
        "\n",
        "    return tf.train.Example(\n",
        "        features=tf.train.Features(\n",
        "            feature={\n",
        "                \"image\": _float_feature(image.numpy()),\n",
        "                \"image_shape\": _int64_feature(\n",
        "                    [image_dims[0], image_dims[1], image_dims[2]]\n",
        "                ),\n",
        "                \"label\": _float_feature(label.numpy()),\n",
        "                \"label_shape\": _int64_feature([label_dims[0], label_dims[1], label_dims[2]]),\n",
        "            }\n",
        "        )\n",
        "    ).SerializeToString()"
      ],
      "metadata": {
        "id": "GwzDE95kC-pG"
      },
      "execution_count": 4,
      "outputs": []
    },
    {
      "cell_type": "code",
      "source": [
        "images = glob.glob(folder_path + '*.tif') #list of filelocations of all images\n",
        "\n",
        "number_of_images = len(images)\n",
        "\n",
        "labels = glob.glob(label_folder + '*.tif')\n",
        "\n",
        "labels = labels*number_of_images\n"
      ],
      "metadata": {
        "id": "d0gqZehQD7yS"
      },
      "execution_count": 6,
      "outputs": []
    },
    {
      "cell_type": "code",
      "source": [
        "def write_tfrecords2(images, labels, output_directory):\n",
        "    os.makedirs(output_directory, exist_ok=True)\n",
        "    for image, label in zip(images, labels):\n",
        "        output_file = os.path.join(output_directory, f\"{image.replace(folder_path,'').replace('.tif','')}_tfrecord.tfrecord\")\n",
        "        #print(output_file)\n",
        "        with tf.io.TFRecordWriter(output_file) as writer:\n",
        "            tf_example = create_tfrecord(image, label)\n",
        "            writer.write(tf_example)\n",
        "\n",
        "\n",
        "write_tfrecords2(images, labels, output_dir)\n"
      ],
      "metadata": {
        "colab": {
          "base_uri": "https://localhost:8080/"
        },
        "id": "iAS5epHiFF4L",
        "outputId": "aba02c62-9a0a-43a9-9e9a-687b8949ee96"
      },
      "execution_count": 21,
      "outputs": [
        {
          "output_type": "stream",
          "name": "stdout",
          "text": [
            "/content/gdrive/MyDrive/exp/tf_records/area2_0803_2022_8bands_tfrecord.tfrecord\n",
            "/content/gdrive/MyDrive/exp/tf_records/area2_0619_2023_8bands_composite_tfrecord.tfrecord\n"
          ]
        }
      ]
    },
    {
      "cell_type": "code",
      "source": [
        "# def create_dataset(tfrecords_dir):\n",
        "#   tfrecord_files = [os.path.join(input_directory, file) for file in os.listdir(input_directory) if file.endswith('.tfrecord')]\n",
        "#   dataset = tf.data.TFRecordDataset(tfrecord_files)\n",
        "#   dataset = dataset.map(parse_tfr)\n",
        "#   return dataset"
      ],
      "metadata": {
        "id": "8gi8qxm8FW3k"
      },
      "execution_count": null,
      "outputs": []
    },
    {
      "cell_type": "markdown",
      "source": [
        "# Phase 2: Convert the image-label pair to image-patch and label-patch tensors and prepare to load into model"
      ],
      "metadata": {
        "id": "GCGV_94-V_EM"
      }
    },
    {
      "cell_type": "code",
      "source": [
        "input_directory = '/content/gdrive/MyDrive/exp/tf_records/'"
      ],
      "metadata": {
        "id": "nfrth3g3WfvK"
      },
      "execution_count": 2,
      "outputs": []
    },
    {
      "cell_type": "code",
      "source": [
        "import tensorflow as tf\n",
        "import os"
      ],
      "metadata": {
        "id": "XVqxHQ684g1H"
      },
      "execution_count": 3,
      "outputs": []
    },
    {
      "cell_type": "code",
      "source": [
        "feature_description = {\n",
        "    \"image\": tf.io.VarLenFeature(tf.float32),\n",
        "    \"image_shape\": tf.io.VarLenFeature(tf.int64),\n",
        "    \"label\": tf.io.VarLenFeature(tf.float32),\n",
        "    \"label_shape\": tf.io.VarLenFeature(tf.int64),\n",
        "}\n",
        "\n",
        "def parse(serialized_examples):\n",
        "    return tf.io.parse_example(serialized_examples, feature_description)\n"
      ],
      "metadata": {
        "id": "h7DJQnvwWKX4"
      },
      "execution_count": 4,
      "outputs": []
    },
    {
      "cell_type": "code",
      "source": [
        "def create_dataset(tfrecords_dir):\n",
        "  tfrecord_files = [os.path.join(input_directory, file) for file in os.listdir(input_directory) if file.endswith('.tfrecord')]\n",
        "  dataset = tf.data.TFRecordDataset(tfrecord_files)\n",
        "  dataset = dataset.map(parse)\n",
        "  return dataset"
      ],
      "metadata": {
        "id": "tCP83tHXWccs"
      },
      "execution_count": 5,
      "outputs": []
    },
    {
      "cell_type": "code",
      "source": [
        "#pre-processing functions\n",
        "\n",
        "def bandwise_normalize(input_tensor, epsilon=1e-8):\n",
        "    # Calculate the minimum and maximum values along the channel axis\n",
        "    min_val = tf.math.reduce_min(input_tensor, axis=2, keepdims=True)\n",
        "    max_val = tf.math.reduce_max(input_tensor, axis=2, keepdims=True)\n",
        "\n",
        "    # Check for potential numerical instability\n",
        "    denom = max_val - min_val\n",
        "    denom = tf.where(tf.abs(denom) < epsilon, epsilon, denom)\n",
        "\n",
        "    # Normalize the tensor band-wise to the range [0, 1]\n",
        "    normalized_tensor = (input_tensor - min_val) / denom\n",
        "\n",
        "    return normalized_tensor\n",
        "\n",
        "def pad_to_multiple(image, TILE_HT, TILE_WD):\n",
        "    # Get the current dimensions\n",
        "    height, width, channels = image.shape\n",
        "\n",
        "    # Calculate the target dimensions\n",
        "    target_height = tf.cast(tf.math.ceil(height / TILE_HT) * TILE_HT, tf.int32)\n",
        "    target_width = tf.cast(tf.math.ceil(width / TILE_WD) * TILE_WD, tf.int32)\n",
        "\n",
        "    # Calculate the amount of padding\n",
        "    pad_height = target_height - height\n",
        "    pad_width = target_width - width\n",
        "\n",
        "    # Pad the image\n",
        "    padded_image = tf.image.resize_with_crop_or_pad(image, target_height, target_width)\n",
        "\n",
        "    return padded_image\n",
        "\n",
        "def tile_image(fullimg, CHANNELS=1, TILE_HT=128, TILE_WD=128):\n",
        "    fullimg = pad_to_multiple(fullimg, TILE_HT, TILE_WD)\n",
        "    images = tf.expand_dims(fullimg, axis=0)\n",
        "    tiles = tf.image.extract_patches(\n",
        "        images=images,\n",
        "        sizes=[1, TILE_HT, TILE_WD, 1],\n",
        "        strides=[1, TILE_HT, TILE_WD, 1],\n",
        "        rates=[1, 1, 1, 1],\n",
        "        padding='VALID')\n",
        "    #print(tiles.shape)\n",
        "\n",
        "    tiles = tf.squeeze(tiles, axis=0)\n",
        "    nrows = tiles.shape[0]\n",
        "    ncols = tiles.shape[1]\n",
        "    #print(tiles.shape)\n",
        "    tiles = tf.reshape(tiles, [nrows, ncols, TILE_HT, TILE_WD, CHANNELS])\n",
        "    print(tiles.shape)\n",
        "    return tiles\n",
        "\n",
        "def sampling(label_image, threshold_percentage = 99.9):\n",
        "\n",
        "    num_zeros = tf.reduce_sum(tf.cast(tf.equal(label_image, 0), tf.float32), axis=[2, 3, 4])\n",
        "\n",
        "    # Calculate the total number of elements in each patch\n",
        "    total_elements = tf.cast(tf.reduce_prod(tf.shape(label_image)[2:]), tf.float32)\n",
        "\n",
        "    # Calculate the percentage of zeros in each patch\n",
        "    percentage_zeros = (num_zeros / total_elements) * 100.0\n",
        "\n",
        "    boolean_mask = percentage_zeros <= threshold_percentage\n",
        "    # Apply the threshold logic\n",
        "    sampled_tensor = tf.cast(percentage_zeros >= threshold_percentage, tf.int32)\n",
        "\n",
        "    return boolean_mask, sampled_tensor\n",
        "\n",
        "def one_hot_encoding(label_tensor):\n",
        "    # Assuming your pixel values are float labels\n",
        "    float_labels = tf.squeeze(label_tensor, axis=-1)  # Assuming channel dimension is the last one\n",
        "\n",
        "    # Determine the number of classes dynamically\n",
        "    num_classes = tf.cast(tf.reduce_max(float_labels) + 1, tf.int32)\n",
        "\n",
        "    # One-hot encode each image\n",
        "    one_hot_encoded_images = tf.one_hot(tf.dtypes.cast(float_labels, tf.int32), depth=num_classes)\n",
        "\n",
        "    # Print the shape of the resulting tensor and the number of classes\n",
        "    #print(\"Shape of one-hot encoded images:\", one_hot_encoded_images.shape)\n",
        "    #print(\"Number of classes:\", num_classes)\n",
        "\n",
        "    return one_hot_encoded_images\n"
      ],
      "metadata": {
        "id": "OVd-gL-7XOLj"
      },
      "execution_count": 6,
      "outputs": []
    },
    {
      "cell_type": "code",
      "source": [
        "dataset = create_dataset(input_directory)"
      ],
      "metadata": {
        "id": "3ufBinsn8D5E"
      },
      "execution_count": 8,
      "outputs": []
    },
    {
      "cell_type": "code",
      "source": [
        "image_patch_tensors_list = []\n",
        "label_patch_tensors_list = []\n",
        "\n",
        "for parsed_example in dataset:\n",
        "\n",
        "    image_shape = tf.sparse.to_dense(parsed_example[\"image_shape\"])\n",
        "    image = tf.reshape(tf.sparse.to_dense(parsed_example[\"image\"]), image_shape)\n",
        "    label_shape = tf.sparse.to_dense(parsed_example[\"label_shape\"])\n",
        "    label = tf.reshape(tf.sparse.to_dense(parsed_example[\"label\"]), label_shape)\n",
        "\n",
        "    #image normalization\n",
        "    image = bandwise_normalize(image)\n",
        "\n",
        "    #image and label patching\n",
        "    image_patches = tile_image(image,8,256,256)\n",
        "    label_patches = tile_image(label,1,256,256)\n",
        "\n",
        "    #sampling\n",
        "    sampled_mask, sampled_tensor = sampling(label_patches)\n",
        "    sampled_image_patches = tf.boolean_mask(image_patches, sampled_mask)\n",
        "    sampled_label_patches = tf.boolean_mask(label_patches, sampled_mask)\n",
        "\n",
        "    #one-hot encoding\n",
        "    sampled_label_patches = one_hot_encoding(sampled_label_patches)\n",
        "\n",
        "    #save them in the list\n",
        "    image_patch_tensors_list.append(sampled_image_patches)\n",
        "    label_patch_tensors_list.append(sampled_label_patches)\n",
        "\n",
        "\n",
        "# Combine images and labels from different pairs\n",
        "combined_images = tf.concat(image_patch_tensors_list, axis=0)\n",
        "combined_labels = tf.concat(label_patch_tensors_list, axis=0)\n",
        "\n",
        "# Shuffle the combined data\n",
        "combined_dataset = tf.data.Dataset.from_tensor_slices((combined_images, combined_labels))\n",
        "combined_dataset = combined_dataset.shuffle(buffer_size=combined_images.shape[0])\n",
        "\n",
        "#Split the combined dataset into training and validation sets\n",
        "train_size = int(0.8 * combined_images.shape[0])\n",
        "train_dataset = combined_dataset.take(train_size)\n",
        "val_dataset = combined_dataset.skip(train_size)\n",
        "\n",
        "#Batch the data using TensorFlow's Dataset API\n",
        "batch_size = 32  # Choose an appropriate batch size\n",
        "train_dataset = train_dataset.batch(batch_size)\n",
        "val_dataset = val_dataset.batch(batch_size)\n"
      ],
      "metadata": {
        "colab": {
          "base_uri": "https://localhost:8080/"
        },
        "id": "7ReQdGERXDlL",
        "outputId": "ffdc57bd-467b-486b-ba65-2ab0ea8eb838"
      },
      "execution_count": 9,
      "outputs": [
        {
          "output_type": "stream",
          "name": "stdout",
          "text": [
            "(15, 18, 256, 256, 8)\n",
            "(15, 18, 256, 256, 1)\n",
            "(15, 18, 256, 256, 8)\n",
            "(15, 18, 256, 256, 1)\n"
          ]
        }
      ]
    },
    {
      "cell_type": "markdown",
      "source": [
        "# Phase 3: train a model with the prepared dataset"
      ],
      "metadata": {
        "id": "VtBSvnqyAhrM"
      }
    },
    {
      "cell_type": "code",
      "source": [
        "from tensorflow import keras\n",
        "from tensorflow.keras import layers\n",
        "\n",
        "\n",
        "def get_model(img_size, num_classes):\n",
        "    inputs = keras.Input(shape=img_size + (8,))\n",
        "    x = inputs\n",
        "\n",
        "    # Encoder\n",
        "    conv1 = layers.Conv2D(16, 3, activation=\"relu\", padding=\"same\")(x)\n",
        "    conv1 = layers.Conv2D(16, 3, activation=\"relu\", padding=\"same\")(conv1)\n",
        "    pool1 = layers.MaxPooling2D(pool_size=(2, 2))(conv1)\n",
        "\n",
        "    conv2 = layers.Conv2D(32, 3, activation=\"relu\", padding=\"same\")(pool1)\n",
        "    conv2 = layers.Conv2D(32, 3, activation=\"relu\", padding=\"same\")(conv2)\n",
        "    pool2 = layers.MaxPooling2D(pool_size=(2, 2))(conv2)\n",
        "\n",
        "    # Bottleneck\n",
        "    conv3 = layers.Conv2D(64, 3, activation=\"relu\", padding=\"same\")(pool2)\n",
        "    conv3 = layers.Conv2D(64, 3, activation=\"relu\", padding=\"same\")(conv3)\n",
        "\n",
        "    # Decoder\n",
        "    up4 = layers.UpSampling2D(size=(2, 2))(conv3)\n",
        "    concat4 = layers.Concatenate()([up4, conv2])\n",
        "    conv4 = layers.Conv2D(32, 3, activation=\"relu\", padding=\"same\")(concat4)\n",
        "    conv4 = layers.Conv2D(32, 3, activation=\"relu\", padding=\"same\")(conv4)\n",
        "\n",
        "    up5 = layers.UpSampling2D(size=(2, 2))(conv4)\n",
        "    concat5 = layers.Concatenate()([up5, conv1])\n",
        "    conv5 = layers.Conv2D(16, 3, activation=\"relu\", padding=\"same\")(concat5)\n",
        "    conv5 = layers.Conv2D(16, 3, activation=\"relu\", padding=\"same\")(conv5)\n",
        "\n",
        "    # Output\n",
        "    outputs = layers.Conv2D(num_classes, 1, activation=\"softmax\")(conv5)\n",
        "\n",
        "    model = keras.Model(inputs, outputs)\n",
        "    return model"
      ],
      "metadata": {
        "id": "1ngEZoFiBEov"
      },
      "execution_count": 12,
      "outputs": []
    },
    {
      "cell_type": "code",
      "source": [
        "patch_size = 256\n",
        "img_size = (patch_size, patch_size)\n",
        "num_classes = 23\n",
        "model = get_model(img_size=img_size, num_classes=num_classes)\n",
        "print(model.summary())"
      ],
      "metadata": {
        "colab": {
          "base_uri": "https://localhost:8080/"
        },
        "id": "vBWUA3GHCD4s",
        "outputId": "42c77df1-ac07-46f9-a559-85db5a4fb6d7"
      },
      "execution_count": 13,
      "outputs": [
        {
          "output_type": "stream",
          "name": "stdout",
          "text": [
            "Model: \"model\"\n",
            "__________________________________________________________________________________________________\n",
            " Layer (type)                Output Shape                 Param #   Connected to                  \n",
            "==================================================================================================\n",
            " input_1 (InputLayer)        [(None, 256, 256, 8)]        0         []                            \n",
            "                                                                                                  \n",
            " conv2d (Conv2D)             (None, 256, 256, 16)         1168      ['input_1[0][0]']             \n",
            "                                                                                                  \n",
            " conv2d_1 (Conv2D)           (None, 256, 256, 16)         2320      ['conv2d[0][0]']              \n",
            "                                                                                                  \n",
            " max_pooling2d (MaxPooling2  (None, 128, 128, 16)         0         ['conv2d_1[0][0]']            \n",
            " D)                                                                                               \n",
            "                                                                                                  \n",
            " conv2d_2 (Conv2D)           (None, 128, 128, 32)         4640      ['max_pooling2d[0][0]']       \n",
            "                                                                                                  \n",
            " conv2d_3 (Conv2D)           (None, 128, 128, 32)         9248      ['conv2d_2[0][0]']            \n",
            "                                                                                                  \n",
            " max_pooling2d_1 (MaxPoolin  (None, 64, 64, 32)           0         ['conv2d_3[0][0]']            \n",
            " g2D)                                                                                             \n",
            "                                                                                                  \n",
            " conv2d_4 (Conv2D)           (None, 64, 64, 64)           18496     ['max_pooling2d_1[0][0]']     \n",
            "                                                                                                  \n",
            " conv2d_5 (Conv2D)           (None, 64, 64, 64)           36928     ['conv2d_4[0][0]']            \n",
            "                                                                                                  \n",
            " up_sampling2d (UpSampling2  (None, 128, 128, 64)         0         ['conv2d_5[0][0]']            \n",
            " D)                                                                                               \n",
            "                                                                                                  \n",
            " concatenate (Concatenate)   (None, 128, 128, 96)         0         ['up_sampling2d[0][0]',       \n",
            "                                                                     'conv2d_3[0][0]']            \n",
            "                                                                                                  \n",
            " conv2d_6 (Conv2D)           (None, 128, 128, 32)         27680     ['concatenate[0][0]']         \n",
            "                                                                                                  \n",
            " conv2d_7 (Conv2D)           (None, 128, 128, 32)         9248      ['conv2d_6[0][0]']            \n",
            "                                                                                                  \n",
            " up_sampling2d_1 (UpSamplin  (None, 256, 256, 32)         0         ['conv2d_7[0][0]']            \n",
            " g2D)                                                                                             \n",
            "                                                                                                  \n",
            " concatenate_1 (Concatenate  (None, 256, 256, 48)         0         ['up_sampling2d_1[0][0]',     \n",
            " )                                                                   'conv2d_1[0][0]']            \n",
            "                                                                                                  \n",
            " conv2d_8 (Conv2D)           (None, 256, 256, 16)         6928      ['concatenate_1[0][0]']       \n",
            "                                                                                                  \n",
            " conv2d_9 (Conv2D)           (None, 256, 256, 16)         2320      ['conv2d_8[0][0]']            \n",
            "                                                                                                  \n",
            " conv2d_10 (Conv2D)          (None, 256, 256, 23)         391       ['conv2d_9[0][0]']            \n",
            "                                                                                                  \n",
            "==================================================================================================\n",
            "Total params: 119367 (466.28 KB)\n",
            "Trainable params: 119367 (466.28 KB)\n",
            "Non-trainable params: 0 (0.00 Byte)\n",
            "__________________________________________________________________________________________________\n",
            "None\n"
          ]
        }
      ]
    },
    {
      "cell_type": "code",
      "source": [
        "model.compile(optimizer=\"adam\", loss=\"categorical_crossentropy\")\n",
        "\n",
        "callbacks = [\n",
        "    keras.callbacks.ModelCheckpoint(\"tf_record_model.hdf5\",\n",
        "                                    save_best_only=True)\n",
        "]\n",
        "\n",
        "model_history = model.fit(train_dataset,\n",
        "                    epochs=5,\n",
        "                    callbacks=callbacks,\n",
        "                    batch_size=32,\n",
        "                    validation_data= val_dataset)\n",
        "\n",
        "model.save('/content/gdrive/MyDrive/exp/tf_record_model.hdf5')\n"
      ],
      "metadata": {
        "colab": {
          "base_uri": "https://localhost:8080/"
        },
        "id": "8QIgeZQaCprc",
        "outputId": "ae106311-4f99-48a5-bba2-7b4765c22557"
      },
      "execution_count": 14,
      "outputs": [
        {
          "output_type": "stream",
          "name": "stdout",
          "text": [
            "Epoch 1/5\n",
            "6/6 [==============================] - ETA: 0s - loss: 3.0289 "
          ]
        },
        {
          "output_type": "stream",
          "name": "stderr",
          "text": [
            "/usr/local/lib/python3.10/dist-packages/keras/src/engine/training.py:3079: UserWarning: You are saving your model as an HDF5 file via `model.save()`. This file format is considered legacy. We recommend using instead the native Keras format, e.g. `model.save('my_model.keras')`.\n",
            "  saving_api.save_model(\n"
          ]
        },
        {
          "output_type": "stream",
          "name": "stdout",
          "text": [
            "\b\b\b\b\b\b\b\b\b\b\b\b\b\b\b\b\b\b\b\b\b\b\b\b\b\b\b\b\b\b\b\b\b\b\b\b\b\b\b\b\b\b\b\b\b\b\b\b\b\b\b\b\b\b\b\b\b\b\b\b\b\r6/6 [==============================] - 118s 18s/step - loss: 3.0289 - val_loss: 2.3075\n",
            "Epoch 2/5\n",
            "6/6 [==============================] - 106s 17s/step - loss: 1.4349 - val_loss: 1.4494\n",
            "Epoch 3/5\n",
            "6/6 [==============================] - 110s 18s/step - loss: 0.8624 - val_loss: 0.8604\n",
            "Epoch 4/5\n",
            "6/6 [==============================] - 107s 17s/step - loss: 0.6714 - val_loss: 0.7488\n",
            "Epoch 5/5\n",
            "6/6 [==============================] - 120s 20s/step - loss: 0.5631 - val_loss: 0.4779\n"
          ]
        }
      ]
    },
    {
      "cell_type": "code",
      "source": [
        "import matplotlib.pyplot as plt\n",
        "\n",
        "# output model statistics\n",
        "loss = model_history.history['loss']\n",
        "val_loss = model_history.history['val_loss']\n",
        "\n",
        "epochs = 5\n",
        "epochs = range(epochs)\n",
        "\n",
        "plt.figure()\n",
        "plt.plot(epochs, loss, 'r', label='Training loss')\n",
        "plt.plot(epochs, val_loss, 'bo', label='Validation loss')\n",
        "plt.title('Training and Validation Loss')\n",
        "plt.xlabel('Epoch')\n",
        "plt.ylabel('Loss Value')\n",
        "plt.ylim([0, 4])\n",
        "plt.legend()\n",
        "plt.show()"
      ],
      "metadata": {
        "colab": {
          "base_uri": "https://localhost:8080/",
          "height": 472
        },
        "id": "xW9xjNKTDTDn",
        "outputId": "1a92cbf3-8536-45c6-aea8-1167e1d75ba1"
      },
      "execution_count": 17,
      "outputs": [
        {
          "output_type": "display_data",
          "data": {
            "text/plain": [
              "<Figure size 640x480 with 1 Axes>"
            ],
            "image/png": "[encoded data removed]"
          },
          "metadata": {}
        }
      ]
    },
    {
      "cell_type": "markdown",
      "source": [
        "# Phase 4: Metrics and Evaluation"
      ],
      "metadata": {
        "id": "VN8b3DnsGVCl"
      }
    },
    {
      "cell_type": "markdown",
      "source": [
        "# Phase 5: Prediction"
      ],
      "metadata": {
        "id": "ZECUDQ0lIgiQ"
      }
    }
  ]
}