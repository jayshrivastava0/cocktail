{
  "nbformat": 4,
  "nbformat_minor": 0,
  "metadata": {
    "colab": {
      "provenance": []
    },
    "kernelspec": {
      "name": "python3",
      "display_name": "Python 3"
    }
  },
  "cells": [
    {
      "cell_type": "code",
      "source": [
        "# Module to add classifier output to background image (IR intensity)\n",
        "# Include filtering (erosion) to remove small pixel clusters\n",
        "# Include contrast enhancement and saturation adjustment\n",
        "# Replacement for time consuming photoshop editing\n",
        "# April 2023"
      ],
      "metadata": {
        "id": "Ir3eqitDaO-Z"
      },
      "execution_count": null,
      "outputs": []
    },
    {
      "cell_type": "markdown",
      "source": [
        "Notebook with sample output here: \n",
        "https://colab.research.google.com/drive/1UcF1tOSiWtqGGRSHvhXZ8xEEfNdFzzT5?usp=sharing"
      ],
      "metadata": {
        "id": "UP4Vi32VeKEQ"
      }
    },
    {
      "cell_type": "code",
      "metadata": {
        "colab": {
          "base_uri": "https://localhost:8080/"
        },
        "id": "WeSTG5M1i25R",
        "outputId": "8af5c22e-5c6b-46da-bfb2-43f12de61dd2"
      },
      "source": [
        "# Link a google drive to the notebook, if required\n",
        "import os, sys\n",
        "from google.colab import drive\n",
        "drive.mount('/content/drive')\n",
        "#change this based on your setup\n",
        "root = '/content/drive/MyDrive/Colab/research/'\n",
        "sys.path.append(root +'code/')\n",
        "datapath =  root + 'data/'\n",
        "print('This is the datapath: ', datapath)"
      ],
      "execution_count": null,
      "outputs": [
        {
          "output_type": "stream",
          "name": "stdout",
          "text": [
            "Mounted at /content/drive\n",
            "This is the datapath:  /content/drive/MyDrive/Colab/research/data/\n"
          ]
        }
      ]
    },
    {
      "cell_type": "code",
      "source": [
        "# These modules work directly with CoLab\n",
        "import cv2\n",
        "import numpy\n",
        "from google.colab.patches import cv2_imshow\n",
        "import matplotlib.pyplot as plt\n",
        "from osgeo import gdal\n",
        "import matplotlib.pyplot as plt"
      ],
      "metadata": {
        "id": "1IVyhDm2gw-B"
      },
      "execution_count": null,
      "outputs": []
    },
    {
      "cell_type": "code",
      "source": [
        "# Define the image inputs. Put the assets in the data directory\n",
        "# Planet Labs asset\n",
        "ps = 'area2_0530_2022_8bands.tif'\n",
        "# Classifier output from COCKTAIL workflow (copied from PCloud)\n",
        "image =\"area2_0530_2022_8bands_19-04-2023-17-53_raster_classified_color_svm.png\""
      ],
      "metadata": {
        "id": "kLlor7gbfeBU"
      },
      "execution_count": null,
      "outputs": []
    },
    {
      "cell_type": "code",
      "source": [
        "# Get IR and perform filtering; show results\n",
        "# https://opensourceoptions.com/blog/gdal-python-tutorial-reading-and-writing-raster-datasets/\n",
        "# https://developers.planet.com/docs/apis/data/sensors/\n",
        "# https://here.isnew.info/how-to-save-a-numpy-array-as-a-geotiff-file-using-gdal.html\n",
        "\n",
        "img_brg = cv2.imread(datapath + image)\n",
        "img = cv2.cvtColor(img_brg, cv2.COLOR_BGR2RGB)\n",
        "#name = 'agroforestry_latest.png'\n",
        "#name = 'forestry.png'\n",
        "name = 'settlement_latest.png'\n",
        "\n",
        "ks = 2     # seems reasonable (also ok: 1, 2, 3)\n",
        "kernel_1 = numpy.ones((ks, ks), numpy.uint8)\n",
        "img_eroded = cv2.erode(img, kernel_1)\n",
        "\n",
        "bands = gdal.Open(datapath + ps)\n",
        "#NIR on SuperDove: band8; on Dove: band4\n",
        "#band4 = bands.GetRasterBand(4)\n",
        "\n",
        "band8 = bands.GetRasterBand(8)\n",
        "nir = band8.ReadAsArray()\n",
        "\n",
        "rows = 1\n",
        "columns = 3\n",
        "fig = plt.figure(figsize=(16,16), dpi=80)\n",
        "images = [nir, img, img_eroded]\n",
        "\n",
        "j = 1\n",
        "for i in range (0, len(images)):\n",
        "  fig.add_subplot(rows, columns, j)\n",
        "  plt.imshow(images[i], cmap = 'gray')\n",
        "  j = j+1\n",
        "\n",
        "plt.imsave(datapath + \"nir.png\", nir, cmap = 'gray')\n",
        "plt.imsave(datapath + name, img_eroded, cmap = 'gray')"
      ],
      "metadata": {
        "id": "s_YxtUwaim-2"
      },
      "execution_count": null,
      "outputs": []
    },
    {
      "cell_type": "code",
      "source": [
        "# Check image dimensions pior to arithmetic operations\n",
        "\n",
        "background = cv2.imread(datapath + 'nir.png')\n",
        "\n",
        "#name = 'forestry.png'\n",
        "#name = 'agroforestry_latest.png'\n",
        "name = 'settlement_latest.png'\n",
        "category = cv2.imread(datapath + name)\n",
        "\n",
        "print(background.shape)\n",
        "print(category.shape)"
      ],
      "metadata": {
        "colab": {
          "base_uri": "https://localhost:8080/"
        },
        "id": "ZJOMupwjDwTm",
        "outputId": "b230edea-8658-4ad3-db25-ecf413f780f9"
      },
      "execution_count": null,
      "outputs": [
        {
          "output_type": "stream",
          "name": "stdout",
          "text": [
            "(4019, 4618, 3)\n",
            "(4019, 4618, 3)\n"
          ]
        }
      ]
    },
    {
      "cell_type": "code",
      "source": [
        "# V1 - add classification result with NIR\n",
        "overlay1_brg = cv2.add(background, category)\n",
        "overlay1 = cv2.cvtColor(overlay1_brg, cv2.COLOR_BGR2RGB)\n",
        "vnir1 = '+V1nir.png'\n",
        "\n",
        "# V2 - add classification with NIR, weighted\n",
        "a = 0.3     # 0.35 ...  factor for the background\n",
        "b = 1 - a   # resultant factor for the forground (selected category)\n",
        "c = 0\n",
        "\n",
        "overlay2_brg = cv2.addWeighted(background, a, category, b, c)\n",
        "overlay2 = cv2.cvtColor(overlay2_brg, cv2.COLOR_BGR2RGB)\n",
        "vnir2 = '+V2nir.png'\n",
        "\n",
        "rows = 1\n",
        "columns = 2\n",
        "fig = plt.figure(figsize=(16,16), dpi=80)\n",
        "images = [overlay1, overlay2]\n",
        "\n",
        "j = 1\n",
        "for i in range (0, len(images)):\n",
        "  fig.add_subplot(rows, columns, j)\n",
        "  plt.imshow(images[i], cmap = 'gray')\n",
        "  j = j+1\n",
        "\n",
        "cv2.imwrite(datapath + (name.split('.png')[0] + vnir1), overlay1)\n",
        "cv2.imwrite(datapath + (name.split('.png')[0] + vnir2), overlay2)"
      ],
      "metadata": {
        "id": "KZIr9uXbU7RW"
      },
      "execution_count": null,
      "outputs": []
    },
    {
      "cell_type": "code",
      "source": [
        "# Increase contrast across a range of settings\n",
        "# https://docs.opencv.org/3.4/d3/dc1/tutorial_basic_linear_transform.html\n",
        "\n",
        "v1nir = '+V1nir.png'\n",
        "V1 = name.split('.png')[0] + v1nir\n",
        "image1_brg = cv2.imread(datapath + V1)\n",
        "image1 = cv2.cvtColor(image1_brg, cv2.COLOR_BGR2RGB)\n",
        "\n",
        "v2nir = '+V2nir.png'\n",
        "V2 = name.split('.png')[0] + v2nir\n",
        "image2_brg = cv2.imread(datapath + V2)\n",
        "image2 = cv2.cvtColor(image2_brg, cv2.COLOR_BGR2RGB)\n",
        "\n",
        "# set a rage for the key parameter to vary\n",
        "alpha = [1.0, 1.25, 1.5, 2.0, 2.5, 3.0]\n",
        "\n",
        "adjusted1 = []\n",
        "adjusted2 = []\n",
        "for i in range(0, len(alpha)):\n",
        "  t = cv2.convertScaleAbs(image1, alpha=alpha[i], beta=0)\n",
        "  adjusted1.append(cv2.cvtColor(t, cv2.COLOR_BGR2RGB))\n",
        "  v = cv2.convertScaleAbs(image2, alpha=alpha[i], beta=0)\n",
        "  adjusted2.append(cv2.cvtColor(v, cv2.COLOR_BGR2RGB))\n",
        "\n",
        "rows = 2\n",
        "columns = int(len(alpha) / rows)\n",
        "fig = plt.figure(figsize=(24,24), dpi=80)\n",
        "\n",
        "j = 1\n",
        "for i in range (0, len(adjusted1)):\n",
        "  fig.add_subplot(rows, columns, j)\n",
        "  fig.tight_layout()\n",
        "  plt.title(\"adjusted1_\" + str(i))\n",
        "  plt.imshow(adjusted1[i], cmap = 'gray')\n",
        "  j = j+1\n"
      ],
      "metadata": {
        "id": "os9tfroE6mql"
      },
      "execution_count": null,
      "outputs": []
    },
    {
      "cell_type": "code",
      "source": [
        "#pick the best one\n",
        "choice = adjusted1[0]\n",
        "plt.imsave(datapath + \"nir1_contrastadjusted.png\", choice, cmap = 'gray')"
      ],
      "metadata": {
        "id": "u08ykBCmQRv_"
      },
      "execution_count": null,
      "outputs": []
    },
    {
      "cell_type": "code",
      "source": [
        "#same process for the second image set\n",
        "rows = 2\n",
        "columns = int(len(alpha) / rows)\n",
        "fig = plt.figure(figsize=(24,24), dpi=80)\n",
        "                 \n",
        "j = 1\n",
        "for i in range (0, len(adjusted2)):\n",
        "  fig.add_subplot(rows, columns, j)\n",
        "  fig.tight_layout()\n",
        "  plt.title(\"adjusted2_\" + str(i))\n",
        "  plt.imshow(adjusted2[i], cmap = 'gray')\n",
        "  j = j+1\n"
      ],
      "metadata": {
        "id": "lQ8RmtBUPHhZ"
      },
      "execution_count": null,
      "outputs": []
    },
    {
      "cell_type": "code",
      "source": [
        "# Pick the best one\n",
        "choice = adjusted2[3]\n",
        "plt.imsave(datapath + \"nir2_contrastadjusted.png\", choice, cmap = 'gray')"
      ],
      "metadata": {
        "id": "7y4bO21SSrGn"
      },
      "execution_count": null,
      "outputs": []
    },
    {
      "cell_type": "code",
      "source": [
        "# Adjust saturation and the previous best solutions - transfer frm opencv defaul BRG to HSV space and then to RGB\n",
        "\n",
        "nir1 = \"nir1_contrastadjusted.png\"\n",
        "nimage1 = cv2.imread(datapath + nir1)\n",
        "\n",
        "nir2 = \"nir2_contrastadjusted.png\"\n",
        "nimage2 = cv2.imread(datapath + nir2)\n",
        "\n",
        "# Increase saturation ; multiple by a factor to change the saturation\n",
        "# Multiple by a factor of less than 1 to reduce the brightness \n",
        "sf1 = 1.0\n",
        "bf1 = 0.8\n",
        "\n",
        "sf2 = 1.2\n",
        "bf2 = 0.7\n",
        "\n",
        "# Transform BRG to HSV\n",
        "hsv1 = cv2.cvtColor(nimage1,cv2.COLOR_BGR2HSV)\n",
        "# first entry (1) is saturation; second one (2) is brightness\n",
        "hsv1[...,1] = hsv1[...,1]*sf1\n",
        "hsv1[...,2] = hsv1[...,2]*bf1\n",
        "simage1=cv2.cvtColor(hsv1,cv2.COLOR_HSV2RGB)\n",
        "\n",
        "hsv2 = cv2.cvtColor(nimage2,cv2.COLOR_BGR2HSV)\n",
        "hsv2[...,1] = hsv2[...,1]*sf2\n",
        "hsv2[...,2] = hsv2[...,2]*bf2\n",
        "simage2=cv2.cvtColor(hsv1,cv2.COLOR_HSV2RGB)\n",
        "\n",
        "rows = 1\n",
        "columns = 2\n",
        "fig = plt.figure(figsize=(16,16), dpi=80)\n",
        "images = [simage1, simage2]\n",
        "\n",
        "j = 1\n",
        "for i in range (0, len(images)):\n",
        "  fig.add_subplot(rows, columns, j)\n",
        "  plt.title(\"contrast+saturation_adjusted_\" + str(i))\n",
        "  plt.imshow(images[i], cmap = 'gray')\n",
        "  j = j+1\n",
        "\n",
        "plt.imsave(datapath + \"nir1_contrastadjusted_sat.png\", simage1, cmap = 'gray')\n",
        "plt.imsave(datapath + \"nir2_contrastadjusted_sat.png\", simage2, cmap = 'gray')"
      ],
      "metadata": {
        "id": "85P-BRn5srwB"
      },
      "execution_count": null,
      "outputs": []
    },
    {
      "cell_type": "code",
      "source": [
        "# Save the final choice\n",
        "finalchoice = images[1]\n",
        "plt.imsave(datapath + \"nir_contrastadjusted_sat.png\", finalchoice, cmap = 'gray')"
      ],
      "metadata": {
        "id": "HvUXuPqfUU7R"
      },
      "execution_count": null,
      "outputs": []
    }
  ]
}